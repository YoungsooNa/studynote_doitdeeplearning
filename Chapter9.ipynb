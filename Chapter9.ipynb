{
  "nbformat": 4,
  "nbformat_minor": 0,
  "metadata": {
    "colab": {
      "name": "Chapter9.ipynb",
      "provenance": []
    },
    "kernelspec": {
      "name": "python3",
      "display_name": "Python 3"
    }
  },
  "cells": [
    {
      "cell_type": "markdown",
      "metadata": {
        "id": "YALnZGIHejg6",
        "colab_type": "text"
      },
      "source": [
        "# 9 텍스트를 분류합니다. - 순환 신경망(recurrent neural network)\n",
        "\n",
        "## 09-1 순차 데이터와 순환 신경망을 배웁니다\n",
        "\n",
        "지금까지 인공신경망에 사용한 데이터는 각 샘플이 독립적이라고 가정했기 때문에 에포크마다 전체 샘플을 섞은 후에 모델을 훈련을 진행할 수 있었습니다.\n",
        "\n",
        "### 순차 데이터를 소개합니다.\n",
        "\n",
        "날씨 정보는 샘플이 서로 연관되어 있습니다. 오후4시 온도는 오후3시 온도에 영향을 받습니다.\n",
        "이런 데이터를 시계열(time series)데이터라고 부릅니다.\n",
        "\n",
        "시계열 데이터를 포함하여 샘플에 순서가 있는 데이터를 일반적으로 순차 데이터(sequential data)라고 부릅니다.\n",
        "이런 데이터를 처리할 때 각 단계를 타임 스텝(time step)이라고 부릅니다. 예를 들어 Hello Deep 에서 단어 단위로 처리하면 2 time step 이고 글자 단위로 처리하면 9 time step 입니다.\n",
        "\n",
        "### 순환 신경망을 소개합니다.\n",
        "\n",
        "순환 신경망은 말 그대로 뉴런의 출력이 순환되는 신경망을 말합니다.\n",
        "\n",
        "> <b> 순환 신경망은 뉴런을 셀이라고 부릅니다. </b>\n",
        "\n",
        "!교재 참조\n",
        "\n",
        "### 순환 신경망의 정방향 계산을 알아봅니다.\n",
        "\n",
        "$$Z_1 = XW_{1x} + H_pW_{1h} + b_1 $$\n",
        "$$H=tanh(Z_1)$$\n",
        "\n",
        "> 수식이 너무 많아서 노트로 대체"
      ]
    },
    {
      "cell_type": "markdown",
      "metadata": {
        "id": "LC97GjNbk2kY",
        "colab_type": "text"
      },
      "source": [
        "## 09-2 순환 신경망을 만들고 텍스트를 분류합니다\n",
        "\n",
        "### 훈련 세트와 검증 세트를 준비합니다.\n",
        "\n",
        "* IMDB 데이터 세트는 인터넷 영화 데이터베이스(Internet Movie Database)에서 수집한 영화 리뷰 데이터입니다.\n",
        "* 순환 신경망으로 이 리뷰들이 긍정적인지 부정적인지 판별\n",
        "* 훈련세트 25,000개 테스트 세트 25,000 훈련세트에서 5,000개 세트로 검증 세트\n",
        "\n"
      ]
    },
    {
      "cell_type": "code",
      "metadata": {
        "id": "owQpLQ-JeAsY",
        "colab_type": "code",
        "outputId": "1511229c-c964-426b-b454-5979786cfff4",
        "colab": {
          "base_uri": "https://localhost:8080/",
          "height": 35
        }
      },
      "source": [
        "import numpy as np\n",
        "from tensorflow.keras.datasets import imdb\n",
        "\n",
        "(x_train_all, y_train_all), (x_test, y_test) = imdb.load_data(skip_top=20, num_words=100)\n",
        "\n",
        "\"\"\"\n",
        "skip_top : 가장 많이 등장한 단어 제외 a, the is 같은거 제외\n",
        "num_words : 메모리 절약을 위해 단어는 100개만 사용\n",
        "\"\"\""
      ],
      "execution_count": 1,
      "outputs": [
        {
          "output_type": "execute_result",
          "data": {
            "text/plain": [
              "'\\nskip_top : 가장 많이 등장한 단어 제외 a, the is 같은거 제외\\nnum_words : 메모리 절약을 위해 단어는 100개만 사용\\n'"
            ]
          },
          "metadata": {
            "tags": []
          },
          "execution_count": 1
        }
      ]
    },
    {
      "cell_type": "code",
      "metadata": {
        "id": "B-dAd7-XlkhY",
        "colab_type": "code",
        "outputId": "92d3aaff-ee7a-412e-ff24-00d2b30dcabd",
        "colab": {
          "base_uri": "https://localhost:8080/",
          "height": 35
        }
      },
      "source": [
        "print(x_train_all.shape, y_train_all.shape)"
      ],
      "execution_count": 2,
      "outputs": [
        {
          "output_type": "stream",
          "text": [
            "(25000,) (25000,)\n"
          ],
          "name": "stdout"
        }
      ]
    },
    {
      "cell_type": "code",
      "metadata": {
        "id": "U09PrveDmLus",
        "colab_type": "code",
        "outputId": "bb0af54f-b7ed-426b-ae4d-3c8eeea13b98",
        "colab": {
          "base_uri": "https://localhost:8080/",
          "height": 55
        }
      },
      "source": [
        "print(x_train_all[0])"
      ],
      "execution_count": 3,
      "outputs": [
        {
          "output_type": "stream",
          "text": [
            "[2, 2, 22, 2, 43, 2, 2, 2, 2, 65, 2, 2, 66, 2, 2, 2, 36, 2, 2, 25, 2, 43, 2, 2, 50, 2, 2, 2, 35, 2, 2, 2, 2, 2, 2, 2, 2, 2, 2, 2, 39, 2, 2, 2, 2, 2, 2, 38, 2, 2, 2, 2, 50, 2, 2, 2, 2, 2, 2, 22, 2, 2, 2, 2, 2, 22, 71, 87, 2, 2, 43, 2, 38, 76, 2, 2, 2, 2, 22, 2, 2, 2, 2, 2, 2, 2, 2, 2, 62, 2, 2, 2, 2, 2, 2, 2, 2, 2, 2, 2, 2, 66, 2, 33, 2, 2, 2, 2, 38, 2, 2, 25, 2, 51, 36, 2, 48, 25, 2, 33, 2, 22, 2, 2, 28, 77, 52, 2, 2, 2, 2, 82, 2, 2, 2, 2, 2, 2, 2, 2, 2, 2, 2, 2, 2, 2, 36, 71, 43, 2, 2, 26, 2, 2, 46, 2, 2, 2, 2, 2, 2, 88, 2, 2, 2, 2, 98, 32, 2, 56, 26, 2, 2, 2, 2, 2, 2, 2, 22, 21, 2, 2, 26, 2, 2, 2, 30, 2, 2, 51, 36, 28, 2, 92, 25, 2, 2, 2, 65, 2, 38, 2, 88, 2, 2, 2, 2, 2, 2, 2, 2, 32, 2, 2, 2, 2, 2, 32]\n"
          ],
          "name": "stdout"
        }
      ]
    },
    {
      "cell_type": "code",
      "metadata": {
        "id": "_jbvegsnmRLL",
        "colab_type": "code",
        "outputId": "7042a86a-7ab5-4832-eca9-27c947538b52",
        "colab": {
          "base_uri": "https://localhost:8080/",
          "height": 35
        }
      },
      "source": [
        "for i in range(len(x_train_all)):\n",
        "  x_train_all[i] = [w for w in x_train_all[i] if w>2] # w가 2보다 큰 단어만 남김 2는 어휘 사전에 없는 단어, 0과 1은 패딩과 글 시작\n",
        " \n",
        "print(x_train_all[0])"
      ],
      "execution_count": 4,
      "outputs": [
        {
          "output_type": "stream",
          "text": [
            "[22, 43, 65, 66, 36, 25, 43, 50, 35, 39, 38, 50, 22, 22, 71, 87, 43, 38, 76, 22, 62, 66, 33, 38, 25, 51, 36, 48, 25, 33, 22, 28, 77, 52, 82, 36, 71, 43, 26, 46, 88, 98, 32, 56, 26, 22, 21, 26, 30, 51, 36, 28, 92, 25, 65, 38, 88, 32, 32]\n"
          ],
          "name": "stdout"
        }
      ]
    },
    {
      "cell_type": "code",
      "metadata": {
        "id": "02e6jRopmuQV",
        "colab_type": "code",
        "outputId": "1222a0d6-3f16-4522-ec02-89683aae2f04",
        "colab": {
          "base_uri": "https://localhost:8080/",
          "height": 35
        }
      },
      "source": [
        "word_to_index = imdb.get_word_index()\n",
        "word_to_index['movie']"
      ],
      "execution_count": 5,
      "outputs": [
        {
          "output_type": "execute_result",
          "data": {
            "text/plain": [
              "17"
            ]
          },
          "metadata": {
            "tags": []
          },
          "execution_count": 5
        }
      ]
    },
    {
      "cell_type": "code",
      "metadata": {
        "id": "lizdpganm2hB",
        "colab_type": "code",
        "outputId": "a85ffcfe-6e4e-4e56-b3b8-b89f67731250",
        "colab": {
          "base_uri": "https://localhost:8080/",
          "height": 55
        }
      },
      "source": [
        "index_to_word = {word_to_index[k]: k for k in word_to_index}\n",
        "\n",
        "for w in x_train_all[0]:\n",
        "  print(index_to_word[w-3], end=' ')"
      ],
      "execution_count": 6,
      "outputs": [
        {
          "output_type": "stream",
          "text": [
            "film just story really they you just there an from so there film film were great just so much film would really at so you what they if you at film have been good also they were just are out because them all up are film but are be what they have don't you story so because all all "
          ],
          "name": "stdout"
        }
      ]
    },
    {
      "cell_type": "code",
      "metadata": {
        "id": "weZmq715nJar",
        "colab_type": "code",
        "outputId": "e956d53a-a2ef-43b5-ceab-fba6de50993f",
        "colab": {
          "base_uri": "https://localhost:8080/",
          "height": 35
        }
      },
      "source": [
        "print(len(x_train_all[0]), len(x_train_all[1]))"
      ],
      "execution_count": 7,
      "outputs": [
        {
          "output_type": "stream",
          "text": [
            "59 32\n"
          ],
          "name": "stdout"
        }
      ]
    },
    {
      "cell_type": "code",
      "metadata": {
        "id": "YI8Xuu0TnnL8",
        "colab_type": "code",
        "outputId": "66b9ed33-9ba5-4d6a-ac6b-1e55c09018a6",
        "colab": {
          "base_uri": "https://localhost:8080/",
          "height": 35
        }
      },
      "source": [
        "print(y_train_all[:10])"
      ],
      "execution_count": 8,
      "outputs": [
        {
          "output_type": "stream",
          "text": [
            "[1 0 0 1 0 0 1 0 1 0]\n"
          ],
          "name": "stdout"
        }
      ]
    },
    {
      "cell_type": "code",
      "metadata": {
        "id": "vsUUXvLRnrvT",
        "colab_type": "code",
        "colab": {}
      },
      "source": [
        "np.random.seed(42)\n",
        "random_index = np.random.permutation(25000)\n",
        "\n",
        "x_train = x_train_all[random_index[:20000]]\n",
        "y_train = y_train_all[random_index[:20000]]\n",
        "x_val = x_train_all[random_index[20000:]]\n",
        "y_val = y_train_all[random_index[20000:]]"
      ],
      "execution_count": 0,
      "outputs": []
    },
    {
      "cell_type": "code",
      "metadata": {
        "id": "3B5nwDKuoyTr",
        "colab_type": "code",
        "colab": {}
      },
      "source": [
        "from tensorflow.keras.preprocessing import sequence\n",
        "\n",
        "maxlen=100\n",
        "x_train_seq = sequence.pad_sequences(x_train, maxlen=maxlen)\n",
        "x_val_seq = sequence.pad_sequences(x_val, maxlen=maxlen)"
      ],
      "execution_count": 0,
      "outputs": []
    },
    {
      "cell_type": "code",
      "metadata": {
        "id": "_jQ3QuUVpFXS",
        "colab_type": "code",
        "outputId": "3fea383e-12eb-4ba4-f8b9-60e268d810d8",
        "colab": {
          "base_uri": "https://localhost:8080/",
          "height": 107
        }
      },
      "source": [
        "print(x_train_seq[0])"
      ],
      "execution_count": 11,
      "outputs": [
        {
          "output_type": "stream",
          "text": [
            "[ 0  0  0  0  0  0  0  0  0  0  0  0  0  0  0  0  0  0  0  0  0  0  0  0\n",
            "  0  0  0  0  0  0  0  0  0  0  0  0  0  0  0  0  0  0  0  0  0  0  0  0\n",
            "  0  0  0  0  0  0  0  0  0  0  0  0  0  0 35 40 27 28 40 22 83 31 85 45\n",
            " 24 23 31 70 31 76 30 98 32 22 28 51 75 56 30 33 97 53 38 46 53 74 31 35\n",
            " 23 34 22 58]\n"
          ],
          "name": "stdout"
        }
      ]
    },
    {
      "cell_type": "code",
      "metadata": {
        "id": "55D8Dh0epv4q",
        "colab_type": "code",
        "colab": {}
      },
      "source": [
        "from tensorflow.keras.utils import to_categorical\n",
        "\n",
        "x_train_onehot = to_categorical(x_train_seq)\n",
        "x_val_onehot = to_categorical(x_val_seq)"
      ],
      "execution_count": 0,
      "outputs": []
    },
    {
      "cell_type": "code",
      "metadata": {
        "id": "ZvLdTFpUqCMy",
        "colab_type": "code",
        "outputId": "2c7d6440-f27c-405f-8c43-d6845c95d954",
        "colab": {
          "base_uri": "https://localhost:8080/",
          "height": 35
        }
      },
      "source": [
        "print(x_train_onehot.shape)"
      ],
      "execution_count": 13,
      "outputs": [
        {
          "output_type": "stream",
          "text": [
            "(20000, 100, 100)\n"
          ],
          "name": "stdout"
        }
      ]
    },
    {
      "cell_type": "code",
      "metadata": {
        "id": "2O3vOzr-qIKy",
        "colab_type": "code",
        "outputId": "057d93c1-f132-482e-a35f-dee1dcb2a2bf",
        "colab": {
          "base_uri": "https://localhost:8080/",
          "height": 35
        }
      },
      "source": [
        "print(x_train_onehot.nbytes)"
      ],
      "execution_count": 14,
      "outputs": [
        {
          "output_type": "stream",
          "text": [
            "800000000\n"
          ],
          "name": "stdout"
        }
      ]
    },
    {
      "cell_type": "code",
      "metadata": {
        "id": "TwaSV7xhqNrK",
        "colab_type": "code",
        "colab": {}
      },
      "source": [
        "# 760MB 단어 100개 썼는데"
      ],
      "execution_count": 0,
      "outputs": []
    },
    {
      "cell_type": "code",
      "metadata": {
        "id": "uWJaOur10mkA",
        "colab_type": "code",
        "colab": {
          "base_uri": "https://localhost:8080/",
          "height": 395
        },
        "outputId": "f7c6feae-3a1b-4154-ae6d-8505c71281d0"
      },
      "source": [
        "!pip install tensorflow-gpu==2.0.0"
      ],
      "execution_count": 16,
      "outputs": [
        {
          "output_type": "stream",
          "text": [
            "Requirement already satisfied: tensorflow-gpu==2.0.0 in /usr/local/lib/python3.6/dist-packages (2.0.0)\n",
            "Requirement already satisfied: numpy<2.0,>=1.16.0 in /usr/local/lib/python3.6/dist-packages (from tensorflow-gpu==2.0.0) (1.16.5)\n",
            "Requirement already satisfied: tensorflow-estimator<2.1.0,>=2.0.0 in /usr/local/lib/python3.6/dist-packages (from tensorflow-gpu==2.0.0) (2.0.0)\n",
            "Requirement already satisfied: six>=1.10.0 in /usr/local/lib/python3.6/dist-packages (from tensorflow-gpu==2.0.0) (1.12.0)\n",
            "Requirement already satisfied: astor>=0.6.0 in /usr/local/lib/python3.6/dist-packages (from tensorflow-gpu==2.0.0) (0.8.0)\n",
            "Requirement already satisfied: wrapt>=1.11.1 in /usr/local/lib/python3.6/dist-packages (from tensorflow-gpu==2.0.0) (1.11.2)\n",
            "Requirement already satisfied: keras-applications>=1.0.8 in /usr/local/lib/python3.6/dist-packages (from tensorflow-gpu==2.0.0) (1.0.8)\n",
            "Requirement already satisfied: absl-py>=0.7.0 in /usr/local/lib/python3.6/dist-packages (from tensorflow-gpu==2.0.0) (0.8.0)\n",
            "Requirement already satisfied: gast==0.2.2 in /usr/local/lib/python3.6/dist-packages (from tensorflow-gpu==2.0.0) (0.2.2)\n",
            "Requirement already satisfied: termcolor>=1.1.0 in /usr/local/lib/python3.6/dist-packages (from tensorflow-gpu==2.0.0) (1.1.0)\n",
            "Requirement already satisfied: grpcio>=1.8.6 in /usr/local/lib/python3.6/dist-packages (from tensorflow-gpu==2.0.0) (1.15.0)\n",
            "Requirement already satisfied: protobuf>=3.6.1 in /usr/local/lib/python3.6/dist-packages (from tensorflow-gpu==2.0.0) (3.7.1)\n",
            "Requirement already satisfied: wheel>=0.26 in /usr/local/lib/python3.6/dist-packages (from tensorflow-gpu==2.0.0) (0.33.6)\n",
            "Requirement already satisfied: google-pasta>=0.1.6 in /usr/local/lib/python3.6/dist-packages (from tensorflow-gpu==2.0.0) (0.1.7)\n",
            "Requirement already satisfied: tensorboard<2.1.0,>=2.0.0 in /usr/local/lib/python3.6/dist-packages (from tensorflow-gpu==2.0.0) (2.0.0)\n",
            "Requirement already satisfied: keras-preprocessing>=1.0.5 in /usr/local/lib/python3.6/dist-packages (from tensorflow-gpu==2.0.0) (1.1.0)\n",
            "Requirement already satisfied: opt-einsum>=2.3.2 in /usr/local/lib/python3.6/dist-packages (from tensorflow-gpu==2.0.0) (3.1.0)\n",
            "Requirement already satisfied: h5py in /usr/local/lib/python3.6/dist-packages (from keras-applications>=1.0.8->tensorflow-gpu==2.0.0) (2.8.0)\n",
            "Requirement already satisfied: setuptools in /usr/local/lib/python3.6/dist-packages (from protobuf>=3.6.1->tensorflow-gpu==2.0.0) (41.2.0)\n",
            "Requirement already satisfied: werkzeug>=0.11.15 in /usr/local/lib/python3.6/dist-packages (from tensorboard<2.1.0,>=2.0.0->tensorflow-gpu==2.0.0) (0.16.0)\n",
            "Requirement already satisfied: markdown>=2.6.8 in /usr/local/lib/python3.6/dist-packages (from tensorboard<2.1.0,>=2.0.0->tensorflow-gpu==2.0.0) (3.1.1)\n"
          ],
          "name": "stdout"
        }
      ]
    },
    {
      "cell_type": "code",
      "metadata": {
        "id": "A_y9JptwqTP5",
        "colab_type": "code",
        "colab": {}
      },
      "source": [
        "import tensorflow as tf\n",
        "class RecurrentNetwork:\n",
        "  def __init__(self, n_cells=10, units=10, batch_size=32, learning_rate=0.1):\n",
        "    self.n_cells = n_cells\n",
        "    self.batch_size = batch_size\n",
        "    self.w1h = None\n",
        "    self.w1x = None\n",
        "    self.b1 = None\n",
        "    self.w2 = None\n",
        "    self.b2 = None\n",
        "    self.h = None\n",
        "    self.losses = []\n",
        "    self.val_losses = []\n",
        "    self.lr = learning_rate\n",
        "\n",
        "  def forpass(self, x):\n",
        "    self.h = [np.zeros((x.shape[0], self.n_cells))]\n",
        "    seq = np.swapaxes(x, 0, 1)\n",
        "    for x in seq:\n",
        "      z1 = np.dot(x, self.w1x) + np.dot(self.h[-1], self.w1h) + self.b1\n",
        "      h = np.tanh(z1)\n",
        "      self.h.append(h)\n",
        "      z2 = np.dot(h, self.w2) + self.b2\n",
        "    return z2\n",
        "  def backprop(self, x, err):\n",
        "    m = len(x)\n",
        "\n",
        "    w2_grad = np.dot(self.h[-1].T, err) / m\n",
        "    b2_grad = np.sum(err) / m\n",
        "\n",
        "    seq = np.swapaxes(x, 0, 1)\n",
        "\n",
        "    w1h_grad = w1x_grad = b1_grad = 0\n",
        "    err_to_cell = np.dot(err, self.w2.T) * (1 - self.h[-1] **2)\n",
        "\n",
        "    for x, h in zip(seq[::-1][:10], self.h[:-1][::-1][:10]):\n",
        "      w1h_grad += np.dot(h.T, err_to_cell)\n",
        "      w1x_grad += np.dot(x.T, err_to_cell)\n",
        "      b1_grad += np.sum(err_to_cell, axis=0)\n",
        "\n",
        "      err_to_cell = np.dot(err_to_cell, self.w1h) * (1 - h ** 2)\n",
        "\n",
        "    w1h_grad /= m\n",
        "    w1x_grad /= m\n",
        "    b1_grad /= m\n",
        "\n",
        "    return w1h_grad, w1x_grad, b1_grad, w2_grad, b2_grad\n",
        "\n",
        "  def sigmoid(self, z):\n",
        "    a = 1 / (1 + np.exp(-z))\n",
        "    return a\n",
        "\n",
        "  def init_weights(self, n_features, n_classes):\n",
        "    orth_init = tf.initializers.Orthogonal()\n",
        "    glorot_init = tf.initializers.glorot_uniform()\n",
        "\n",
        "    self.w1h = orth_init((self.n_cells, self.n_cells)).numpy()\n",
        "    self.w1x = glorot_init((n_features, self.n_cells)).numpy()\n",
        "    self.b1 = np.zeros(self.n_cells)\n",
        "    self.w2 = glorot_init((self.n_cells, n_classes)).numpy()\n",
        "    self.b2 = np.zeros(n_classes)\n",
        "\n",
        "  def fit(self, x, y, epochs=100, x_val=None, y_val=None):\n",
        "    y = y.reshape(-1, 1)\n",
        "    y_val = y_val.reshape(-1, 1)\n",
        "    np.random.seed(42)\n",
        "    self.init_weights(x.shape[2], y.shape[1])\n",
        "\n",
        "    for i in range(epochs):\n",
        "      print('에포크', i, end=' ')\n",
        "      batch_losses = []\n",
        "      for x_batch, y_batch in self.gen_batch(x, y):\n",
        "        print('.', end='')\n",
        "        a = self.training(x_batch, y_batch)\n",
        "                \n",
        "        a = np.clip(a, 1e-10, 1-1e-10)\n",
        "        loss = np.mean(-(y_batch*np.log(a) + (1-y_batch)*np.log(1-a)))\n",
        "        batch_losses.append(loss)\n",
        "      print()\n",
        "      self.losses.append(np.mean(batch_losses))\n",
        "      self.update_val_loss(x_val, y_val)\n",
        "\n",
        "  def gen_batch(self, x, y):\n",
        "    bins = len(x) // self.batch_size\n",
        "    indexes = np.random.permutation(np.arange(len(x)))\n",
        "    x = x[indexes]\n",
        "    y = y[indexes]\n",
        "    for i in range(bins):\n",
        "      start = self.batch_size * i\n",
        "      end = self.batch_size * (i + 1)\n",
        "      yield x[start:end], y[start:end]\n",
        "\n",
        "  def training(self, x, y):\n",
        "    m = len(x)\n",
        "    z = self.forpass(x)\n",
        "    a = self.sigmoid(z)\n",
        "    err = -(y - a)\n",
        "        \n",
        "    w1h_grad, w1x_grad, b1_grad, w2_grad, b2_grad = self.backprop(x, err)\n",
        "        \n",
        "    self.w1h  -= self.lr * w1h_grad\n",
        "    self.w1x -= self.lr * w1x_grad\n",
        "    self.b1 -= self.lr * b1_grad\n",
        "    self.w2 -= self.lr * w2_grad\n",
        "    self.b2 -= self.lr * b2_grad\n",
        "        \n",
        "    return a\n",
        "\n",
        "  def predict(self, x):\n",
        "    z = self.forpass(x)\n",
        "    return z > 0\n",
        "\n",
        "  def score(self, x, y):\n",
        "    return np.mean(self.predict(x) == y.reshape(-1, 1))\n",
        "\n",
        "  def update_val_loss(self, x_val , y_val):\n",
        "    z = self.forpass(x_val)\n",
        "    a = self.sigmoid(z)\n",
        "    a = np.clip(a, 1e-10, 1-1e-10)\n",
        "    val_loss = np.mean(-(y_val*np.log(a) + (1-y_val)*np.log(1-a)))\n",
        "    self.val_losses.append(val_loss)\n",
        "\n",
        "\n"
      ],
      "execution_count": 0,
      "outputs": []
    },
    {
      "cell_type": "code",
      "metadata": {
        "id": "DC1GiRJAyt7X",
        "colab_type": "code",
        "colab": {
          "base_uri": "https://localhost:8080/",
          "height": 397
        },
        "outputId": "ef425d9e-9791-425b-ba48-8ff7cbf1fb6d"
      },
      "source": [
        "rn = RecurrentNetwork(n_cells=32, batch_size =32, learning_rate=0.01)\n",
        "rn.fit(x_train_onehot, y_train, epochs=20, x_val=x_val_onehot, y_val=y_val)"
      ],
      "execution_count": 18,
      "outputs": [
        {
          "output_type": "stream",
          "text": [
            "에포크 0 .................................................................................................................................................................................................................................................................................................................................................................................................................................................................................................................................................................................................................................................\n",
            "에포크 1 .................................................................................................................................................................................................................................................................................................................................................................................................................................................................................................................................................................................................................................................\n",
            "에포크 2 .................................................................................................................................................................................................................................................................................................................................................................................................................................................................................................................................................................................................................................................\n",
            "에포크 3 .................................................................................................................................................................................................................................................................................................................................................................................................................................................................................................................................................................................................................................................\n",
            "에포크 4 .................................................................................................................................................................................................................................................................................................................................................................................................................................................................................................................................................................................................................................................\n",
            "에포크 5 .................................................................................................................................................................................................................................................................................................................................................................................................................................................................................................................................................................................................................................................\n",
            "에포크 6 .................................................................................................................................................................................................................................................................................................................................................................................................................................................................................................................................................................................................................................................\n",
            "에포크 7 .................................................................................................................................................................................................................................................................................................................................................................................................................................................................................................................................................................................................................................................\n",
            "에포크 8 .................................................................................................................................................................................................................................................................................................................................................................................................................................................................................................................................................................................................................................................\n",
            "에포크 9 .................................................................................................................................................................................................................................................................................................................................................................................................................................................................................................................................................................................................................................................\n",
            "에포크 10 .................................................................................................................................................................................................................................................................................................................................................................................................................................................................................................................................................................................................................................................\n",
            "에포크 11 .................................................................................................................................................................................................................................................................................................................................................................................................................................................................................................................................................................................................................................................\n",
            "에포크 12 .................................................................................................................................................................................................................................................................................................................................................................................................................................................................................................................................................................................................................................................\n",
            "에포크 13 .................................................................................................................................................................................................................................................................................................................................................................................................................................................................................................................................................................................................................................................\n",
            "에포크 14 .................................................................................................................................................................................................................................................................................................................................................................................................................................................................................................................................................................................................................................................\n",
            "에포크 15 .................................................................................................................................................................................................................................................................................................................................................................................................................................................................................................................................................................................................................................................\n",
            "에포크 16 .................................................................................................................................................................................................................................................................................................................................................................................................................................................................................................................................................................................................................................................\n",
            "에포크 17 .................................................................................................................................................................................................................................................................................................................................................................................................................................................................................................................................................................................................................................................\n",
            "에포크 18 .................................................................................................................................................................................................................................................................................................................................................................................................................................................................................................................................................................................................................................................\n",
            "에포크 19 .................................................................................................................................................................................................................................................................................................................................................................................................................................................................................................................................................................................................................................................\n"
          ],
          "name": "stdout"
        }
      ]
    },
    {
      "cell_type": "code",
      "metadata": {
        "id": "Ho60M0f_z08l",
        "colab_type": "code",
        "colab": {
          "base_uri": "https://localhost:8080/",
          "height": 269
        },
        "outputId": "bd03fc6c-9824-4d2f-f3f6-45e2a121efd4"
      },
      "source": [
        "import matplotlib.pyplot as plt\n",
        "\n",
        "plt.plot(rn.losses)\n",
        "plt.plot(rn.val_losses)\n",
        "plt.show()"
      ],
      "execution_count": 19,
      "outputs": [
        {
          "output_type": "display_data",
          "data": {
            "image/png": "[encoded data removed]",
            "text/plain": [
              "<Figure size 432x288 with 1 Axes>"
            ]
          },
          "metadata": {
            "tags": []
          }
        }
      ]
    },
    {
      "cell_type": "code",
      "metadata": {
        "id": "KNvLN7Re1kmT",
        "colab_type": "code",
        "colab": {
          "base_uri": "https://localhost:8080/",
          "height": 35
        },
        "outputId": "461cd68f-cacd-4a9e-bfa2-52b747aae8c3"
      },
      "source": [
        "rn.score(x_val_onehot, y_val)"
      ],
      "execution_count": 20,
      "outputs": [
        {
          "output_type": "execute_result",
          "data": {
            "text/plain": [
              "0.63"
            ]
          },
          "metadata": {
            "tags": []
          },
          "execution_count": 20
        }
      ]
    },
    {
      "cell_type": "code",
      "metadata": {
        "id": "lxyh1xnf1op2",
        "colab_type": "code",
        "colab": {}
      },
      "source": [
        "# 결과가 많이 아쉽습니다. 좀 더 고급 기술을 사용하여 순환 신경망을 업그레이드 해봅시다"
      ],
      "execution_count": 0,
      "outputs": []
    },
    {
      "cell_type": "markdown",
      "metadata": {
        "id": "TPbGRnWj1xyO",
        "colab_type": "text"
      },
      "source": [
        "## 09-3 텐서플로로 순환 신경망을 만듭니다\n",
        "\n",
        "### SimpleRNN 클래스로 순환 신경망 만들기"
      ]
    },
    {
      "cell_type": "code",
      "metadata": {
        "id": "QiCEBI-K1tjB",
        "colab_type": "code",
        "colab": {}
      },
      "source": [
        "from tensorflow.keras.models import Sequential\n",
        "from tensorflow.keras.layers import Dense, SimpleRNN"
      ],
      "execution_count": 0,
      "outputs": []
    },
    {
      "cell_type": "code",
      "metadata": {
        "id": "58zXNibJ2Ns7",
        "colab_type": "code",
        "colab": {
          "base_uri": "https://localhost:8080/",
          "height": 233
        },
        "outputId": "ec07439e-a749-455c-ec19-ae63c4bebd3c"
      },
      "source": [
        "model = Sequential()\n",
        "\n",
        "model.add(SimpleRNN(32, input_shape=(100, 100)))\n",
        "model.add(Dense(1, activation='sigmoid'))\n",
        "\n",
        "model.summary()"
      ],
      "execution_count": 24,
      "outputs": [
        {
          "output_type": "stream",
          "text": [
            "Model: \"sequential\"\n",
            "_________________________________________________________________\n",
            "Layer (type)                 Output Shape              Param #   \n",
            "=================================================================\n",
            "simple_rnn (SimpleRNN)       (None, 32)                4256      \n",
            "_________________________________________________________________\n",
            "dense (Dense)                (None, 1)                 33        \n",
            "=================================================================\n",
            "Total params: 4,289\n",
            "Trainable params: 4,289\n",
            "Non-trainable params: 0\n",
            "_________________________________________________________________\n"
          ],
          "name": "stdout"
        }
      ]
    },
    {
      "cell_type": "code",
      "metadata": {
        "id": "z_g0kVZA2fTW",
        "colab_type": "code",
        "colab": {
          "base_uri": "https://localhost:8080/",
          "height": 755
        },
        "outputId": "d4a6457a-2ad6-4b1a-f5e4-c3338df725ba"
      },
      "source": [
        "model.compile(optimizer='sgd', loss='binary_crossentropy', metrics=['accuracy'])\n",
        "history = model.fit(x_train_onehot, y_train, epochs=20, batch_size=32, validation_data=(x_val_onehot, y_val))"
      ],
      "execution_count": 25,
      "outputs": [
        {
          "output_type": "stream",
          "text": [
            "Train on 20000 samples, validate on 5000 samples\n",
            "Epoch 1/20\n",
            "20000/20000 [==============================] - 18s 880us/sample - loss: 0.6995 - accuracy: 0.5242 - val_loss: 0.6868 - val_accuracy: 0.5504\n",
            "Epoch 2/20\n",
            "20000/20000 [==============================] - 16s 797us/sample - loss: 0.6739 - accuracy: 0.5817 - val_loss: 0.6734 - val_accuracy: 0.5816\n",
            "Epoch 3/20\n",
            "20000/20000 [==============================] - 16s 795us/sample - loss: 0.6474 - accuracy: 0.6266 - val_loss: 0.6392 - val_accuracy: 0.6420\n",
            "Epoch 4/20\n",
            "20000/20000 [==============================] - 16s 792us/sample - loss: 0.6256 - accuracy: 0.6511 - val_loss: 0.6003 - val_accuracy: 0.6788\n",
            "Epoch 5/20\n",
            "20000/20000 [==============================] - 16s 788us/sample - loss: 0.6125 - accuracy: 0.6675 - val_loss: 0.6128 - val_accuracy: 0.6644\n",
            "Epoch 6/20\n",
            "20000/20000 [==============================] - 16s 794us/sample - loss: 0.6009 - accuracy: 0.6780 - val_loss: 0.5962 - val_accuracy: 0.6804\n",
            "Epoch 7/20\n",
            "20000/20000 [==============================] - 16s 796us/sample - loss: 0.5925 - accuracy: 0.6865 - val_loss: 0.5835 - val_accuracy: 0.6892\n",
            "Epoch 8/20\n",
            "20000/20000 [==============================] - 16s 798us/sample - loss: 0.5866 - accuracy: 0.6901 - val_loss: 0.5725 - val_accuracy: 0.7046\n",
            "Epoch 9/20\n",
            "20000/20000 [==============================] - 16s 792us/sample - loss: 0.5813 - accuracy: 0.6972 - val_loss: 0.5902 - val_accuracy: 0.6818\n",
            "Epoch 10/20\n",
            "20000/20000 [==============================] - 16s 790us/sample - loss: 0.5795 - accuracy: 0.7024 - val_loss: 0.5730 - val_accuracy: 0.6968\n",
            "Epoch 11/20\n",
            "20000/20000 [==============================] - 16s 796us/sample - loss: 0.5751 - accuracy: 0.7024 - val_loss: 0.5800 - val_accuracy: 0.6936\n",
            "Epoch 12/20\n",
            "20000/20000 [==============================] - 16s 806us/sample - loss: 0.5748 - accuracy: 0.7010 - val_loss: 0.6110 - val_accuracy: 0.6628\n",
            "Epoch 13/20\n",
            "20000/20000 [==============================] - 16s 787us/sample - loss: 0.5715 - accuracy: 0.7050 - val_loss: 0.5628 - val_accuracy: 0.7134\n",
            "Epoch 14/20\n",
            "20000/20000 [==============================] - 16s 791us/sample - loss: 0.5704 - accuracy: 0.7068 - val_loss: 0.5648 - val_accuracy: 0.7040\n",
            "Epoch 15/20\n",
            "20000/20000 [==============================] - 16s 790us/sample - loss: 0.5671 - accuracy: 0.7059 - val_loss: 0.6095 - val_accuracy: 0.6828\n",
            "Epoch 16/20\n",
            "20000/20000 [==============================] - 16s 797us/sample - loss: 0.5668 - accuracy: 0.7110 - val_loss: 0.5744 - val_accuracy: 0.6940\n",
            "Epoch 17/20\n",
            "20000/20000 [==============================] - 16s 794us/sample - loss: 0.5672 - accuracy: 0.7082 - val_loss: 0.5634 - val_accuracy: 0.7114\n",
            "Epoch 18/20\n",
            "20000/20000 [==============================] - 16s 807us/sample - loss: 0.5610 - accuracy: 0.7120 - val_loss: 0.6175 - val_accuracy: 0.6992\n",
            "Epoch 19/20\n",
            "20000/20000 [==============================] - 16s 807us/sample - loss: 0.5607 - accuracy: 0.7109 - val_loss: 0.5726 - val_accuracy: 0.7076\n",
            "Epoch 20/20\n",
            "20000/20000 [==============================] - 16s 814us/sample - loss: 0.5626 - accuracy: 0.7095 - val_loss: 0.5664 - val_accuracy: 0.6960\n"
          ],
          "name": "stdout"
        }
      ]
    },
    {
      "cell_type": "code",
      "metadata": {
        "id": "hn9I3WDY3A6m",
        "colab_type": "code",
        "colab": {
          "base_uri": "https://localhost:8080/",
          "height": 521
        },
        "outputId": "9735aa46-69fe-4832-8644-f8e9eb2c07dd"
      },
      "source": [
        "plt.plot(history.history['loss'])\n",
        "plt.plot(history.history['val_loss'])\n",
        "plt.show()\n",
        "\n",
        "plt.plot(history.history['accuracy'])\n",
        "plt.plot(history.history['val_accuracy'])\n",
        "plt.show()"
      ],
      "execution_count": 26,
      "outputs": [
        {
          "output_type": "display_data",
          "data": {
            "image/png": "[encoded data removed]",
            "text/plain": [
              "<Figure size 432x288 with 1 Axes>"
            ]
          },
          "metadata": {
            "tags": []
          }
        },
        {
          "output_type": "display_data",
          "data": {
            "image/png": "[encoded data removed]",
            "text/plain": [
              "<Figure size 432x288 with 1 Axes>"
            ]
          },
          "metadata": {
            "tags": []
          }
        }
      ]
    },
    {
      "cell_type": "code",
      "metadata": {
        "id": "BS7w6fbd4iWV",
        "colab_type": "code",
        "colab": {}
      },
      "source": [
        "loss, accuracy = model.evaluate(x_val_onehot, y_val, verbose=0)"
      ],
      "execution_count": 0,
      "outputs": []
    },
    {
      "cell_type": "code",
      "metadata": {
        "id": "qyzZ-QNz4r3-",
        "colab_type": "code",
        "colab": {
          "base_uri": "https://localhost:8080/",
          "height": 35
        },
        "outputId": "f5868862-6273-4878-94bc-75b2c6538197"
      },
      "source": [
        "print(accuracy)"
      ],
      "execution_count": 28,
      "outputs": [
        {
          "output_type": "stream",
          "text": [
            "0.696\n"
          ],
          "name": "stdout"
        }
      ]
    },
    {
      "cell_type": "markdown",
      "metadata": {
        "id": "5RjrNMoQ46YC",
        "colab_type": "text"
      },
      "source": [
        "성능이 약간 향상되었으나 아직 부족\n",
        "\n",
        "### 임베딩층으로 순환 신경망 모델 성능 높이기\n",
        "\n",
        "원-핫 임베딩은 입력 데이터 크기와 사용할 수 있는 영단어의 수가 제한된다는 문제가 있으며 단어 사이에 관련성이 전혀 없다는 가정이 전제되어야 합니다.\n",
        "\n",
        "이러한 문제를 해결하기 위해 고안된 것이 단어 임베딩(word embedding)입니다. 단어 임베딩은 다음 그림처럼 단어를 고정된 길이의 실수 벡터로 임베딩 합니다. \n",
        "\n",
        "각 임베딩된 벡터끼리의 거리가 가까울 수록 단어들끼리 연관성이 있다고 합니다"
      ]
    },
    {
      "cell_type": "code",
      "metadata": {
        "id": "Ursj1uHm4t8e",
        "colab_type": "code",
        "colab": {}
      },
      "source": [
        "from tensorflow.keras.layers import Embedding\n",
        "\n",
        "(x_train_all, y_train_all), (x_test, y_test) = imdb.load_data(skip_top=20, num_words=1000)\n",
        "for i in range(len(x_train_all)):\n",
        "  x_train_all[i] = [w for w in x_train_all[i] if w>2]\n",
        "x_train = x_train_all[random_index[:20000]]\n",
        "y_train = y_train_all[random_index[:20000]]\n",
        "x_val = x_train_all[random_index[20000:]]\n",
        "y_val = y_train_all[random_index[20000:]]"
      ],
      "execution_count": 0,
      "outputs": []
    },
    {
      "cell_type": "code",
      "metadata": {
        "id": "K1RMr2E45-x3",
        "colab_type": "code",
        "colab": {}
      },
      "source": [
        "maxlen=100\n",
        "x_train_seq = sequence.pad_sequences(x_train, maxlen=maxlen)\n",
        "x_val_seq = sequence.pad_sequences(x_val, maxlen=maxlen)"
      ],
      "execution_count": 0,
      "outputs": []
    },
    {
      "cell_type": "code",
      "metadata": {
        "id": "Tj7PZViD6LF1",
        "colab_type": "code",
        "colab": {
          "base_uri": "https://localhost:8080/",
          "height": 269
        },
        "outputId": "aaf646e9-8a71-4003-f316-ca1c07efd8a8"
      },
      "source": [
        "model_ebd = Sequential()\n",
        "model_ebd.add(Embedding(1000, 32))\n",
        "model_ebd.add(SimpleRNN(8))\n",
        "model_ebd.add(Dense(1, activation='sigmoid'))\n",
        "\n",
        "model_ebd.summary()"
      ],
      "execution_count": 31,
      "outputs": [
        {
          "output_type": "stream",
          "text": [
            "Model: \"sequential_1\"\n",
            "_________________________________________________________________\n",
            "Layer (type)                 Output Shape              Param #   \n",
            "=================================================================\n",
            "embedding (Embedding)        (None, None, 32)          32000     \n",
            "_________________________________________________________________\n",
            "simple_rnn_1 (SimpleRNN)     (None, 8)                 328       \n",
            "_________________________________________________________________\n",
            "dense_1 (Dense)              (None, 1)                 9         \n",
            "=================================================================\n",
            "Total params: 32,337\n",
            "Trainable params: 32,337\n",
            "Non-trainable params: 0\n",
            "_________________________________________________________________\n"
          ],
          "name": "stdout"
        }
      ]
    },
    {
      "cell_type": "code",
      "metadata": {
        "id": "75PScnv86onc",
        "colab_type": "code",
        "colab": {
          "base_uri": "https://localhost:8080/",
          "height": 395
        },
        "outputId": "2b56f2cd-068b-4342-f70d-bdd9ab40925c"
      },
      "source": [
        "model_ebd.compile(optimizer='adam', loss='binary_crossentropy', metrics=['accuracy'])\n",
        "\n",
        "history = model_ebd.fit(x_train_seq, y_train, epochs=10, batch_size=32, validation_data=(x_val_seq, y_val))"
      ],
      "execution_count": 33,
      "outputs": [
        {
          "output_type": "stream",
          "text": [
            "Train on 20000 samples, validate on 5000 samples\n",
            "Epoch 1/10\n",
            "20000/20000 [==============================] - 16s 802us/sample - loss: 0.4980 - accuracy: 0.7703 - val_loss: 0.4623 - val_accuracy: 0.7904\n",
            "Epoch 2/10\n",
            "20000/20000 [==============================] - 15s 732us/sample - loss: 0.4041 - accuracy: 0.8272 - val_loss: 0.4407 - val_accuracy: 0.8054\n",
            "Epoch 3/10\n",
            "20000/20000 [==============================] - 15s 743us/sample - loss: 0.3627 - accuracy: 0.8487 - val_loss: 0.4262 - val_accuracy: 0.8128\n",
            "Epoch 4/10\n",
            "20000/20000 [==============================] - 15s 735us/sample - loss: 0.3345 - accuracy: 0.8626 - val_loss: 0.4302 - val_accuracy: 0.8080\n",
            "Epoch 5/10\n",
            "20000/20000 [==============================] - 15s 730us/sample - loss: 0.3002 - accuracy: 0.8819 - val_loss: 0.4316 - val_accuracy: 0.8116\n",
            "Epoch 6/10\n",
            "20000/20000 [==============================] - 14s 686us/sample - loss: 0.2789 - accuracy: 0.8918 - val_loss: 0.4462 - val_accuracy: 0.8026\n",
            "Epoch 7/10\n",
            "20000/20000 [==============================] - 14s 690us/sample - loss: 0.2572 - accuracy: 0.8987 - val_loss: 0.4700 - val_accuracy: 0.8092\n",
            "Epoch 8/10\n",
            "20000/20000 [==============================] - 14s 685us/sample - loss: 0.2406 - accuracy: 0.9079 - val_loss: 0.4868 - val_accuracy: 0.8118\n",
            "Epoch 9/10\n",
            "20000/20000 [==============================] - 14s 700us/sample - loss: 0.2223 - accuracy: 0.9165 - val_loss: 0.4904 - val_accuracy: 0.8058\n",
            "Epoch 10/10\n",
            "20000/20000 [==============================] - 14s 689us/sample - loss: 0.2090 - accuracy: 0.9245 - val_loss: 0.5147 - val_accuracy: 0.8018\n"
          ],
          "name": "stdout"
        }
      ]
    },
    {
      "cell_type": "code",
      "metadata": {
        "id": "rtWV6Lvb7Glt",
        "colab_type": "code",
        "colab": {
          "base_uri": "https://localhost:8080/",
          "height": 521
        },
        "outputId": "178de0ae-9f53-44e5-f851-391401af8ea3"
      },
      "source": [
        "plt.plot(history.history['loss'])\n",
        "plt.plot(history.history['val_loss'])\n",
        "plt.show()\n",
        "\n",
        "plt.plot(history.history['accuracy'])\n",
        "plt.plot(history.history['val_accuracy'])\n",
        "plt.show()"
      ],
      "execution_count": 34,
      "outputs": [
        {
          "output_type": "display_data",
          "data": {
            "image/png": "[encoded data removed]",
            "text/plain": [
              "<Figure size 432x288 with 1 Axes>"
            ]
          },
          "metadata": {
            "tags": []
          }
        },
        {
          "output_type": "display_data",
          "data": {
            "image/png": "[encoded data removed]",
            "text/plain": [
              "<Figure size 432x288 with 1 Axes>"
            ]
          },
          "metadata": {
            "tags": []
          }
        }
      ]
    },
    {
      "cell_type": "code",
      "metadata": {
        "id": "Zgkjnd8L7tRN",
        "colab_type": "code",
        "colab": {
          "base_uri": "https://localhost:8080/",
          "height": 35
        },
        "outputId": "3635cda0-d876-475a-e3b6-bdbc5bb18171"
      },
      "source": [
        "loss, accuracy = model_ebd.evaluate(x_val_seq, y_val, verbose=0)\n",
        "print(accuracy)"
      ],
      "execution_count": 36,
      "outputs": [
        {
          "output_type": "stream",
          "text": [
            "0.8018\n"
          ],
          "name": "stdout"
        }
      ]
    },
    {
      "cell_type": "markdown",
      "metadata": {
        "id": "0GhXickC9io4",
        "colab_type": "text"
      },
      "source": [
        "## 09-4 LSTM 순환 신경망을 만들고 텍스트를 분류합니다.\n",
        "\n",
        "전에서 TBPTT 를 통해서 구현했지만 이 방법은 그레이디언트가 타임스텝 끝까지 전파되지 않으므로 타임 스텝이 멀리 떨어진 영단어 사이의 관계를 파악하기 어렵습니다. 이런 경우에는 좀 더 긴 타임 스텝의 데이터를 처리하는 LSTM(Long Short-Term Memory)순환 신경망을 사용합니다. LSTM 순환 신경망은 1997년 호크라이터(Hochreiter)와 슈미트후버(Schmidhuber)가 고안한 것으로 그레이디언트 소실(vanishing gradient)문제를 극복하여 긴 시퀀스를 성공적으로 모델링할 수 있습니다.\n",
        "\n",
        "!책 참조"
      ]
    },
    {
      "cell_type": "code",
      "metadata": {
        "id": "2o5VZ_IT8DuV",
        "colab_type": "code",
        "colab": {
          "base_uri": "https://localhost:8080/",
          "height": 269
        },
        "outputId": "b499a12f-a8ef-4dab-d019-c8c8dddc8745"
      },
      "source": [
        "from tensorflow.keras.layers import LSTM\n",
        "\n",
        "model_lstm = Sequential()\n",
        "\n",
        "model_lstm.add(Embedding(1000, 32))\n",
        "model_lstm.add(LSTM(8))\n",
        "model_lstm.add(Dense(1, activation='sigmoid'))\n",
        "\n",
        "model_lstm.summary()"
      ],
      "execution_count": 38,
      "outputs": [
        {
          "output_type": "stream",
          "text": [
            "Model: \"sequential_3\"\n",
            "_________________________________________________________________\n",
            "Layer (type)                 Output Shape              Param #   \n",
            "=================================================================\n",
            "embedding_2 (Embedding)      (None, None, 32)          32000     \n",
            "_________________________________________________________________\n",
            "lstm_1 (LSTM)                (None, 8)                 1312      \n",
            "_________________________________________________________________\n",
            "dense_3 (Dense)              (None, 1)                 9         \n",
            "=================================================================\n",
            "Total params: 33,321\n",
            "Trainable params: 33,321\n",
            "Non-trainable params: 0\n",
            "_________________________________________________________________\n"
          ],
          "name": "stdout"
        }
      ]
    },
    {
      "cell_type": "code",
      "metadata": {
        "id": "q-4X8b6V_Ku_",
        "colab_type": "code",
        "colab": {
          "base_uri": "https://localhost:8080/",
          "height": 395
        },
        "outputId": "e98c8d67-6564-4922-fbe6-3b793b013137"
      },
      "source": [
        "model_lstm.compile(optimizer='adam', loss='binary_crossentropy', metrics=['accuracy'])\n",
        "history = model_lstm.fit(x_train_seq, y_train, epochs=10, batch_size=32, validation_data=(x_val_seq, y_val))"
      ],
      "execution_count": 39,
      "outputs": [
        {
          "output_type": "stream",
          "text": [
            "Train on 20000 samples, validate on 5000 samples\n",
            "Epoch 1/10\n",
            "20000/20000 [==============================] - 26s 1ms/sample - loss: 0.4474 - accuracy: 0.8021 - val_loss: 0.3777 - val_accuracy: 0.8354\n",
            "Epoch 2/10\n",
            "20000/20000 [==============================] - 23s 1ms/sample - loss: 0.3348 - accuracy: 0.8597 - val_loss: 0.3725 - val_accuracy: 0.8372\n",
            "Epoch 3/10\n",
            "20000/20000 [==============================] - 23s 1ms/sample - loss: 0.3144 - accuracy: 0.8691 - val_loss: 0.3580 - val_accuracy: 0.8410\n",
            "Epoch 4/10\n",
            "20000/20000 [==============================] - 23s 1ms/sample - loss: 0.2987 - accuracy: 0.8744 - val_loss: 0.3597 - val_accuracy: 0.8416\n",
            "Epoch 5/10\n",
            "20000/20000 [==============================] - 23s 1ms/sample - loss: 0.2852 - accuracy: 0.8807 - val_loss: 0.3753 - val_accuracy: 0.8390\n",
            "Epoch 6/10\n",
            "20000/20000 [==============================] - 23s 1ms/sample - loss: 0.2758 - accuracy: 0.8828 - val_loss: 0.3731 - val_accuracy: 0.8374\n",
            "Epoch 7/10\n",
            "20000/20000 [==============================] - 23s 1ms/sample - loss: 0.2668 - accuracy: 0.8872 - val_loss: 0.3927 - val_accuracy: 0.8424\n",
            "Epoch 8/10\n",
            "20000/20000 [==============================] - 23s 1ms/sample - loss: 0.2574 - accuracy: 0.8909 - val_loss: 0.4241 - val_accuracy: 0.8374\n",
            "Epoch 9/10\n",
            "20000/20000 [==============================] - 23s 1ms/sample - loss: 0.2473 - accuracy: 0.8979 - val_loss: 0.3916 - val_accuracy: 0.8370\n",
            "Epoch 10/10\n",
            "20000/20000 [==============================] - 23s 1ms/sample - loss: 0.2437 - accuracy: 0.8986 - val_loss: 0.4113 - val_accuracy: 0.8338\n"
          ],
          "name": "stdout"
        }
      ]
    },
    {
      "cell_type": "code",
      "metadata": {
        "id": "ObTxczNX_whD",
        "colab_type": "code",
        "colab": {
          "base_uri": "https://localhost:8080/",
          "height": 521
        },
        "outputId": "a7bb253d-e56e-4a85-c13d-675ceb83e031"
      },
      "source": [
        "plt.plot(history.history['loss'])\n",
        "plt.plot(history.history['val_loss'])\n",
        "plt.show()\n",
        "\n",
        "plt.plot(history.history['accuracy'])\n",
        "plt.plot(history.history['val_accuracy'])\n",
        "plt.show()"
      ],
      "execution_count": 40,
      "outputs": [
        {
          "output_type": "display_data",
          "data": {
            "image/png": "[encoded data removed]",
            "text/plain": [
              "<Figure size 432x288 with 1 Axes>"
            ]
          },
          "metadata": {
            "tags": []
          }
        },
        {
          "output_type": "display_data",
          "data": {
            "image/png": "[encoded data removed]",
            "text/plain": [
              "<Figure size 432x288 with 1 Axes>"
            ]
          },
          "metadata": {
            "tags": []
          }
        }
      ]
    },
    {
      "cell_type": "markdown",
      "metadata": {
        "id": "ArYxK5TDBHcz",
        "colab_type": "text"
      },
      "source": [
        "overfitting 되었네요.. ㅠ \n",
        "\n",
        "### 이 책을 모두 읽었습니다! 마지막 결과값이 좀 아쉬운건 이제부터 머신런닝 입문을 끝마치고 더 나아가야 할 길이 많다는걸 암시하는거 같습니다!\n"
      ]
    }
  ]
}