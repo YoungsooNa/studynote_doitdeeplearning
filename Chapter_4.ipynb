{
 "cells": [
  {
   "cell_type": "markdown",
   "metadata": {
    "colab_type": "text",
    "id": "hCMcE2a-dA1O"
   },
   "source": [
    "# 분류하는 뉴런을 만듭니다 - 이진분류\n",
    "\n",
    "## 04-1 초기 인공지능 알고리즘과 로지스틱 회귀를 알아봅시다.\n",
    "\n",
    "### 퍼셉트론에 대해 알아봅니다.\n",
    "\n",
    "1957년 코넬 항공 연구소의 프랑크 로젠블라트는 이진 분류 문제에서 최적의 가중치를 학습하는 퍼셉트론(perceptron) 알고리즘을 발표하였습니다. <br>\n",
    "이진분류(binary classification)란 임의의 샘플 데이터를 True나 False로 구분하는 문제를 말합니다.<br>\n",
    "\n",
    "퍼셉트론의 구조는 2개의 변수 \n",
    "\n",
    "$ w_1x_1 + w_2x_2 + b = z$ 로 z 를 구한뒤 계단 함수(step function)을 사용하여 통과한 값을 통해 다시 가중치와 절편을 업데이트(학습)하는데 사용합니다.\n",
    "<br><br>\n",
    "계단함수는 z가 0보다 크거나 같으면 1로 작으면 -1로 나타내는 함수 입니다.\n",
    "<br><br>\n",
    "\n",
    "사실 챕터 2에서는 문제를 단순화 하기 위해 변수 x를 하나만 사용했지만 다양한 특성 x가 나타날 수 있습니다. 따라서\n",
    "\n",
    "$z = b + sum_{i=0}^nw_ix_i $ 의 형태로 선형 함수를 나타낼 수 있습니다.\n",
    "\n"
   ]
  },
  {
   "cell_type": "markdown",
   "metadata": {
    "colab_type": "text",
    "id": "sR7ivd92gGRU"
   },
   "source": [
    "### 아달린에 대해 알아봅시다.\n",
    "\n",
    "퍼셉트론이 등장한 이후 1960년대에 스탠포드 대학의 버나드 위드로우와 테드호프가 퍼셉트론을 개선한 적응형 선형 뉴런(아달린)을 발표하였습니다. 아달린은 선형함수의 결과를 학습에 적용합니다 계단함수의 결과는 예측에만 활용하죠.\n",
    "<br>\n",
    "\n",
    "---\n",
    "\n",
    "### 로지스틱 회귀에 대해 알아봅시다.\n",
    "\n",
    "**로지스틱 회귀(logistic regression)**는 아달린에서 조금 더 발전한 형태를 취하고 있습니다. 로지스틱 회귀는 선형 함수를 통과 시켜 얻은 z를 임계함수에 보내기 전에 변형시키는데 바로 이런 함수를 **활성화 함수(activation functino)**라고 부릅니다. 로지스틱 회귀는 마지막 단계에서 **임계 함수(threshold function)**를 사용하여 예측을 수행합니다.\n",
    "\n",
    "#### 활성화 함수는 비선형 함수를 사용합니다.\n",
    "\n",
    "* 선형함수만 사용하면 결국 선형함수를 사용한 것과 같기 때문입니다.\n",
    "\n",
    "다음은 비 선형 함수의 한 예입니다. <br><br>\n",
    "\n",
    "\n",
    "### $$ p=\\frac{1}{1+e^{-z}}$$\n",
    "<br>\n",
    "\n",
    "## 04-2 시그모이드 함수로 확률을 만듭니다.\n",
    "<br>\n",
    "활성화 함수인 시그모이드 함수는 z를 0~1 사이의 확률값으로 변환 시켜주는 역할을 합니다. 해석하기 나름이지만 보통 0.5 이상을 양성 클래스 그 이하면 음성 클래스로 구분합니다.\n",
    "\n",
    "### 시그모이드 함수가 만들어지는 과정을 살펴봅시다.<br>\n",
    "\n",
    "오즈비 > 로짓함수 > 시그모이드\n",
    "\n",
    "오즈 비(odds ratio)는 성공 확률과 실패 확률을 나타내는 통계이며 다음과 같이 정의 됩니다.\n",
    "<br><br>\n",
    "\n",
    "\n",
    "$$ OR(odds ratio) = \\frac{p}{1-p} ) (p는 성공확률) $$ <br>\n",
    "\n"
   ]
  },
  {
   "cell_type": "code",
   "execution_count": 1,
   "metadata": {
    "colab": {},
    "colab_type": "code",
    "id": "3rb7YZXSc7Ee"
   },
   "outputs": [],
   "source": [
    "import numpy as np\n",
    "import matplotlib.pyplot as plt"
   ]
  },
  {
   "cell_type": "code",
   "execution_count": 6,
   "metadata": {
    "colab": {},
    "colab_type": "code",
    "id": "28WZw3Rti-8y"
   },
   "outputs": [],
   "source": [
    "x = np.arange(start=0,stop=0.99,step=0.01)\n",
    "y = x / (1-x)"
   ]
  },
  {
   "cell_type": "code",
   "execution_count": 7,
   "metadata": {
    "colab": {
     "base_uri": "https://localhost:8080/",
     "height": 269
    },
    "colab_type": "code",
    "id": "ZZjxRKe8jupQ",
    "outputId": "be2ad1a2-56f5-431d-a751-d2173cc455d1"
   },
   "outputs": [
    {
     "data": {
      "image/png": "[encoded data removed]",
      "text/plain": [
       "<Figure size 432x288 with 1 Axes>"
      ]
     },
     "metadata": {
      "needs_background": "light"
     },
     "output_type": "display_data"
    }
   ],
   "source": [
    "plt.plot(x,y)\n",
    "plt.show()"
   ]
  },
  {
   "cell_type": "markdown",
   "metadata": {
    "colab_type": "text",
    "id": "sGtiRHGUkEPP"
   },
   "source": [
    "### 로짓 함수에 대해 알아볼까요?\n",
    "\n",
    "오즈 비에 로그 함수를 취하여 만든 함수를 로짓 함수(logit function)라고 합니다. \n",
    "<br>로짓 함수의 식은 다음과 같습니다.<br>\n",
    "\n",
    "$$ logit(p) = log(\\frac{p}{1-p}) $$ <br>\n"
   ]
  },
  {
   "cell_type": "code",
   "execution_count": 8,
   "metadata": {
    "colab": {
     "base_uri": "https://localhost:8080/",
     "height": 304
    },
    "colab_type": "code",
    "id": "5-M7EGxHj3gj",
    "outputId": "69c4926c-fafb-40d3-f80b-c0f15ad5595b"
   },
   "outputs": [
    {
     "name": "stderr",
     "output_type": "stream",
     "text": [
      "C:\\Users\\pulli\\Anaconda3\\lib\\site-packages\\ipykernel_launcher.py:1: RuntimeWarning: divide by zero encountered in log\n",
      "  \"\"\"Entry point for launching an IPython kernel.\n"
     ]
    },
    {
     "data": {
      "image/png": "[encoded data removed]",
      "text/plain": [
       "<Figure size 432x288 with 1 Axes>"
      ]
     },
     "metadata": {
      "needs_background": "light"
     },
     "output_type": "display_data"
    }
   ],
   "source": [
    "y2 = np.log(y)\n",
    "plt.plot(x,y2)\n",
    "plt.show()"
   ]
  },
  {
   "cell_type": "markdown",
   "metadata": {
    "colab_type": "text",
    "id": "PbG-MVlRlVdW"
   },
   "source": [
    "### 로지스틱 함수에 대해 알아볼까요?\n",
    "\n",
    "위 식을 다시 z에 대하여 정리하면 다음의 식이 됩니다. z에 대해 정리하는 이유는 가로축을 z로 놓기 위해서입니다.<br><br>\n",
    "\n",
    "### $$p = \\frac{1}{1+e^{-z}}$$ <br>"
   ]
  },
  {
   "cell_type": "code",
   "execution_count": 9,
   "metadata": {
    "colab": {
     "base_uri": "https://localhost:8080/",
     "height": 269
    },
    "colab_type": "code",
    "id": "-lgySJu2k6lB",
    "outputId": "41efdf63-c756-45ad-b365-5ef63ecefdf3"
   },
   "outputs": [
    {
     "data": {
      "image/png": "[encoded data removed]",
      "text/plain": [
       "<Figure size 432x288 with 1 Axes>"
      ]
     },
     "metadata": {
      "needs_background": "light"
     },
     "output_type": "display_data"
    }
   ],
   "source": [
    "z = np.arange(start=-10, stop=10, step = 0.01)\n",
    "y3 = 1/(1+np.exp(-z))\n",
    "plt.plot(z,y3)\n",
    "plt.show()"
   ]
  },
  {
   "cell_type": "markdown",
   "metadata": {
    "colab_type": "text",
    "id": "zIl1huzfmBsI"
   },
   "source": [
    "## 04-3 로지스틱 손실 함수를 경사 하강법에 적용합니다.\n",
    "\n",
    "### 로지스틱 손실 함수를 제대로 알아봅시다.\n",
    "\n",
    "로지스틱 손실 함수는 다중 분류를 위한 손실 함수인 크로스 엔트로피(cross entropy)손실 함수를 이진 분류 버전으로 만든것입니다.\n",
    "\n",
    "### $$L = -(ylog{(a)} + (1-y)log{(1-a)}$$<br>\n",
    "\n",
    "이제 로지스틱 손실 함수의 최솟값을 만드는 가중치와 절편을 찾기 위해 미분만 하면 됩니다.\n",
    "\n",
    "### 로지스틱 손실함수 미분하기 \n",
    "<br>\n",
    "로지스틱 손실 함수를 미분해 보겠습니다.\n",
    "<br><br>\n",
    "\n",
    "\n",
    "$$\\frac{\\partial}{\\partial w_1}L = -(y-a)x_i$$ <br>\n",
    "$$\\frac{\\partial}{\\partial b}L = -(y-a)$$ <br>\n",
    "\n",
    "그런데 미분한 결과를 자세히 보면 $\\hat{y}$만 a로 바뀌었을 제곱 오차를 미분한 결과와 동일합니다. 따라서 로지스틱 회귀의 구현이 Neuron클래스와 크게 다르지 않을 것이라는 생각이 들 것입니다.\n",
    "<br>\n",
    "\n",
    "---\n",
    "\n",
    "미분 상세 과정생략"
   ]
  },
  {
   "cell_type": "markdown",
   "metadata": {
    "colab_type": "text",
    "id": "8DRTcfjypG6N"
   },
   "source": [
    "### 가중치 업데이트 방법 정리\n",
    "\n",
    "$$w_i = w_i - \\frac{\\partial L}{\\partial w_i} = w_i + (y-a)x_i$$\n",
    "\n",
    "### 절편 업데이트 방법 정리\n",
    "\n",
    "$$b = b - \\frac{\\partial L}{\\partial b} = b + (y-a)$$"
   ]
  },
  {
   "cell_type": "markdown",
   "metadata": {
    "colab_type": "text",
    "id": "I7M09QupphKx"
   },
   "source": [
    "## 04-4 분류용 데이터 세트를 준비합니다.\n",
    "\n",
    "사이킷런에 포함된 위신콘신 유방암 데이터 세트를 사용합니다.\n",
    "\n"
   ]
  },
  {
   "cell_type": "code",
   "execution_count": 0,
   "metadata": {
    "colab": {},
    "colab_type": "code",
    "id": "SYzcCIADpc3o"
   },
   "outputs": [],
   "source": [
    "from sklearn.datasets import load_breast_cancer\n",
    "cancer = load_breast_cancer()"
   ]
  },
  {
   "cell_type": "code",
   "execution_count": 0,
   "metadata": {
    "colab": {
     "base_uri": "https://localhost:8080/",
     "height": 34
    },
    "colab_type": "code",
    "id": "Jb80H8LVpviW",
    "outputId": "5efd2d6b-58b3-47e5-eb70-55354c39a4e9"
   },
   "outputs": [
    {
     "name": "stdout",
     "output_type": "stream",
     "text": [
      "(569, 30) (569,)\n"
     ]
    }
   ],
   "source": [
    "print(cancer.data.shape, cancer.target.shape)"
   ]
  },
  {
   "cell_type": "code",
   "execution_count": 0,
   "metadata": {
    "colab": {
     "base_uri": "https://localhost:8080/",
     "height": 281
    },
    "colab_type": "code",
    "id": "SetvFgImpybQ",
    "outputId": "6aa7277b-3942-47fd-a013-4edab5572a59"
   },
   "outputs": [
    {
     "data": {
      "text/plain": [
       "array([[1.799e+01, 1.038e+01, 1.228e+02, 1.001e+03, 1.184e-01, 2.776e-01,\n",
       "        3.001e-01, 1.471e-01, 2.419e-01, 7.871e-02, 1.095e+00, 9.053e-01,\n",
       "        8.589e+00, 1.534e+02, 6.399e-03, 4.904e-02, 5.373e-02, 1.587e-02,\n",
       "        3.003e-02, 6.193e-03, 2.538e+01, 1.733e+01, 1.846e+02, 2.019e+03,\n",
       "        1.622e-01, 6.656e-01, 7.119e-01, 2.654e-01, 4.601e-01, 1.189e-01],\n",
       "       [2.057e+01, 1.777e+01, 1.329e+02, 1.326e+03, 8.474e-02, 7.864e-02,\n",
       "        8.690e-02, 7.017e-02, 1.812e-01, 5.667e-02, 5.435e-01, 7.339e-01,\n",
       "        3.398e+00, 7.408e+01, 5.225e-03, 1.308e-02, 1.860e-02, 1.340e-02,\n",
       "        1.389e-02, 3.532e-03, 2.499e+01, 2.341e+01, 1.588e+02, 1.956e+03,\n",
       "        1.238e-01, 1.866e-01, 2.416e-01, 1.860e-01, 2.750e-01, 8.902e-02],\n",
       "       [1.969e+01, 2.125e+01, 1.300e+02, 1.203e+03, 1.096e-01, 1.599e-01,\n",
       "        1.974e-01, 1.279e-01, 2.069e-01, 5.999e-02, 7.456e-01, 7.869e-01,\n",
       "        4.585e+00, 9.403e+01, 6.150e-03, 4.006e-02, 3.832e-02, 2.058e-02,\n",
       "        2.250e-02, 4.571e-03, 2.357e+01, 2.553e+01, 1.525e+02, 1.709e+03,\n",
       "        1.444e-01, 4.245e-01, 4.504e-01, 2.430e-01, 3.613e-01, 8.758e-02]])"
      ]
     },
     "execution_count": 15,
     "metadata": {
      "tags": []
     },
     "output_type": "execute_result"
    }
   ],
   "source": [
    "cancer.data[:3]"
   ]
  },
  {
   "cell_type": "code",
   "execution_count": 0,
   "metadata": {
    "colab": {
     "base_uri": "https://localhost:8080/",
     "height": 283
    },
    "colab_type": "code",
    "id": "X3unXfFyqHUu",
    "outputId": "9568ea3d-3edb-422f-8e3a-0dbf3f629d26"
   },
   "outputs": [
    {
     "data": {
      "image/png": "[encoded data removed]",
      "text/plain": [
       "<Figure size 432x288 with 1 Axes>"
      ]
     },
     "metadata": {
      "tags": []
     },
     "output_type": "display_data"
    }
   ],
   "source": [
    "plt.boxplot(cancer.data)\n",
    "plt.xlabel('feature')\n",
    "plt.ylabel('value')\n",
    "plt.show()"
   ]
  },
  {
   "cell_type": "code",
   "execution_count": 0,
   "metadata": {
    "colab": {
     "base_uri": "https://localhost:8080/",
     "height": 34
    },
    "colab_type": "code",
    "id": "cow4U5RCqShd",
    "outputId": "1fb0f0b0-115b-40f0-a500-e2fb4f8c4689"
   },
   "outputs": [
    {
     "data": {
      "text/plain": [
       "array(['mean area', 'area error', 'worst area'], dtype='<U23')"
      ]
     },
     "execution_count": 17,
     "metadata": {
      "tags": []
     },
     "output_type": "execute_result"
    }
   ],
   "source": [
    "cancer.feature_names[[3,13,23]]"
   ]
  },
  {
   "cell_type": "code",
   "execution_count": 0,
   "metadata": {
    "colab": {
     "base_uri": "https://localhost:8080/",
     "height": 34
    },
    "colab_type": "code",
    "id": "5eDqqT4Fqa4Y",
    "outputId": "11c23719-c9b7-43e7-d9e5-49ed5089e309"
   },
   "outputs": [
    {
     "data": {
      "text/plain": [
       "(array([0, 1]), array([212, 357]))"
      ]
     },
     "execution_count": 19,
     "metadata": {
      "tags": []
     },
     "output_type": "execute_result"
    }
   ],
   "source": [
    "np.unique(cancer.target, return_counts=True)"
   ]
  },
  {
   "cell_type": "code",
   "execution_count": 0,
   "metadata": {
    "colab": {},
    "colab_type": "code",
    "id": "6l4JDempqitn"
   },
   "outputs": [],
   "source": [
    "x = cancer.data\n",
    "y = cancer.target"
   ]
  },
  {
   "cell_type": "markdown",
   "metadata": {
    "colab_type": "text",
    "id": "zG5zMFPaq34G"
   },
   "source": [
    "## 04-5 로지스틱 회귀를 위한 뉴런을 만듭니다.\n",
    "\n",
    "### 모델의 성능 평가를 위한 훈련 세트와 테스트 세트\n",
    "\n",
    "훈련된 모델의 실전 성능을 일반화 성능(generalization performance)이라고 부릅니다. 그런데 모델에 학습시킨 훈련 데이터 세트로 다시 모델의 성능을 평가하면 그 모델은 당연히 좋은 성능이 나올 것입니다. 이런 성능 평가를 '과도하게 낙관적으로 일반화 성능을 추정합니다.' 따라서 데이터를 두 덩어리로 나누어 하나는 훈련에 다른 하나는 테스트에 사용합니다. 당연히 훈련데이터가 더 많아야 하며 나누기 전에 양성 음성 클래스가 어느 한쪽에 몰리지 않도록 골고루 섞어야 합니다.\n"
   ]
  },
  {
   "cell_type": "code",
   "execution_count": 0,
   "metadata": {
    "colab": {},
    "colab_type": "code",
    "id": "NKtkHWUoqswY"
   },
   "outputs": [],
   "source": [
    "from sklearn.model_selection import train_test_split"
   ]
  },
  {
   "cell_type": "code",
   "execution_count": 0,
   "metadata": {
    "colab": {},
    "colab_type": "code",
    "id": "eSbG8LELrfoy"
   },
   "outputs": [],
   "source": [
    "x_train, x_test, y_train, y_test = train_test_split(x, y, stratify=y, test_size=0.2, random_state=42)\n",
    "#stratify 훈련데이터를 나눌 때 클래스 비율을 동일하게 만듭니다.\n",
    "#test_size = 0.2 테스트에 전체의 20%를 할당하겠다.\n",
    "#random 의 seed 같은 것 결과를 동일하게 하기 위해서 값 42로 고정\n"
   ]
  },
  {
   "cell_type": "code",
   "execution_count": 0,
   "metadata": {
    "colab": {
     "base_uri": "https://localhost:8080/",
     "height": 34
    },
    "colab_type": "code",
    "id": "Zc18TGjbr37z",
    "outputId": "8ad8a9fb-899d-44a4-b737-7b795ff776c3"
   },
   "outputs": [
    {
     "name": "stdout",
     "output_type": "stream",
     "text": [
      "(455, 30) (114, 30)\n"
     ]
    }
   ],
   "source": [
    "print(x_train.shape, x_test.shape)"
   ]
  },
  {
   "cell_type": "code",
   "execution_count": 0,
   "metadata": {
    "colab": {
     "base_uri": "https://localhost:8080/",
     "height": 34
    },
    "colab_type": "code",
    "id": "b_XfaHjGr6jN",
    "outputId": "6c3450f0-cbc2-496a-b11c-b2d19a1d8c46"
   },
   "outputs": [
    {
     "data": {
      "text/plain": [
       "(array([0, 1]), array([170, 285]))"
      ]
     },
     "execution_count": 24,
     "metadata": {
      "tags": []
     },
     "output_type": "execute_result"
    }
   ],
   "source": [
    "np.unique(y_train, return_counts=True)"
   ]
  },
  {
   "cell_type": "code",
   "execution_count": 0,
   "metadata": {
    "colab": {},
    "colab_type": "code",
    "id": "dEAbXwfGr__p"
   },
   "outputs": [],
   "source": [
    "class LogisticNeuron:\n",
    "  def __init__(self):\n",
    "    self.w = None\n",
    "    self.b = None\n",
    "\n",
    "  def forpass(self, x):\n",
    "    return np.sum(x*self.w) + self.b\n",
    "  \n",
    "  def backprop(self, x, err):\n",
    "    return x*err, err\n",
    "\n",
    "  def activation(self, z):\n",
    "    return (1 / (1 + np.exp(-z)))\n",
    "\n",
    "  def fit(self, x, y, epochs=100):\n",
    "    self.w = np.ones(x.shape[1])\n",
    "    self.b = 0\n",
    "    for i in range(epochs):\n",
    "      for x_i, y_i in zip(x,y):\n",
    "        z = self.forpass(x_i)\n",
    "        a = self.activation(z)\n",
    "        err = -(y_i - a)\n",
    "        w_grad, b_grad = self.backprop(x_i, err)\n",
    "        self.w -= w_grad\n",
    "        self.b -= b_grad\n",
    "  def predict(self, x):\n",
    "    z = [self.forpass(x_i) for x_i in x]\n",
    "    a = self.activation(np.array(z))\n",
    "    return a > 0.5\n",
    "    "
   ]
  },
  {
   "cell_type": "code",
   "execution_count": 0,
   "metadata": {
    "colab": {
     "base_uri": "https://localhost:8080/",
     "height": 52
    },
    "colab_type": "code",
    "id": "8CMjVv6Ut26Y",
    "outputId": "3b8fed23-9814-411a-dfea-49d6c1cd9b6e"
   },
   "outputs": [
    {
     "name": "stderr",
     "output_type": "stream",
     "text": [
      "/usr/local/lib/python3.6/dist-packages/ipykernel_launcher.py:13: RuntimeWarning: overflow encountered in exp\n",
      "  del sys.path[0]\n"
     ]
    }
   ],
   "source": [
    "neuron = LogisticNeuron()\n",
    "neuron.fit(x_train, y_train)"
   ]
  },
  {
   "cell_type": "code",
   "execution_count": 0,
   "metadata": {
    "colab": {
     "base_uri": "https://localhost:8080/",
     "height": 158
    },
    "colab_type": "code",
    "id": "fr5Lt8Sdt77V",
    "outputId": "3823eaaf-71f9-4d5b-a05f-d0d3a734d111"
   },
   "outputs": [
    {
     "data": {
      "text/plain": [
       "array([ 4.48212100e+03,  2.50380000e+02,  2.25326800e+04,  3.77790000e+03,\n",
       "        1.35087800e+01, -1.32472480e+02, -2.30506664e+02, -8.84863530e+01,\n",
       "        5.36320000e+00,  1.79346700e+01,  3.71583000e+01,  1.54449000e+02,\n",
       "       -3.82190300e+02, -8.17391500e+03, -9.08397000e-01, -3.95507940e+01,\n",
       "       -5.58356153e+01, -1.06943310e+01, -7.54708300e+00, -2.11901930e+00,\n",
       "        4.60024100e+03, -3.49980000e+02,  1.87290500e+04, -8.51160000e+03,\n",
       "       -1.21236000e+00, -4.92532850e+02, -6.38802909e+02, -1.67616223e+02,\n",
       "       -7.94328000e+01, -1.58601600e+01])"
      ]
     },
     "execution_count": 37,
     "metadata": {
      "tags": []
     },
     "output_type": "execute_result"
    }
   ],
   "source": [
    "neuron.w"
   ]
  },
  {
   "cell_type": "code",
   "execution_count": 0,
   "metadata": {
    "colab": {
     "base_uri": "https://localhost:8080/",
     "height": 70
    },
    "colab_type": "code",
    "id": "HpczHDc9uG_m",
    "outputId": "f2181d6a-e1a8-4500-ca0f-fa77ef7f5380"
   },
   "outputs": [
    {
     "name": "stderr",
     "output_type": "stream",
     "text": [
      "/usr/local/lib/python3.6/dist-packages/ipykernel_launcher.py:13: RuntimeWarning: overflow encountered in exp\n",
      "  del sys.path[0]\n"
     ]
    },
    {
     "data": {
      "text/plain": [
       "0.8245614035087719"
      ]
     },
     "execution_count": 38,
     "metadata": {
      "tags": []
     },
     "output_type": "execute_result"
    }
   ],
   "source": [
    "np.mean(neuron.predict(x_test) == y_test)"
   ]
  },
  {
   "cell_type": "code",
   "execution_count": 0,
   "metadata": {
    "colab": {
     "base_uri": "https://localhost:8080/",
     "height": 70
    },
    "colab_type": "code",
    "id": "e1NYq_YwuRWP",
    "outputId": "447d9c77-9356-42c0-dafd-efa4921ca349"
   },
   "outputs": [
    {
     "name": "stderr",
     "output_type": "stream",
     "text": [
      "/usr/local/lib/python3.6/dist-packages/ipykernel_launcher.py:13: RuntimeWarning: overflow encountered in exp\n",
      "  del sys.path[0]\n"
     ]
    },
    {
     "data": {
      "text/plain": [
       "0.865934065934066"
      ]
     },
     "execution_count": 39,
     "metadata": {
      "tags": []
     },
     "output_type": "execute_result"
    }
   ],
   "source": [
    "np.mean(neuron.predict(x_train) == y_train)"
   ]
  },
  {
   "cell_type": "markdown",
   "metadata": {
    "colab_type": "text",
    "id": "n8JGF48cvO2n"
   },
   "source": [
    "## 04-6 로지스틱 회귀 뉴런으로 단일층 신경망을 만듭니다.\n",
    "<br>\n",
    "사실 우리는 이미 단일층 신경망을 구현했습니다.!<br> 로지스틱 회귀는 단일층 신경망(single layer neural network)과 동일하기 때문입니다.\n",
    "<br>\n",
    "\n",
    "### 일반적인 신경망의 모습을 알아봅시다.\n",
    "<br>\n",
    "일반적으로 신경망은 입력층, 출력층, 가운데 은닉층으로 구성되어 있습니다.\n",
    "단일층신경망은 은닉층이 없는 신경망이라고 할 수 있습니다.\n",
    "\n"
   ]
  },
  {
   "cell_type": "markdown",
   "metadata": {
    "colab_type": "text",
    "id": "BcMz-xllvx6-"
   },
   "source": [
    "## 단일층 신경망을 구현합니다."
   ]
  },
  {
   "cell_type": "markdown",
   "metadata": {
    "colab_type": "text",
    "id": "QQOH7B0Q0wtJ"
   },
   "source": [
    "지금까지 사용한 경사 하강법은 샘플 데이터 1개에 대한 그레이디언트를 계산하였습니다. 이를 확률적 경사 하강법(stochastic gradient descent)라고 부릅니다. 전체 훈련 세트를 사용하여 한 번에 그레디언트를 계산하는 방식인 배치 경사 하강법(batch gradient descent)과 배치 크기를 작게 하여 처리하는 방식인 미니 배치 경사 하강법이 있습니다."
   ]
  },
  {
   "cell_type": "code",
   "execution_count": 0,
   "metadata": {
    "colab": {},
    "colab_type": "code",
    "id": "B8G6w7tRu3mZ"
   },
   "outputs": [],
   "source": [
    "class SingleLayer:\n",
    "  def __init__(self):\n",
    "    self.w = None\n",
    "    self.b = None\n",
    "    self.losses = []\n",
    "\n",
    "  def forpass(self, x):\n",
    "    return np.sum(x*self.w) + self.b\n",
    "  \n",
    "  def backprop(self, x, err):\n",
    "    return x*err, err\n",
    "\n",
    "  def add_bias(self, x):\n",
    "    return np.c_[np.ones((x.shape[0],1)), x]\n",
    "  def activation(self, z):\n",
    "    return (1 / (1 + np.exp(-z)))\n",
    "\n",
    "  def fit(self, x, y, epochs=100):\n",
    "    self.w = np.ones(x.shape[1])\n",
    "    self.b = 0\n",
    "    for i in range(epochs):\n",
    "      loss = 0\n",
    "      indexes = np.random.permutation(np.arange(len(x)))\n",
    "      for i in indexes:\n",
    "        z = self.forpass(x[i])\n",
    "        a = self.activation(z)\n",
    "        err = -(y[i] - a)\n",
    "        w_grad, b_grad = self.backprop(x[i], err)\n",
    "        self.w -= w_grad\n",
    "        self.b -= b_grad\n",
    "        a = np.clip(a, 1e-10,1-1e-10) #안전한 로그 계산을 위해 클리핑한 후 손실을 누적합니다.\n",
    "\n",
    "        loss += -(y[i]*np.log(a) + (1-y[i])*np.log(1-a))\n",
    "      self.losses.append(loss/len(y))\n",
    "\n",
    "  def predict(self, x):\n",
    "    z = [self.forpass(x_i) for x_i in x]\n",
    "    return np.array(z) > 0\n",
    "  \n",
    "  def score(self, x, y):\n",
    "    return np.mean(self.predict(x) == y)"
   ]
  },
  {
   "cell_type": "code",
   "execution_count": 0,
   "metadata": {
    "colab": {
     "base_uri": "https://localhost:8080/",
     "height": 70
    },
    "colab_type": "code",
    "id": "AyGQ61WiyaT_",
    "outputId": "1250ddbc-e91f-4e7f-f345-ba12b4966d94"
   },
   "outputs": [
    {
     "name": "stderr",
     "output_type": "stream",
     "text": [
      "/usr/local/lib/python3.6/dist-packages/ipykernel_launcher.py:16: RuntimeWarning: overflow encountered in exp\n",
      "  app.launch_new_instance()\n"
     ]
    },
    {
     "data": {
      "text/plain": [
       "0.8947368421052632"
      ]
     },
     "execution_count": 44,
     "metadata": {
      "tags": []
     },
     "output_type": "execute_result"
    }
   ],
   "source": [
    "layer = SingleLayer()\n",
    "layer.fit(x_train, y_train)\n",
    "layer.score(x_test,y_test)"
   ]
  },
  {
   "cell_type": "code",
   "execution_count": 0,
   "metadata": {
    "colab": {
     "base_uri": "https://localhost:8080/",
     "height": 269
    },
    "colab_type": "code",
    "id": "W78US0UFyniM",
    "outputId": "1ff45f1b-7d88-4663-8ccc-94a2d3c6ffd3"
   },
   "outputs": [
    {
     "data": {
      "image/png": "[encoded data removed]",
      "text/plain": [
       "<Figure size 432x288 with 1 Axes>"
      ]
     },
     "metadata": {
      "tags": []
     },
     "output_type": "display_data"
    }
   ],
   "source": [
    "plt.plot(layer.losses)\n",
    "plt.show()"
   ]
  },
  {
   "cell_type": "code",
   "execution_count": 0,
   "metadata": {
    "colab": {
     "base_uri": "https://localhost:8080/",
     "height": 34
    },
    "colab_type": "code",
    "id": "i8kyswoH0O24",
    "outputId": "e148e2a6-1c17-4371-b0a9-74c9a74405ce"
   },
   "outputs": [
    {
     "data": {
      "text/plain": [
       "0.8333333333333334"
      ]
     },
     "execution_count": 58,
     "metadata": {
      "tags": []
     },
     "output_type": "execute_result"
    }
   ],
   "source": [
    "from sklearn.linear_model import SGDClassifier\n",
    "sgd = SGDClassifier(loss='log', max_iter=100, tol=1e-3, random_state=42)\n",
    "\n",
    "sgd.fit(x_train, y_train)\n",
    "sgd.score(x_test, y_test)"
   ]
  },
  {
   "cell_type": "code",
   "execution_count": 0,
   "metadata": {
    "colab": {
     "base_uri": "https://localhost:8080/",
     "height": 34
    },
    "colab_type": "code",
    "id": "c2xZp3sK7J4U",
    "outputId": "cb3e11a7-2400-4f30-ca80-d83490ca3c69"
   },
   "outputs": [
    {
     "data": {
      "text/plain": [
       "array([0, 1, 0, 0, 0, 0, 1, 0, 0, 0])"
      ]
     },
     "execution_count": 59,
     "metadata": {
      "tags": []
     },
     "output_type": "execute_result"
    }
   ],
   "source": [
    "sgd.predict(x_test[0:10])"
   ]
  },
  {
   "cell_type": "code",
   "execution_count": 0,
   "metadata": {
    "colab": {
     "base_uri": "https://localhost:8080/",
     "height": 34
    },
    "colab_type": "code",
    "id": "bx_lhlya7Pc9",
    "outputId": "43ee3c50-6bff-4e32-d943-3b75a4c6d193"
   },
   "outputs": [
    {
     "data": {
      "text/plain": [
       "array([0, 1, 0, 1, 0, 1, 1, 0, 0, 0])"
      ]
     },
     "execution_count": 60,
     "metadata": {
      "tags": []
     },
     "output_type": "execute_result"
    }
   ],
   "source": [
    "y_test[0:10]"
   ]
  },
  {
   "cell_type": "code",
   "execution_count": 0,
   "metadata": {
    "colab": {
     "base_uri": "https://localhost:8080/",
     "height": 34
    },
    "colab_type": "code",
    "id": "iJ3LeUe47Q8-",
    "outputId": "c9cff77d-9de3-45a5-97d5-544333e26a22"
   },
   "outputs": [
    {
     "data": {
      "text/plain": [
       "0.8"
      ]
     },
     "execution_count": 62,
     "metadata": {
      "tags": []
     },
     "output_type": "execute_result"
    }
   ],
   "source": [
    "np.mean(sgd.predict(x_test[:10]) == y_test[:10])"
   ]
  },
  {
   "cell_type": "code",
   "execution_count": 0,
   "metadata": {
    "colab": {},
    "colab_type": "code",
    "id": "koXT1j_67W9Z"
   },
   "outputs": [],
   "source": []
  }
 ],
 "metadata": {
  "colab": {
   "collapsed_sections": [],
   "name": "Chapter 4.ipynb",
   "provenance": []
  },
  "kernelspec": {
   "display_name": "Python 3",
   "language": "python",
   "name": "python3"
  },
  "language_info": {
   "codemirror_mode": {
    "name": "ipython",
    "version": 3
   },
   "file_extension": ".py",
   "mimetype": "text/x-python",
   "name": "python",
   "nbconvert_exporter": "python",
   "pygments_lexer": "ipython3",
   "version": "3.7.3"
  }
 },
 "nbformat": 4,
 "nbformat_minor": 1
}
