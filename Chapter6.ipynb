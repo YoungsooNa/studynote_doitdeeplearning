{
 "cells": [
  {
   "cell_type": "markdown",
   "metadata": {
    "colab_type": "text",
    "id": "hG2JjCWHLLJ9"
   },
   "source": [
    "#06 2개의 층을 연결합니다. -다층 신경망\n",
    "\n",
    "## 06-1 신경망 알고리즘을 벡터화하여 한 번에 전체 샘플을 사용합니다\n",
    "\n",
    "넘파이, 머신러닝, 딥러닝 패키지들은 다차원의 배열 계싼을 빠르게 수행할 수 있습니다. 이런 기능을 벡터화(vecotrization)된 연산이라고 합니다.\n",
    "\n",
    "지금까지 구해왔던 z = x * self.w 에서 두 벡터의 연산이 * 기호로 단순하게 이루어 졌는데 이를 풀어쓰면 $x*w = x_1w_1 + x_2w_2...x_nw_n$이 됩니다. 이를 점 곱(dot product) 또는 스칼라 곱이라고 합니다\n"
   ]
  },
  {
   "cell_type": "code",
   "execution_count": 0,
   "metadata": {
    "colab": {},
    "colab_type": "code",
    "id": "YE2jUA8fK3uD"
   },
   "outputs": [],
   "source": [
    "import numpy as np\n",
    "import matplotlib.pyplot as plt\n",
    "\n",
    "from sklearn.datasets import load_breast_cancer\n",
    "from sklearn.model_selection import train_test_split\n",
    "\n",
    "cancer = load_breast_cancer()\n",
    "x = cancer.data\n",
    "y = cancer.target\n",
    "\n",
    "x_train_all, x_test, y_train_all, y_test = train_test_split(x,y,stratify=y,test_size=0.2,\n",
    "                                                            random_state=42)\n",
    "x_train, x_val, y_train, y_val = train_test_split(x_train_all, y_train_all,\n",
    "                                                  stratify=y_train_all, test_size=0.2, random_state=42)"
   ]
  },
  {
   "cell_type": "code",
   "execution_count": 0,
   "metadata": {
    "colab": {
     "base_uri": "https://localhost:8080/",
     "height": 34
    },
    "colab_type": "code",
    "id": "djDZ8rdMM5VV",
    "outputId": "bc0aa2b7-9558-409a-8307-27ee0193326a"
   },
   "outputs": [
    {
     "name": "stdout",
     "output_type": "stream",
     "text": [
      "(364, 30) (91, 30)\n"
     ]
    }
   ],
   "source": [
    "print(x_train.shape, x_val.shape)"
   ]
  },
  {
   "cell_type": "code",
   "execution_count": 0,
   "metadata": {
    "colab": {},
    "colab_type": "code",
    "id": "tJuuA8b_NKiV"
   },
   "outputs": [],
   "source": [
    "class SingleLayer:\n",
    "\n",
    "  def __init__(self, learning_rate = 0.1, l1=0, l2=0):\n",
    "    self.w = None\n",
    "    self.b = None\n",
    "    self.losses = []\n",
    "    self.val_losses = []\n",
    "    self.w_history = []\n",
    "    self.lr = learning_rate\n",
    "    self.l1 = l1\n",
    "    self.l2 = l2\n",
    "  \n",
    "  def forpass(self, x):\n",
    "    return np.dot(x, self.w) + self.b\n",
    "  \n",
    "  def backprop(self, x, err):\n",
    "    m = len(x)\n",
    "    w_grad = np.dot(x.T, err) / m\n",
    "    b_grad = np.sum(err)/m\n",
    "\n",
    "    return w_grad, b_grad\n",
    "\n",
    "  \n",
    "  def activation(self, z):\n",
    "    return (1 / (1 + np.exp(-z)))\n",
    "\n",
    "  def fit(self, x, y, epochs=100, x_val=None, y_val=None):\n",
    "    y = y.reshape(-1,1)\n",
    "    y_val = y_val.reshape(-1,1)\n",
    "    m = len(x)\n",
    "    self.w = np.ones((x.shape[1],1))\n",
    "    self.b = 0\n",
    "    self.w_history.append(self.w.copy())\n",
    "    np.random.seed(42)\n",
    "    for i in range(epochs):\n",
    "      z = self.forpass(x)\n",
    "      a = self.activation(z)\n",
    "      err = -(y-a)\n",
    "      w_grad, b_grad = self.backprop(x,err)\n",
    "\n",
    "      w_grad += (self.l1 * np.sign(self.w) + self.l2*self.w) / m\n",
    "      self.w -= self.lr * w_grad\n",
    "      self.b -= self.lr*b_grad\n",
    "\n",
    "      self.w_history.append(self.w.copy())\n",
    "      a = np.clip(a,1e-10, 1-1e-10)\n",
    "\n",
    "      loss = np.sum(-(y*np.log(a)+(1-y)*np.log(1-a)))\n",
    "      self.losses.append((loss+self.reg_loss()) / m)\n",
    "      self.update_val_loss(x_val, y_val)\n",
    "\n",
    "\n",
    "  def update_val_loss(self, x_val, y_val):\n",
    "    z = self.forpass(x_val)\n",
    "    a = self.activation(z)\n",
    "    a = np.clip(a, 1e-10, 1-1e-10)\n",
    "    val_loss =np.sum( -(y_val*np.log(a)+(1-y_val)*np.log(1-a)))\n",
    "    self.val_losses.append((val_loss+ self.reg_loss())/len(y_val) )\n",
    "  \n",
    "  def reg_loss(self):\n",
    "    return self.l1 * np.sum(np.abs(self.w)) + self.l2 / 2 * np.sum(self.w**2)\n",
    "\n",
    "  def predict(self, x):\n",
    "    z = [self.forpass(x_i) for x_i in x]\n",
    "    return np.array(z) > 0\n",
    "  \n",
    "  def score(self, x, y):\n",
    "    return np.mean(self.predict(x) == y.reshape(-1,1))"
   ]
  },
  {
   "cell_type": "code",
   "execution_count": 0,
   "metadata": {
    "colab": {},
    "colab_type": "code",
    "id": "4SKjMn5_Rvrj"
   },
   "outputs": [],
   "source": [
    "from sklearn.preprocessing import StandardScaler\n",
    "\n",
    "scaler = StandardScaler()\n",
    "scaler.fit(x_train)\n",
    "x_train_scaled = scaler.transform(x_train)\n",
    "x_val_scaled = scaler.transform(x_val)"
   ]
  },
  {
   "cell_type": "code",
   "execution_count": 0,
   "metadata": {
    "colab": {
     "base_uri": "https://localhost:8080/",
     "height": 34
    },
    "colab_type": "code",
    "id": "wtAzOSF6TMiD",
    "outputId": "8aac8606-6ea1-4496-f729-553dcc2feaab"
   },
   "outputs": [
    {
     "data": {
      "text/plain": [
       "0.978021978021978"
      ]
     },
     "execution_count": 25,
     "metadata": {
      "tags": []
     },
     "output_type": "execute_result"
    }
   ],
   "source": [
    "single_layer = SingleLayer(l2 = 0.01)\n",
    "single_layer.fit(x_train_scaled, y_train, x_val = x_val_scaled, y_val = y_val, epochs=10000)\n",
    "single_layer.score(x_val_scaled, y_val)"
   ]
  },
  {
   "cell_type": "code",
   "execution_count": 0,
   "metadata": {
    "colab": {
     "base_uri": "https://localhost:8080/",
     "height": 283
    },
    "colab_type": "code",
    "id": "ZEIBYaLETeHB",
    "outputId": "2b311b38-1d3c-4e09-8dc5-80461c43ddff"
   },
   "outputs": [
    {
     "data": {
      "image/png": "[encoded data removed]",
      "text/plain": [
       "<Figure size 432x288 with 1 Axes>"
      ]
     },
     "metadata": {
      "tags": []
     },
     "output_type": "display_data"
    }
   ],
   "source": [
    "plt.ylim(0, 0.3)\n",
    "plt.plot(single_layer.losses)\n",
    "plt.plot(single_layer.val_losses)\n",
    "plt.ylabel('loss')\n",
    "plt.xlabel('epoch')\n",
    "plt.legend(['train_loss','val_loss'])\n",
    "plt.show()"
   ]
  },
  {
   "cell_type": "code",
   "execution_count": 0,
   "metadata": {
    "colab": {
     "base_uri": "https://localhost:8080/",
     "height": 269
    },
    "colab_type": "code",
    "id": "5CSG_U-ST6YJ",
    "outputId": "b954b277-be71-4803-9b2e-3d0cca53954a"
   },
   "outputs": [
    {
     "data": {
      "image/png": "[encoded data removed]",
      "text/plain": [
       "<Figure size 432x288 with 1 Axes>"
      ]
     },
     "metadata": {
      "tags": []
     },
     "output_type": "display_data"
    }
   ],
   "source": [
    "w2 = []\n",
    "w3 = []\n",
    "\n",
    "for w in single_layer.w_history:\n",
    "  w2.append(w[2])\n",
    "  w3.append(w[3])\n",
    "\n",
    "plt.plot(w2, w3)\n",
    "plt.plot(w2[-1], w3[-1], 'ro')\n",
    "plt.show()"
   ]
  },
  {
   "cell_type": "markdown",
   "metadata": {
    "colab_type": "text",
    "id": "32mFh-hrW9Av"
   },
   "source": [
    "### 결론 : 배치경사법을 사용하면 가중치를 경로가 다소 부드러운 곡선의 형태를 뛰고 손실값도 안정적으로 수렴됩니다. 하지만 배치 경사 하강법은 매번 전체 훈련 세트를 사용하므로 연산 비용이 많이 들고 최솟값에 수렴하는 시간 도 많이 걸립니다."
   ]
  },
  {
   "cell_type": "code",
   "execution_count": 0,
   "metadata": {
    "colab": {},
    "colab_type": "code",
    "id": "qnRA-v4bVLTx"
   },
   "outputs": [],
   "source": []
  },
  {
   "cell_type": "markdown",
   "metadata": {
    "colab_type": "text",
    "id": "MLrNM3-6XVjP"
   },
   "source": [
    "## 06-2 2개의 층을 가진 신경망을 구현합니다\n",
    "\n",
    "오타 : p170 알고리도즘으로 \n",
    "\n"
   ]
  },
  {
   "cell_type": "code",
   "execution_count": 0,
   "metadata": {
    "colab": {},
    "colab_type": "code",
    "id": "TYgWEctdVzdL"
   },
   "outputs": [],
   "source": [
    "class DualLayer(SingleLayer):\n",
    "  \n",
    "  def __init__(self, units=10, learning_rate=0.1, l1=0, l2=0):\n",
    "    self.units = units # 은닉층 뉴런 개수\n",
    "    self.w1 = None     # 은닉층의 가중치\n",
    "    self.b1 = None     # 은닉층의 절편\n",
    "    self.w2 = None     # 출력층의 가중치\n",
    "    self.b2 = None     # 출력층의 절편\n",
    "    self.a1 = None     # 은닉층의 활성화 출력\n",
    "    self.losses = []\n",
    "    self.val_losses = []\n",
    "    self.lr = learning_rate\n",
    "    self.l1 = l1\n",
    "    self.l2 = l2\n",
    "  \n",
    "  def forpass(self, x):\n",
    "    z1 = np.dot(x, self.w1) + self.b1\n",
    "    self.a1 = self.activation(z1)\n",
    "    z2 = np.dot(self.a1, self.w2) + self.b2\n",
    "    return z2\n",
    "  def activation(self, z):\n",
    "    return (1 / (1 + np.exp(-z)))\n",
    "  \n",
    "  def backprop(self, x, err):\n",
    "    m = len(x)\n",
    "    \n",
    "    w2_grad = np.dot(self.a1.T, err) / m\n",
    "    b2_grad = np.sum(err) / m\n",
    "    \n",
    "    err_to_hidden = np.dot(err, self.w2.T) * self.a1 * (1 - self.a1)\n",
    "    \n",
    "    w1_grad = np.dot(x.T, err_to_hidden) / m\n",
    "    b1_grad = np.sum(err_to_hidden, axis=0) / m\n",
    "    \n",
    "    return w1_grad, b1_grad, w2_grad, b2_grad\n",
    "  \n",
    "  def init_weights(self, n_features):\n",
    "    self.w1 = np.ones((n_features, self.units))\n",
    "    self.b1 = np.zeros(self.units)\n",
    "    self.w2 = np.ones((self.units, 1))\n",
    "    self.b2 = 0\n",
    "  def fit(self, x, y, epochs=100, x_val=None, y_val=None):\n",
    "    y = y.reshape(-1, 1)\n",
    "    y_val = y_val.reshape(-1, 1)\n",
    "    m = len(x)\n",
    "    self.init_weights(x.shape[1])\n",
    "    \n",
    "    for i in range(epochs):\n",
    "      a = self.training(x, y, m)\n",
    "      a = np.clip(a, 1e-10, 1-1e-10)\n",
    "      \n",
    "      loss = np.sum(-(y*np.log(a) + (1-y)*np.log(1-a)))\n",
    "      self.losses.append((loss + self.reg_loss()) / m)\n",
    "      self.update_val_loss(x_val, y_val)\n",
    "    \n",
    "  def training(self, x, y, m):\n",
    "    z = self.forpass(x) #정방향\n",
    "    a = self.activation(z) #활성화 함수\n",
    "    err = -(y - a) # 오차 계산\n",
    "    # 오차를 역전파하여 그레이디언트를 계산합니다\n",
    "    w1_grad, b1_grad, w2_grad, b2_grad = self.backprop(x, err)\n",
    "    # 그레이디언트에서 페널티 항의 미분값을 뺍니다.\n",
    "    w1_grad += (self.l1 * np.sign(self.w1) + self.l2 * self.w1) / m\n",
    "    w2_grad += (self.l1 * np.sign(self.w2) + self.l2 * self.w2) / m\n",
    "    \n",
    "    self.w1 -= self.lr * w1_grad\n",
    "    self.b1 -= self.lr * b1_grad\n",
    "    \n",
    "    self.w2 -= self.lr * w2_grad\n",
    "    self.b2 -= self.lr * b2_grad\n",
    "    \n",
    "    return a\n",
    "  def reg_loss(self):\n",
    "    return self.l1 * (np.sum(np.abs(self.w1)) + np.sum(np.abs(self.w2))) + self.l2 / 2 * (np.sum(self.w1**2) + np.sum(self.w2**2))\n",
    "  \n",
    "  def update_val_loss(self, x_val, y_val):\n",
    "    z = self.forpass(x_val)\n",
    "    a = self.activation(z)\n",
    "    a = np.clip(a, 1e-10, 1-1e-10)\n",
    "    val_loss =np.sum( -(y_val*np.log(a)+(1-y_val)*np.log(1-a)))\n",
    "    self.val_losses.append((val_loss+ self.reg_loss())/len(y_val) )\n",
    "  \n",
    "  def predict(self, x):\n",
    "    z = [self.forpass(x_i) for x_i in x]\n",
    "    return np.array(z) > 0\n",
    "  \n",
    "  def score(self, x, y):\n",
    "    return np.mean(self.predict(x) == y.reshape(-1,1))"
   ]
  },
  {
   "cell_type": "code",
   "execution_count": 6,
   "metadata": {
    "colab": {
     "base_uri": "https://localhost:8080/",
     "height": 35
    },
    "colab_type": "code",
    "id": "yFXr2c3Ochyy",
    "outputId": "f0d6f02e-6fd1-4943-9045-9eea1e3f0582"
   },
   "outputs": [
    {
     "data": {
      "text/plain": [
       "0.978021978021978"
      ]
     },
     "execution_count": 6,
     "metadata": {
      "tags": []
     },
     "output_type": "execute_result"
    }
   ],
   "source": [
    "dual_layer = DualLayer(l2=0.01)\n",
    "dual_layer.fit(x_train_scaled, y_train, x_val=x_val_scaled, y_val=y_val, epochs=20000)\n",
    "dual_layer.score(x_val_scaled, y_val)"
   ]
  },
  {
   "cell_type": "code",
   "execution_count": 7,
   "metadata": {
    "colab": {
     "base_uri": "https://localhost:8080/",
     "height": 283
    },
    "colab_type": "code",
    "id": "9ZPSp-bZdJhP",
    "outputId": "7de187aa-dfce-4486-e130-a9d5f7a93199"
   },
   "outputs": [
    {
     "data": {
      "image/png": "[encoded data removed]",
      "text/plain": [
       "<Figure size 432x288 with 1 Axes>"
      ]
     },
     "metadata": {
      "tags": []
     },
     "output_type": "display_data"
    }
   ],
   "source": [
    "plt.ylim(0, 0.3)\n",
    "plt.plot(dual_layer.losses)\n",
    "plt.plot(dual_layer.val_losses)\n",
    "plt.ylabel('loss')\n",
    "plt.xlabel('epoch')\n",
    "plt.legend(['train_loss', 'val_loss'])\n",
    "plt.show()"
   ]
  },
  {
   "cell_type": "code",
   "execution_count": 0,
   "metadata": {
    "colab": {},
    "colab_type": "code",
    "id": "xRSVDBqtdfLy"
   },
   "outputs": [],
   "source": [
    "# 학습하는데 7500 회정도는 해야 하는 것을 볼 수 있다. \n",
    "# 이는 학습해야 하는 가중치의 갯수가 31개에서 321개로 증개해서 그렇다.\n",
    "# 가중치 초기화를 개선해서 학습 속도를 향상 시켜보자\n",
    "\n",
    "class RandomInitNetwork(DualLayer):\n",
    "  def init_weights(self, n_features):\n",
    "    np.random.seed(42)\n",
    "    self.w1 = np.random.normal(0, 1, (n_features, self.units))\n",
    "    self.b1 = np.zeros(self.units)\n",
    "    self.w2 = np.random.normal(0, 1, (self.units, 1))\n",
    "    self.b2 = 0"
   ]
  },
  {
   "cell_type": "code",
   "execution_count": 11,
   "metadata": {
    "colab": {
     "base_uri": "https://localhost:8080/",
     "height": 283
    },
    "colab_type": "code",
    "id": "_EKPEZ9BeZFG",
    "outputId": "43c0c0f6-d915-4bbe-b71d-1f8e2df54792"
   },
   "outputs": [
    {
     "data": {
      "image/png": "[encoded data removed]",
      "text/plain": [
       "<Figure size 432x288 with 1 Axes>"
      ]
     },
     "metadata": {
      "tags": []
     },
     "output_type": "display_data"
    }
   ],
   "source": [
    "random_init_net = RandomInitNetwork(l2=0.01)\n",
    "random_init_net.fit(x_train_scaled, y_train, x_val=x_val_scaled, y_val=y_val, epochs=500)\n",
    "\n",
    "#오타 dual_layer -> random_init_net\n",
    "\n",
    "plt.ylim(0, 0.3)\n",
    "plt.plot(random_init_net.losses)\n",
    "plt.plot(random_init_net.val_losses)\n",
    "plt.ylabel('loss')\n",
    "plt.xlabel('epoch')\n",
    "plt.legend(['train_loss', 'val_loss'])\n",
    "plt.show()"
   ]
  },
  {
   "cell_type": "markdown",
   "metadata": {
    "colab_type": "text",
    "id": "YQeXfKwgqm8U"
   },
   "source": [
    "## 06-3 미니 배치를 사용하여 모델을 훈련합니다.\n",
    "\n",
    "확률적 경사 하강법 + 배치 경사 하강법 = 미니 배치(mini batch) 경사 하강법이 널리 사용됩니다.\n",
    "중요한 것은 미니 배치의 최적값은 정해진 것이 아니라는 점입니다. 미니 배치의 크기도 하이퍼파라미터이고 튜닝의 대상입니다."
   ]
  },
  {
   "cell_type": "code",
   "execution_count": 0,
   "metadata": {
    "colab": {},
    "colab_type": "code",
    "id": "FYYNMgJneuO7"
   },
   "outputs": [],
   "source": [
    "class MinibatchNetwork(RandomInitNetwork):\n",
    "  \n",
    "  def __init__(self, units=10, batch_size=32, learning_rate=0.1, l1=0, l2=0):\n",
    "    super().__init__(units, learning_rate, l1, l2)\n",
    "    self.batch_size = batch_size\n",
    "  def gen_batch(self, x, y):\n",
    "      length = len(x)\n",
    "      bins = length // self.batch_size # 미니 배치 횟수\n",
    "      if length % self.batch_size:\n",
    "        bins += 1\n",
    "      indexes = np.random.permutation(np.arange(len(x)))\n",
    "      \n",
    "      x = x[indexes]\n",
    "      y = y[indexes]\n",
    "      \n",
    "      for i in range(bins):\n",
    "        start = self.batch_size * i\n",
    "        end = self.batch_size * (i+1)\n",
    "        yield x[start:end], y[start:end]\n",
    "  def fit(self, x, y, epochs=100, x_val=None, y_val=None):\n",
    "    y = y.reshape(-1, 1)\n",
    "    self.init_weights(x.shape[1])\n",
    "    np.random.seed(42)\n",
    "    \n",
    "    for i in range(epochs):\n",
    "      loss = 0\n",
    "      for x_batch, y_batch in self.gen_batch(x,y):\n",
    "        y_batch = y_batch.reshape(-1, 1)\n",
    "        m = len(x_batch)\n",
    "        a = self.training(x_batch, y_batch, m)\n",
    "        \n",
    "        a = np.clip(a, 1e-10, 1-1e-10)\n",
    "        \n",
    "        loss += np.sum(-(y_batch*np.log(a) + (1-y_batch)*np.log(1-a)))\n",
    "      \n",
    "      self.losses.append((loss + self.reg_loss()) / len(x))\n",
    "      self.update_val_loss(x_val, y_val)\n",
    "    "
   ]
  },
  {
   "cell_type": "code",
   "execution_count": 32,
   "metadata": {
    "colab": {
     "base_uri": "https://localhost:8080/",
     "height": 35
    },
    "colab_type": "code",
    "id": "W4lVVvlXs344",
    "outputId": "3d8586f2-9519-4d41-ef3d-c9bcdcd5fddb"
   },
   "outputs": [
    {
     "data": {
      "text/plain": [
       "0.978021978021978"
      ]
     },
     "execution_count": 32,
     "metadata": {
      "tags": []
     },
     "output_type": "execute_result"
    }
   ],
   "source": [
    "minibatch_net = MinibatchNetwork(l2=0.01, batch_size=32)\n",
    "minibatch_net.fit(x_train_scaled, y_train, x_val=x_val_scaled, y_val=y_val, epochs=500)\n",
    "minibatch_net.score(x_val_scaled, y_val)"
   ]
  },
  {
   "cell_type": "code",
   "execution_count": 33,
   "metadata": {
    "colab": {
     "base_uri": "https://localhost:8080/",
     "height": 283
    },
    "colab_type": "code",
    "id": "JJSAYjS2tSo7",
    "outputId": "b05beaf1-547c-4b1c-93b6-915823ab3f6c"
   },
   "outputs": [
    {
     "data": {
      "image/png": "[encoded data removed]",
      "text/plain": [
       "<Figure size 432x288 with 1 Axes>"
      ]
     },
     "metadata": {
      "tags": []
     },
     "output_type": "display_data"
    }
   ],
   "source": [
    "plt.plot(minibatch_net.losses)\n",
    "#plt.plot(minibatch_net.val_losses)\n",
    "plt.ylabel('loss')\n",
    "plt.xlabel('iteration')\n",
    "#plt.legend(['train_loss', 'val_loss'])\n",
    "plt.show()"
   ]
  },
  {
   "cell_type": "code",
   "execution_count": 34,
   "metadata": {
    "colab": {
     "base_uri": "https://localhost:8080/",
     "height": 283
    },
    "colab_type": "code",
    "id": "LHiMW-W-tmQD",
    "outputId": "59690aa2-d4d1-4765-f8f5-74670091467f"
   },
   "outputs": [
    {
     "data": {
      "image/png": "[encoded data removed]",
      "text/plain": [
       "<Figure size 432x288 with 1 Axes>"
      ]
     },
     "metadata": {
      "tags": []
     },
     "output_type": "display_data"
    }
   ],
   "source": [
    "minibatch_net = MinibatchNetwork(l2=0.01, batch_size=128)\n",
    "minibatch_net.fit(x_train_scaled, y_train, x_val=x_val_scaled, y_val=y_val, epochs=500)\n",
    "minibatch_net.score(x_val_scaled, y_val)\n",
    "\n",
    "plt.plot(minibatch_net.losses)\n",
    "#plt.plot(minibatch_net.val_losses)\n",
    "plt.ylabel('loss')\n",
    "plt.xlabel('iteration')\n",
    "plt.legend(['train_loss', 'val_loss'])\n",
    "plt.show()"
   ]
  },
  {
   "cell_type": "markdown",
   "metadata": {
    "colab_type": "text",
    "id": "yqPd36YwvxCN"
   },
   "source": [
    "배치의 크기가 커지면 학습 속도는 느려지지만 그래프는 조금 더 안정적으로 바뀌었습니다.\n",
    "일반적으로 미니 배치의 크기는 32~512개 사이의 값을 지정합니다.\n",
    "마지막으로 사이킷런을 사용하여 동일한 구조의 신경망 모델을 만들어보겠습니다."
   ]
  },
  {
   "cell_type": "code",
   "execution_count": 0,
   "metadata": {
    "colab": {},
    "colab_type": "code",
    "id": "DHRENjUGuvRM"
   },
   "outputs": [],
   "source": [
    "from sklearn.neural_network import MLPClassifier\n",
    "mlp = MLPClassifier(hidden_layer_sizes=(10, ), activation='logistic',\n",
    "                   solver='sgd', alpha=0.01, batch_size=32,\n",
    "                   learning_rate_init = 0.1, max_iter=500)"
   ]
  },
  {
   "cell_type": "code",
   "execution_count": 38,
   "metadata": {
    "colab": {
     "base_uri": "https://localhost:8080/",
     "height": 35
    },
    "colab_type": "code",
    "id": "1j65KsNUwqMb",
    "outputId": "884c693e-2e6d-476b-a316-8a9eb99b9d98"
   },
   "outputs": [
    {
     "data": {
      "text/plain": [
       "0.989010989010989"
      ]
     },
     "execution_count": 38,
     "metadata": {
      "tags": []
     },
     "output_type": "execute_result"
    }
   ],
   "source": [
    "mlp.fit(x_train_scaled, y_train)\n",
    "mlp.score(x_val_scaled, y_val)"
   ]
  }
 ],
 "metadata": {
  "colab": {
   "collapsed_sections": [],
   "name": "Chapter6.ipynb",
   "provenance": []
  },
  "kernelspec": {
   "display_name": "Python 3",
   "language": "python",
   "name": "python3"
  },
  "language_info": {
   "codemirror_mode": {
    "name": "ipython",
    "version": 3
   },
   "file_extension": ".py",
   "mimetype": "text/x-python",
   "name": "python",
   "nbconvert_exporter": "python",
   "pygments_lexer": "ipython3",
   "version": "3.7.3"
  }
 },
 "nbformat": 4,
 "nbformat_minor": 1
}
