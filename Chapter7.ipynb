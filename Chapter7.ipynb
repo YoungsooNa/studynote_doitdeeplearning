{
 "cells": [
  {
   "cell_type": "markdown",
   "metadata": {
    "colab_type": "text",
    "id": "Zrqf9bRBDQN5"
   },
   "source": [
    "# 07. 여러개를 분류합니다. - 다중 분류\n",
    "\n",
    "## 07-1 여러 개의 이미지를 분류하는 다층 신경망을 만듭니다.\n",
    "\n",
    "다중 분류 신경망을 만들기 위해서는 소프트맥스(softmax) 함수와 크로스 엔트로피(cross-entropy) 손실 함수라는 새로운 재료를 알아야 합니다. \n",
    "\n",
    "### 소프트맥스 함수 적용해 출력 강도를 정규화합니다.\n",
    "\n",
    "\n",
    "출력이 N개인 다중 분류 신경망에 대한 소프트맥스 함수의 정의는 다음과 같습니다.</br>\n",
    "\n",
    "$$\\cfrac{e^{z_i}}{\\sum_{k=1}^{n}e^{z_{k}}}$$\n",
    "\n",
    "시그모이드 함수를 z에 대해서 정리하면</br>\n",
    "\n",
    "$$z=-ln(\\cfrac{1}{\\hat{y}} - 1)$$ 이 됩니다. 이 공식을 통해 나온 값들을 적용하면 정규화된 결과를 얻을 수 있습니다.\n",
    "\n",
    "### 크로스 엔트로피 손실 함수를 도입합니다.\n",
    "\n",
    "크로스 엔트로피 함수는 로지스틱 손실 함수를 일반화 했다고 불립니다. 그 이유는 로지스틱 손실 함수가 크로스 엔트로피 손실 함수의 이진 분류 버전이기 때문입니다.</br>\n",
    "\n",
    "$$L = -\\sum_{c=1}^c y_clog(a_c)$$\n",
    "\n",
    "결과적으로 $y_c$를 곱하기 때문에 분류하고자 하는 대상이 아닌 항목의 y 값은 0 이기 때문에 0이 곱해져서 원하는 항목의 확률을 구할 수 있습니다."
   ]
  },
  {
   "cell_type": "code",
   "execution_count": 1,
   "metadata": {
    "colab": {
     "base_uri": "https://localhost:8080/",
     "height": 539
    },
    "colab_type": "code",
    "id": "uF3XUd1dC7tT",
    "outputId": "b72fd56d-92de-4318-b7c1-ff3d8389c56e"
   },
   "outputs": [
    {
     "name": "stdout",
     "output_type": "stream",
     "text": [
      "Collecting tensorflow_gpu==2.0.0-rc1\n",
      "\u001b[?25l  Downloading https://files.pythonhosted.org/packages/73/cf/2fc69ba3e59edc8333e2676fa71b40197718dea7dc1282c79955cf6b2acb/tensorflow_gpu-2.0.0rc1-cp36-cp36m-manylinux2010_x86_64.whl (380.5MB)\n",
      "\u001b[K     |████████████████████████████████| 380.5MB 72kB/s \n",
      "\u001b[?25hRequirement already satisfied: six>=1.10.0 in /usr/local/lib/python3.6/dist-packages (from tensorflow_gpu==2.0.0-rc1) (1.12.0)\n",
      "Requirement already satisfied: keras-applications>=1.0.8 in /usr/local/lib/python3.6/dist-packages (from tensorflow_gpu==2.0.0-rc1) (1.0.8)\n",
      "Requirement already satisfied: google-pasta>=0.1.6 in /usr/local/lib/python3.6/dist-packages (from tensorflow_gpu==2.0.0-rc1) (0.1.7)\n",
      "Requirement already satisfied: absl-py>=0.7.0 in /usr/local/lib/python3.6/dist-packages (from tensorflow_gpu==2.0.0-rc1) (0.8.0)\n",
      "Requirement already satisfied: opt-einsum>=2.3.2 in /usr/local/lib/python3.6/dist-packages (from tensorflow_gpu==2.0.0-rc1) (3.1.0)\n",
      "Requirement already satisfied: protobuf>=3.6.1 in /usr/local/lib/python3.6/dist-packages (from tensorflow_gpu==2.0.0-rc1) (3.7.1)\n",
      "Requirement already satisfied: wrapt>=1.11.1 in /usr/local/lib/python3.6/dist-packages (from tensorflow_gpu==2.0.0-rc1) (1.11.2)\n",
      "Requirement already satisfied: wheel>=0.26 in /usr/local/lib/python3.6/dist-packages (from tensorflow_gpu==2.0.0-rc1) (0.33.6)\n",
      "Requirement already satisfied: grpcio>=1.8.6 in /usr/local/lib/python3.6/dist-packages (from tensorflow_gpu==2.0.0-rc1) (1.15.0)\n",
      "Requirement already satisfied: numpy<2.0,>=1.16.0 in /usr/local/lib/python3.6/dist-packages (from tensorflow_gpu==2.0.0-rc1) (1.16.5)\n",
      "Collecting tf-estimator-nightly<1.14.0.dev2019080602,>=1.14.0.dev2019080601 (from tensorflow_gpu==2.0.0-rc1)\n",
      "\u001b[?25l  Downloading https://files.pythonhosted.org/packages/21/28/f2a27a62943d5f041e4a6fd404b2d21cb7c59b2242a4e73b03d9ba166552/tf_estimator_nightly-1.14.0.dev2019080601-py2.py3-none-any.whl (501kB)\n",
      "\u001b[K     |████████████████████████████████| 501kB 44.8MB/s \n",
      "\u001b[?25hRequirement already satisfied: termcolor>=1.1.0 in /usr/local/lib/python3.6/dist-packages (from tensorflow_gpu==2.0.0-rc1) (1.1.0)\n",
      "Collecting tb-nightly<1.15.0a20190807,>=1.15.0a20190806 (from tensorflow_gpu==2.0.0-rc1)\n",
      "\u001b[?25l  Downloading https://files.pythonhosted.org/packages/bc/88/24b5fb7280e74c7cf65bde47c171547fd02afb3840cff41bcbe9270650f5/tb_nightly-1.15.0a20190806-py3-none-any.whl (4.3MB)\n",
      "\u001b[K     |████████████████████████████████| 4.3MB 40.0MB/s \n",
      "\u001b[?25hRequirement already satisfied: astor>=0.6.0 in /usr/local/lib/python3.6/dist-packages (from tensorflow_gpu==2.0.0-rc1) (0.8.0)\n",
      "Requirement already satisfied: keras-preprocessing>=1.0.5 in /usr/local/lib/python3.6/dist-packages (from tensorflow_gpu==2.0.0-rc1) (1.1.0)\n",
      "Requirement already satisfied: gast>=0.2.0 in /usr/local/lib/python3.6/dist-packages (from tensorflow_gpu==2.0.0-rc1) (0.2.2)\n",
      "Requirement already satisfied: h5py in /usr/local/lib/python3.6/dist-packages (from keras-applications>=1.0.8->tensorflow_gpu==2.0.0-rc1) (2.8.0)\n",
      "Requirement already satisfied: setuptools in /usr/local/lib/python3.6/dist-packages (from protobuf>=3.6.1->tensorflow_gpu==2.0.0-rc1) (41.2.0)\n",
      "Requirement already satisfied: werkzeug>=0.11.15 in /usr/local/lib/python3.6/dist-packages (from tb-nightly<1.15.0a20190807,>=1.15.0a20190806->tensorflow_gpu==2.0.0-rc1) (0.16.0)\n",
      "Requirement already satisfied: markdown>=2.6.8 in /usr/local/lib/python3.6/dist-packages (from tb-nightly<1.15.0a20190807,>=1.15.0a20190806->tensorflow_gpu==2.0.0-rc1) (3.1.1)\n",
      "Installing collected packages: tf-estimator-nightly, tb-nightly, tensorflow-gpu\n",
      "Successfully installed tb-nightly-1.15.0a20190806 tensorflow-gpu-2.0.0rc1 tf-estimator-nightly-1.14.0.dev2019080601\n"
     ]
    }
   ],
   "source": [
    "!pip install tensorflow_gpu==2.0.0-rc1"
   ]
  },
  {
   "cell_type": "code",
   "execution_count": 9,
   "metadata": {
    "colab": {
     "base_uri": "https://localhost:8080/",
     "height": 89
    },
    "colab_type": "code",
    "id": "_TA9NOfYDPd2",
    "outputId": "43d50ceb-7760-4482-80e0-2a56c0894c59"
   },
   "outputs": [
    {
     "name": "stdout",
     "output_type": "stream",
     "text": [
      "[[0. 0.]\n",
      " [1. 0.]\n",
      " [0. 3.]]\n"
     ]
    },
    {
     "data": {
      "text/plain": [
       "array([[0., 0., 1., 0., 0., 3.]])"
      ]
     },
     "execution_count": 9,
     "metadata": {
      "tags": []
     },
     "output_type": "execute_result"
    }
   ],
   "source": [
    "import numpy as np\n",
    "\n",
    "a = np.zeros((3, 2))\n",
    "a[2][1] =3\n",
    "a[1][0] =1\n",
    "print(a)\n",
    "a.reshape(1, -1)"
   ]
  },
  {
   "cell_type": "code",
   "execution_count": 0,
   "metadata": {
    "colab": {},
    "colab_type": "code",
    "id": "BY12PZHkUNY6"
   },
   "outputs": [],
   "source": [
    "class MultiClassNetwork:\n",
    "  \n",
    "  def __init__(self, units=10, batch_size=32, learning_rate=0.1, l1=0, l2=0):\n",
    "    self.units = units\n",
    "    self.batch_size = batch_size\n",
    "    self.w1 = None\n",
    "    self.b1 = None\n",
    "    self.w2 = None\n",
    "    self.b2 = None\n",
    "    self.a1 = None\n",
    "    self.losses = []\n",
    "    self.val_losses = []\n",
    "    self.lr = learning_rate\n",
    "    self.l1 = l1\n",
    "    self.l2 = l2\n",
    "  \n",
    "  def forpass(self, x):\n",
    "    z1 = np.dot(x, self.w1) + self.b1\n",
    "    self.a1 = self.sigmoid(z1)\n",
    "    z2 = np.dot(self.a1, self.w2) + self.b2\n",
    "    return z2\n",
    "  \n",
    "  def backprop(self, x, err):\n",
    "    m = len(x)\n",
    "    w2_grad = np.dot(self.a1.T, err) / m\n",
    "    b2_grad = np.sum(err) / m\n",
    "    \n",
    "    err_to_hidden = np.dot(err, self.w2.T) * self.a1 * (1 - self.a1)\n",
    "    \n",
    "    w1_grad = np.dot(x.T, err_to_hidden) / m\n",
    "    b1_grad = np.sum(err_to_hidden, axis=0)/m\n",
    "    \n",
    "    return w1_grad, b1_grad, w2_grad, b2_grad\n",
    "  \n",
    "  def sigmoid(self, z):\n",
    "    a = 1 / (1 + np.exp(-z))\n",
    "    return a\n",
    "  \n",
    "  def softmax(self, z):\n",
    "    exp_z = np.exp(z)\n",
    "    return exp_z / np.sum(exp_z, axis=1).reshape(-1, 1)\n",
    "  \n",
    "  def init_weights(self, n_features, n_classes):\n",
    "    self.w1 = np.random.normal(0, 1, (n_features, self.units))\n",
    "    self.b1 = np.zeros(self.units)\n",
    "    self.w2 = np.random.normal(0, 1, (self.units, n_classes))\n",
    "    self.b2 = np.zeros(n_classes)\n",
    "  \n",
    "  def fit(self, x, y, epochs=100, x_val=None, y_val=None):\n",
    "    np.random.seed(42)\n",
    "    self.init_weights(x.shape[1], y.shape[1])\n",
    "    \n",
    "    for i in range(epochs):\n",
    "      loss = 0\n",
    "      print('.', end='')\n",
    "      \n",
    "      for x_batch, y_batch in self.gen_batch(x, y):\n",
    "        a = self.training(x_batch, y_batch)\n",
    "        a = np.clip(a, 1e-10, 1-1e-10)\n",
    "        \n",
    "        loss += np.sum(-y_batch*np.log(a))\n",
    "        \n",
    "      self.losses.append((loss + self.reg_loss()) / len(x))\n",
    "      self.update_val_loss(x_val, y_val)\n",
    "      \n",
    "  def gen_batch(self, x, y):\n",
    "      length = len(x)\n",
    "      bins = length // self.batch_size # 미니 배치 횟수\n",
    "      if length % self.batch_size:\n",
    "        bins += 1\n",
    "      indexes = np.random.permutation(np.arange(len(x)))\n",
    "      \n",
    "      x = x[indexes]\n",
    "      y = y[indexes]\n",
    "      \n",
    "      for i in range(bins):\n",
    "        start = self.batch_size * i\n",
    "        end = self.batch_size * (i+1)\n",
    "        yield x[start:end], y[start:end]\n",
    "  def training(self, x, y):\n",
    "    m = len(x)\n",
    "    z = self.forpass(x)\n",
    "    a = self.softmax(z)\n",
    "    err = -(y-a)\n",
    "    w1_grad, b1_grad, w2_grad, b2_grad = self.backprop(x, err)\n",
    "    #규제\n",
    "    w1_grad += (self.l1 * np.sign(self.w1) + self.l2 * self.w1) / m\n",
    "    w2_grad += (self.l1 * np.sign(self.w2) + self.l2 * self.w2) / m\n",
    "    \n",
    "    self.w1 -= self.lr * w1_grad\n",
    "    self.b1 -= self.lr * b1_grad\n",
    "    \n",
    "    self.w2 -= self.lr * w2_grad\n",
    "    self.b2 -= self.lr * b2_grad\n",
    "    \n",
    "    return a\n",
    "  def predict(self, x):\n",
    "    z = self.forpass(x)\n",
    "    return np.argmax(z, axis=1)\n",
    "  \n",
    "  def score(self, x, y):\n",
    "    return np.mean(self.predict(x) == np.argmax(y, axis=1))\n",
    "  \n",
    "  def reg_loss(self):\n",
    "    return self.l1 * (np.sum(np.abs(self.w1))) + np.sum(np.abs(self.w2)) + self.l2 / 2 * (np.sum(self.w1**2) + np.sum(self.w2**2))\n",
    "  \n",
    "  def update_val_loss(self, x_val, y_val):\n",
    "    z = self.forpass(x_val)\n",
    "    a = self.softmax(z)\n",
    "    a = np.clip(a, 1e-10, 1-1e-10)\n",
    "    \n",
    "    val_loss = np.sum(-y_val*np.log(a))\n",
    "    self.val_losses.append((val_loss + self.reg_loss())/len(y_val))"
   ]
  },
  {
   "cell_type": "code",
   "execution_count": 0,
   "metadata": {
    "colab": {},
    "colab_type": "code",
    "id": "tuGuR5OKdXtJ"
   },
   "outputs": [],
   "source": [
    "import tensorflow as tf"
   ]
  },
  {
   "cell_type": "code",
   "execution_count": 15,
   "metadata": {
    "colab": {
     "base_uri": "https://localhost:8080/",
     "height": 35
    },
    "colab_type": "code",
    "id": "vN7zQ7jwddJ6",
    "outputId": "471a83a1-6261-40f2-e4a9-4367118d4f69"
   },
   "outputs": [
    {
     "data": {
      "text/plain": [
       "'2.0.0-rc1'"
      ]
     },
     "execution_count": 15,
     "metadata": {
      "tags": []
     },
     "output_type": "execute_result"
    }
   ],
   "source": [
    "tf.__version__"
   ]
  },
  {
   "cell_type": "code",
   "execution_count": 17,
   "metadata": {
    "colab": {
     "base_uri": "https://localhost:8080/",
     "height": 161
    },
    "colab_type": "code",
    "id": "HTPTkmbsdjIK",
    "outputId": "03c81238-bf8e-40a5-cbaa-91c753ae9231"
   },
   "outputs": [
    {
     "name": "stdout",
     "output_type": "stream",
     "text": [
      "Downloading data from https://storage.googleapis.com/tensorflow/tf-keras-datasets/train-labels-idx1-ubyte.gz\n",
      "32768/29515 [=================================] - 0s 0us/step\n",
      "Downloading data from https://storage.googleapis.com/tensorflow/tf-keras-datasets/train-images-idx3-ubyte.gz\n",
      "26427392/26421880 [==============================] - 0s 0us/step\n",
      "Downloading data from https://storage.googleapis.com/tensorflow/tf-keras-datasets/t10k-labels-idx1-ubyte.gz\n",
      "8192/5148 [===============================================] - 0s 0us/step\n",
      "Downloading data from https://storage.googleapis.com/tensorflow/tf-keras-datasets/t10k-images-idx3-ubyte.gz\n",
      "4423680/4422102 [==============================] - 0s 0us/step\n"
     ]
    }
   ],
   "source": [
    "(x_train_all, y_train_all), (x_test, y_test) = tf.keras.datasets.fashion_mnist.load_data()"
   ]
  },
  {
   "cell_type": "code",
   "execution_count": 19,
   "metadata": {
    "colab": {
     "base_uri": "https://localhost:8080/",
     "height": 35
    },
    "colab_type": "code",
    "id": "wpeUAumldsv6",
    "outputId": "253580a8-d204-49d7-a360-0fac49fe5060"
   },
   "outputs": [
    {
     "name": "stdout",
     "output_type": "stream",
     "text": [
      "(60000, 28, 28) (60000,)\n"
     ]
    }
   ],
   "source": [
    "print(x_train_all.shape, y_train_all.shape)"
   ]
  },
  {
   "cell_type": "code",
   "execution_count": 20,
   "metadata": {
    "colab": {
     "base_uri": "https://localhost:8080/",
     "height": 269
    },
    "colab_type": "code",
    "id": "9y_oSpIGeAGB",
    "outputId": "26219a36-1696-41b4-edff-67d7a0225296"
   },
   "outputs": [
    {
     "data": {
      "image/png": "[encoded data removed]",
      "text/plain": [
       "<Figure size 432x288 with 1 Axes>"
      ]
     },
     "metadata": {
      "tags": []
     },
     "output_type": "display_data"
    }
   ],
   "source": [
    "import matplotlib.pyplot as plt\n",
    "plt.imshow(x_train_all[0], cmap='gray')\n",
    "plt.show()"
   ]
  },
  {
   "cell_type": "code",
   "execution_count": 21,
   "metadata": {
    "colab": {
     "base_uri": "https://localhost:8080/",
     "height": 35
    },
    "colab_type": "code",
    "id": "1ENVCxtqeMfK",
    "outputId": "0e885730-68ea-436c-f9f7-5ce24b75b5b0"
   },
   "outputs": [
    {
     "name": "stdout",
     "output_type": "stream",
     "text": [
      "[9 0 0 3 0 2 7 2 5 5]\n"
     ]
    }
   ],
   "source": [
    "print(y_train_all[:10])"
   ]
  },
  {
   "cell_type": "code",
   "execution_count": 0,
   "metadata": {
    "colab": {},
    "colab_type": "code",
    "id": "YsQpjEC1eTry"
   },
   "outputs": [],
   "source": [
    "class_names = ['티셔츠', '바지', '스웨터', '드레스', '코드', '샌들', '셔츠', '스니커즈', '가방', '앵클부츠']"
   ]
  },
  {
   "cell_type": "code",
   "execution_count": 23,
   "metadata": {
    "colab": {
     "base_uri": "https://localhost:8080/",
     "height": 35
    },
    "colab_type": "code",
    "id": "DiDf4dFQed9y",
    "outputId": "2886c209-f62b-4116-89df-e627607ad735"
   },
   "outputs": [
    {
     "name": "stdout",
     "output_type": "stream",
     "text": [
      "앵클부츠\n"
     ]
    }
   ],
   "source": [
    "print(class_names[y_train_all[0]])"
   ]
  },
  {
   "cell_type": "code",
   "execution_count": 24,
   "metadata": {
    "colab": {
     "base_uri": "https://localhost:8080/",
     "height": 35
    },
    "colab_type": "code",
    "id": "B__J5LKxeiNq",
    "outputId": "ba3aa213-0702-4445-cb2c-df6a9c52f117"
   },
   "outputs": [
    {
     "data": {
      "text/plain": [
       "array([6000, 6000, 6000, 6000, 6000, 6000, 6000, 6000, 6000, 6000])"
      ]
     },
     "execution_count": 24,
     "metadata": {
      "tags": []
     },
     "output_type": "execute_result"
    }
   ],
   "source": [
    "import numpy as np\n",
    "np.bincount(y_train_all)"
   ]
  },
  {
   "cell_type": "code",
   "execution_count": 0,
   "metadata": {
    "colab": {},
    "colab_type": "code",
    "id": "F2IP5Ns6en1a"
   },
   "outputs": [],
   "source": [
    "from sklearn.model_selection import train_test_split\n",
    "x_train, x_val, y_train, y_val = train_test_split(x_train_all, y_train_all, stratify=y_train_all, test_size=0.2, random_state=42)"
   ]
  },
  {
   "cell_type": "code",
   "execution_count": 26,
   "metadata": {
    "colab": {
     "base_uri": "https://localhost:8080/",
     "height": 35
    },
    "colab_type": "code",
    "id": "2b5LnMhOfDaB",
    "outputId": "e5f30b9a-20f8-4bc3-9c2a-760af476540f"
   },
   "outputs": [
    {
     "data": {
      "text/plain": [
       "array([4800, 4800, 4800, 4800, 4800, 4800, 4800, 4800, 4800, 4800])"
      ]
     },
     "execution_count": 26,
     "metadata": {
      "tags": []
     },
     "output_type": "execute_result"
    }
   ],
   "source": [
    "np.bincount(y_train)"
   ]
  },
  {
   "cell_type": "code",
   "execution_count": 27,
   "metadata": {
    "colab": {
     "base_uri": "https://localhost:8080/",
     "height": 35
    },
    "colab_type": "code",
    "id": "5solDeokfFni",
    "outputId": "39cd5375-f016-400a-96fd-9cddf18bbcf4"
   },
   "outputs": [
    {
     "data": {
      "text/plain": [
       "array([1200, 1200, 1200, 1200, 1200, 1200, 1200, 1200, 1200, 1200])"
      ]
     },
     "execution_count": 27,
     "metadata": {
      "tags": []
     },
     "output_type": "execute_result"
    }
   ],
   "source": [
    "np.bincount(y_val)"
   ]
  },
  {
   "cell_type": "code",
   "execution_count": 0,
   "metadata": {
    "colab": {},
    "colab_type": "code",
    "id": "EZubrfKifHNa"
   },
   "outputs": [],
   "source": [
    "x_train = x_train / 255\n",
    "x_val = x_val / 255"
   ]
  },
  {
   "cell_type": "code",
   "execution_count": 0,
   "metadata": {
    "colab": {},
    "colab_type": "code",
    "id": "3oYwugmzfPTa"
   },
   "outputs": [],
   "source": [
    "x_train = x_train.reshape(-1, 28*28)\n",
    "x_val = x_val.reshape(-1, 28*28)\n"
   ]
  },
  {
   "cell_type": "code",
   "execution_count": 30,
   "metadata": {
    "colab": {
     "base_uri": "https://localhost:8080/",
     "height": 35
    },
    "colab_type": "code",
    "id": "zmBqSWRxfV1a",
    "outputId": "4e15c425-b419-421f-fdf3-234b74f80e72"
   },
   "outputs": [
    {
     "name": "stdout",
     "output_type": "stream",
     "text": [
      "(48000, 784) (12000, 784)\n"
     ]
    }
   ],
   "source": [
    "print(x_train.shape, x_val.shape)"
   ]
  },
  {
   "cell_type": "code",
   "execution_count": 31,
   "metadata": {
    "colab": {
     "base_uri": "https://localhost:8080/",
     "height": 35
    },
    "colab_type": "code",
    "id": "HCVh7LvnfYS6",
    "outputId": "43f41a8b-1396-43f6-cae6-1691ed1f276a"
   },
   "outputs": [
    {
     "name": "stdout",
     "output_type": "stream",
     "text": [
      "(48000, 10) (12000, 10)\n"
     ]
    }
   ],
   "source": [
    "y_train_encoded = tf.keras.utils.to_categorical(y_train)\n",
    "y_val_encoded = tf.keras.utils.to_categorical(y_val)\n",
    "\n",
    "print(y_train_encoded.shape, y_val_encoded.shape)"
   ]
  },
  {
   "cell_type": "code",
   "execution_count": 32,
   "metadata": {
    "colab": {
     "base_uri": "https://localhost:8080/",
     "height": 35
    },
    "colab_type": "code",
    "id": "1WJlOlvlgBPZ",
    "outputId": "61ae1751-2620-43fb-b4eb-350cb6460bf7"
   },
   "outputs": [
    {
     "name": "stdout",
     "output_type": "stream",
     "text": [
      "6 [0. 0. 0. 0. 0. 0. 1. 0. 0. 0.]\n"
     ]
    }
   ],
   "source": [
    "print(y_train[0], y_train_encoded[0])"
   ]
  },
  {
   "cell_type": "code",
   "execution_count": 33,
   "metadata": {
    "colab": {
     "base_uri": "https://localhost:8080/",
     "height": 35
    },
    "colab_type": "code",
    "id": "FieNLkrpgFHB",
    "outputId": "c6b7e98f-260d-4c67-e591-ed6efc40018a"
   },
   "outputs": [
    {
     "name": "stdout",
     "output_type": "stream",
     "text": [
      "........................................"
     ]
    }
   ],
   "source": [
    "fc = MultiClassNetwork(units=100, batch_size=256)\n",
    "fc.fit(x_train, y_train_encoded, x_val=x_val, y_val=y_val_encoded, epochs=40)"
   ]
  },
  {
   "cell_type": "code",
   "execution_count": 35,
   "metadata": {
    "colab": {
     "base_uri": "https://localhost:8080/",
     "height": 283
    },
    "colab_type": "code",
    "id": "fHn7Ar8jgWtz",
    "outputId": "013b4143-1000-4446-b4f1-8b7dabcfb823"
   },
   "outputs": [
    {
     "data": {
      "image/png": "[encoded data removed]",
      "text/plain": [
       "<Figure size 432x288 with 1 Axes>"
      ]
     },
     "metadata": {
      "tags": []
     },
     "output_type": "display_data"
    }
   ],
   "source": [
    "plt.plot(fc.losses)\n",
    "plt.plot(fc.val_losses)\n",
    "plt.ylabel('loss')\n",
    "plt.xlabel('iteration')\n",
    "plt.legend(['train_loss', 'val_loss'])\n",
    "plt.show()"
   ]
  },
  {
   "cell_type": "code",
   "execution_count": 36,
   "metadata": {
    "colab": {
     "base_uri": "https://localhost:8080/",
     "height": 35
    },
    "colab_type": "code",
    "id": "ZRJv1Y05hR7D",
    "outputId": "fa93ea99-e6e0-4679-9c0b-2990d22d1d5d"
   },
   "outputs": [
    {
     "data": {
      "text/plain": [
       "0.8150833333333334"
      ]
     },
     "execution_count": 36,
     "metadata": {
      "tags": []
     },
     "output_type": "execute_result"
    }
   ],
   "source": [
    "fc.score(x_val, y_val_encoded)"
   ]
  },
  {
   "cell_type": "code",
   "execution_count": 0,
   "metadata": {
    "colab": {},
    "colab_type": "code",
    "id": "mmw7_m_zhYma"
   },
   "outputs": [],
   "source": [
    "# 정확도가 81.5% 정도로 너무 낮아서 찍었을 때 정확도 10% 보다는 높지만 실전에서 사용하기에는 어렵습니다."
   ]
  },
  {
   "cell_type": "markdown",
   "metadata": {
    "colab_type": "text",
    "id": "SVRG3msPhoDH"
   },
   "source": [
    "## 07-2 텐서플로와 케라스를 사용하여 신경망을 만듭니다.\n",
    "\n",
    "케라스는 딥러닝 패키지를 편리하게 사용하기 위해 만들어진 래퍼패키지 입니다. 따라서 케라스를 사용합니다."
   ]
  },
  {
   "cell_type": "code",
   "execution_count": 38,
   "metadata": {
    "colab": {
     "base_uri": "https://localhost:8080/",
     "height": 413
    },
    "colab_type": "code",
    "id": "-3LAqqLqhhQL",
    "outputId": "94022f82-01c2-464e-d93d-0a701698a687"
   },
   "outputs": [
    {
     "name": "stdout",
     "output_type": "stream",
     "text": [
      "Train on 48000 samples\n",
      "Epoch 1/10\n",
      "48000/48000 [==============================] - 3s 52us/sample - loss: nan\n",
      "Epoch 2/10\n",
      "48000/48000 [==============================] - 2s 41us/sample - loss: nan\n",
      "Epoch 3/10\n",
      "48000/48000 [==============================] - 2s 42us/sample - loss: nan\n",
      "Epoch 4/10\n",
      "48000/48000 [==============================] - 2s 42us/sample - loss: nan\n",
      "Epoch 5/10\n",
      "48000/48000 [==============================] - 2s 42us/sample - loss: nan\n",
      "Epoch 6/10\n",
      "48000/48000 [==============================] - 2s 42us/sample - loss: nan\n",
      "Epoch 7/10\n",
      "48000/48000 [==============================] - 2s 42us/sample - loss: nan\n",
      "Epoch 8/10\n",
      "48000/48000 [==============================] - 2s 42us/sample - loss: nan\n",
      "Epoch 9/10\n",
      "48000/48000 [==============================] - 2s 43us/sample - loss: nan\n",
      "Epoch 10/10\n",
      "48000/48000 [==============================] - 2s 42us/sample - loss: nan\n"
     ]
    },
    {
     "data": {
      "text/plain": [
       "<tensorflow.python.keras.callbacks.History at 0x7fb4f4752d68>"
      ]
     },
     "execution_count": 38,
     "metadata": {
      "tags": []
     },
     "output_type": "execute_result"
    }
   ],
   "source": [
    "#신경망 모델을 만듭니다.\n",
    "model = tf.keras.models.Sequential()\n",
    "#완전 연결층을 추가합니다.\n",
    "model.add(tf.keras.layers.Dense(1))\n",
    "# 옵티마이저와 손실 함수를 지정합니다.\n",
    "model.compile(optimizer='sgd', loss='mse')\n",
    "# 훈련 데이터를 사용하여 에포크 횟수만큼 훈련한다\n",
    "model.fit(x_train, y_train, epochs=10)"
   ]
  },
  {
   "cell_type": "code",
   "execution_count": 41,
   "metadata": {
    "colab": {
     "base_uri": "https://localhost:8080/",
     "height": 1000
    },
    "colab_type": "code",
    "id": "6ZhzMYTws1mg",
    "outputId": "f8c40b83-b635-408e-9202-333cd5163193"
   },
   "outputs": [
    {
     "name": "stdout",
     "output_type": "stream",
     "text": [
      "Train on 48000 samples, validate on 12000 samples\n",
      "Epoch 1/40\n",
      "48000/48000 [==============================] - 4s 89us/sample - loss: 1.3542 - accuracy: 0.6516 - val_loss: 0.9509 - val_accuracy: 0.7322\n",
      "Epoch 2/40\n",
      "48000/48000 [==============================] - 4s 79us/sample - loss: 0.8357 - accuracy: 0.7444 - val_loss: 0.7459 - val_accuracy: 0.7628\n",
      "Epoch 3/40\n",
      "48000/48000 [==============================] - 4s 79us/sample - loss: 0.7073 - accuracy: 0.7659 - val_loss: 0.6597 - val_accuracy: 0.7803\n",
      "Epoch 4/40\n",
      "48000/48000 [==============================] - 4s 80us/sample - loss: 0.6430 - accuracy: 0.7808 - val_loss: 0.6087 - val_accuracy: 0.7960\n",
      "Epoch 5/40\n",
      "48000/48000 [==============================] - 4s 79us/sample - loss: 0.6014 - accuracy: 0.7942 - val_loss: 0.5736 - val_accuracy: 0.8033\n",
      "Epoch 6/40\n",
      "48000/48000 [==============================] - 4s 79us/sample - loss: 0.5714 - accuracy: 0.8037 - val_loss: 0.5479 - val_accuracy: 0.8085\n",
      "Epoch 7/40\n",
      "48000/48000 [==============================] - 4s 79us/sample - loss: 0.5486 - accuracy: 0.8114 - val_loss: 0.5282 - val_accuracy: 0.8174\n",
      "Epoch 8/40\n",
      "48000/48000 [==============================] - 4s 79us/sample - loss: 0.5307 - accuracy: 0.8171 - val_loss: 0.5114 - val_accuracy: 0.8225\n",
      "Epoch 9/40\n",
      "48000/48000 [==============================] - 4s 79us/sample - loss: 0.5162 - accuracy: 0.8211 - val_loss: 0.4997 - val_accuracy: 0.8231\n",
      "Epoch 10/40\n",
      "48000/48000 [==============================] - 4s 79us/sample - loss: 0.5040 - accuracy: 0.8262 - val_loss: 0.4887 - val_accuracy: 0.8288\n",
      "Epoch 11/40\n",
      "48000/48000 [==============================] - 4s 80us/sample - loss: 0.4940 - accuracy: 0.8285 - val_loss: 0.4794 - val_accuracy: 0.8302\n",
      "Epoch 12/40\n",
      "48000/48000 [==============================] - 4s 79us/sample - loss: 0.4849 - accuracy: 0.8315 - val_loss: 0.4716 - val_accuracy: 0.8342\n",
      "Epoch 13/40\n",
      "48000/48000 [==============================] - 4s 79us/sample - loss: 0.4773 - accuracy: 0.8352 - val_loss: 0.4631 - val_accuracy: 0.8364\n",
      "Epoch 14/40\n",
      "48000/48000 [==============================] - 4s 78us/sample - loss: 0.4699 - accuracy: 0.8369 - val_loss: 0.4564 - val_accuracy: 0.8385\n",
      "Epoch 15/40\n",
      "48000/48000 [==============================] - 4s 81us/sample - loss: 0.4637 - accuracy: 0.8381 - val_loss: 0.4503 - val_accuracy: 0.8415\n",
      "Epoch 16/40\n",
      "48000/48000 [==============================] - 4s 80us/sample - loss: 0.4584 - accuracy: 0.8399 - val_loss: 0.4454 - val_accuracy: 0.8424\n",
      "Epoch 17/40\n",
      "48000/48000 [==============================] - 4s 79us/sample - loss: 0.4527 - accuracy: 0.8421 - val_loss: 0.4449 - val_accuracy: 0.8416\n",
      "Epoch 18/40\n",
      "48000/48000 [==============================] - 4s 80us/sample - loss: 0.4481 - accuracy: 0.8433 - val_loss: 0.4359 - val_accuracy: 0.8471\n",
      "Epoch 19/40\n",
      "48000/48000 [==============================] - 4s 78us/sample - loss: 0.4436 - accuracy: 0.8452 - val_loss: 0.4319 - val_accuracy: 0.8467\n",
      "Epoch 20/40\n",
      "48000/48000 [==============================] - 4s 79us/sample - loss: 0.4393 - accuracy: 0.8456 - val_loss: 0.4289 - val_accuracy: 0.8479\n",
      "Epoch 21/40\n",
      "48000/48000 [==============================] - 4s 79us/sample - loss: 0.4353 - accuracy: 0.8470 - val_loss: 0.4257 - val_accuracy: 0.8489\n",
      "Epoch 22/40\n",
      "48000/48000 [==============================] - 4s 80us/sample - loss: 0.4316 - accuracy: 0.8481 - val_loss: 0.4222 - val_accuracy: 0.8501\n",
      "Epoch 23/40\n",
      "48000/48000 [==============================] - 4s 80us/sample - loss: 0.4283 - accuracy: 0.8500 - val_loss: 0.4181 - val_accuracy: 0.8533\n",
      "Epoch 24/40\n",
      "48000/48000 [==============================] - 4s 79us/sample - loss: 0.4250 - accuracy: 0.8509 - val_loss: 0.4191 - val_accuracy: 0.8500\n",
      "Epoch 25/40\n",
      "48000/48000 [==============================] - 4s 78us/sample - loss: 0.4220 - accuracy: 0.8515 - val_loss: 0.4140 - val_accuracy: 0.8538\n",
      "Epoch 26/40\n",
      "48000/48000 [==============================] - 4s 80us/sample - loss: 0.4188 - accuracy: 0.8525 - val_loss: 0.4107 - val_accuracy: 0.8562\n",
      "Epoch 27/40\n",
      "48000/48000 [==============================] - 4s 79us/sample - loss: 0.4160 - accuracy: 0.8536 - val_loss: 0.4082 - val_accuracy: 0.8569\n",
      "Epoch 28/40\n",
      "48000/48000 [==============================] - 4s 79us/sample - loss: 0.4134 - accuracy: 0.8545 - val_loss: 0.4059 - val_accuracy: 0.8570\n",
      "Epoch 29/40\n",
      "48000/48000 [==============================] - 4s 79us/sample - loss: 0.4109 - accuracy: 0.8558 - val_loss: 0.4063 - val_accuracy: 0.8545\n",
      "Epoch 30/40\n",
      "48000/48000 [==============================] - 4s 84us/sample - loss: 0.4083 - accuracy: 0.8550 - val_loss: 0.4017 - val_accuracy: 0.8572\n",
      "Epoch 31/40\n",
      "48000/48000 [==============================] - 4s 82us/sample - loss: 0.4060 - accuracy: 0.8569 - val_loss: 0.4009 - val_accuracy: 0.8574\n",
      "Epoch 32/40\n",
      "48000/48000 [==============================] - 4s 80us/sample - loss: 0.4037 - accuracy: 0.8563 - val_loss: 0.3983 - val_accuracy: 0.8597\n",
      "Epoch 33/40\n",
      "48000/48000 [==============================] - 4s 79us/sample - loss: 0.4013 - accuracy: 0.8575 - val_loss: 0.3977 - val_accuracy: 0.8593\n",
      "Epoch 34/40\n",
      "48000/48000 [==============================] - 4s 79us/sample - loss: 0.3993 - accuracy: 0.8586 - val_loss: 0.3954 - val_accuracy: 0.8595\n",
      "Epoch 35/40\n",
      "48000/48000 [==============================] - 4s 79us/sample - loss: 0.3972 - accuracy: 0.8597 - val_loss: 0.3926 - val_accuracy: 0.8602\n",
      "Epoch 36/40\n",
      "48000/48000 [==============================] - 4s 79us/sample - loss: 0.3950 - accuracy: 0.8604 - val_loss: 0.3917 - val_accuracy: 0.8618\n",
      "Epoch 37/40\n",
      "48000/48000 [==============================] - 4s 78us/sample - loss: 0.3931 - accuracy: 0.8602 - val_loss: 0.3897 - val_accuracy: 0.8618\n",
      "Epoch 38/40\n",
      "48000/48000 [==============================] - 4s 79us/sample - loss: 0.3914 - accuracy: 0.8614 - val_loss: 0.3888 - val_accuracy: 0.8622\n",
      "Epoch 39/40\n",
      "48000/48000 [==============================] - 4s 79us/sample - loss: 0.3894 - accuracy: 0.8620 - val_loss: 0.3865 - val_accuracy: 0.8643\n",
      "Epoch 40/40\n",
      "48000/48000 [==============================] - 4s 79us/sample - loss: 0.3879 - accuracy: 0.8620 - val_loss: 0.3847 - val_accuracy: 0.8636\n"
     ]
    }
   ],
   "source": [
    "from tensorflow.keras import Sequential\n",
    "from tensorflow.keras.layers import Dense\n",
    "model = Sequential()\n",
    "model.add(Dense(100, activation='sigmoid', input_shape=(784,)))\n",
    "model.add(Dense(10, activation='softmax'))\n",
    "model.compile(optimizer='sgd', loss='categorical_crossentropy', metrics=['accuracy'])\n",
    "\n",
    "history = model.fit(x_train, y_train_encoded, epochs=40,\n",
    "                   validation_data=(x_val, y_val_encoded))"
   ]
  },
  {
   "cell_type": "code",
   "execution_count": 42,
   "metadata": {
    "colab": {
     "base_uri": "https://localhost:8080/",
     "height": 283
    },
    "colab_type": "code",
    "id": "kXlV7bkguY5E",
    "outputId": "381b2f9b-85cd-428a-9fae-d9fc657e7074"
   },
   "outputs": [
    {
     "data": {
      "image/png": "[encoded data removed]",
      "text/plain": [
       "<Figure size 432x288 with 1 Axes>"
      ]
     },
     "metadata": {
      "tags": []
     },
     "output_type": "display_data"
    }
   ],
   "source": [
    "plt.plot(history.history['loss'])\n",
    "plt.plot(history.history['val_loss'])\n",
    "plt.ylabel('loss')\n",
    "plt.xlabel('epoch')\n",
    "plt.legend(['train_loss', 'val_loss'])\n",
    "plt.show()"
   ]
  },
  {
   "cell_type": "code",
   "execution_count": 43,
   "metadata": {
    "colab": {
     "base_uri": "https://localhost:8080/",
     "height": 283
    },
    "colab_type": "code",
    "id": "S6O8mhnwwR3J",
    "outputId": "8552b5f7-025a-4ce4-c911-97c58ac23e59"
   },
   "outputs": [
    {
     "data": {
      "image/png": "[encoded data removed]",
      "text/plain": [
       "<Figure size 432x288 with 1 Axes>"
      ]
     },
     "metadata": {
      "tags": []
     },
     "output_type": "display_data"
    }
   ],
   "source": [
    "plt.plot(history.history['accuracy'])\n",
    "plt.plot(history.history['val_accuracy'])\n",
    "plt.ylabel('accuracy') # 오타 loss -> accuracy\n",
    "plt.xlabel('epoch')\n",
    "plt.legend(['train_accuracy', 'val_accuracy'])\n",
    "plt.show()"
   ]
  },
  {
   "cell_type": "markdown",
   "metadata": {
    "colab_type": "text",
    "id": "3qZ8Gk_awiK2"
   },
   "source": [
    "정확도가 86% 밖에 안나와서 위에서 만들었던 모델에 비해 5% 정도 밖에 향상되지 않았음을 알 수 있다.\n",
    "이 이유는 케라스의 성능이 나쁜 것이 아니라 다중 분류 신경망이 이미지 데이터에 잘 맞는 모델이 아니기 때문입니다.\n",
    "다음 장에서는 이미지 분류에 아주 효과적인 신경망인 합성곱 신경망(convolution neural network)에 대해 살펴보겠습니다."
   ]
  },
  {
   "cell_type": "code",
   "execution_count": 0,
   "metadata": {
    "colab": {},
    "colab_type": "code",
    "id": "pZ8d6qmUwgsl"
   },
   "outputs": [],
   "source": []
  }
 ],
 "metadata": {
  "colab": {
   "name": "Chapter7.ipynb",
   "provenance": []
  },
  "kernelspec": {
   "display_name": "Python 3",
   "language": "python",
   "name": "python3"
  },
  "language_info": {
   "codemirror_mode": {
    "name": "ipython",
    "version": 3
   },
   "file_extension": ".py",
   "mimetype": "text/x-python",
   "name": "python",
   "nbconvert_exporter": "python",
   "pygments_lexer": "ipython3",
   "version": "3.7.3"
  }
 },
 "nbformat": 4,
 "nbformat_minor": 1
}
