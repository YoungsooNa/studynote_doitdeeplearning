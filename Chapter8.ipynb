{
 "cells": [
  {
   "cell_type": "markdown",
   "metadata": {
    "colab_type": "text",
    "id": "se3IXfdYiQMC"
   },
   "source": [
    "# 08. 이미지를 분류합니다. -합성곱 신경망\n",
    "\n",
    "## 08-1 합성곱 연산에 대해 알아봅니다\n",
    "\n",
    "합성곱 신경망을 이해하려면 먼저 합성곱(convolution)연산과 교차 상관(cross-correlation) 연산에 대해 알아야 합니다.\n",
    "\n",
    "### 합성곱을 그림으로 이해합니다.\n",
    "\n",
    "합성곡은 두 함수에 적용하여 새로운 함수를 만드는 수학 연산자입니다. 합성곱은 글보다 그림으로 이해하는 것이 쉽습니다.\n",
    "\n",
    "\n",
    "!책 참조!\n"
   ]
  },
  {
   "cell_type": "code",
   "execution_count": 0,
   "metadata": {
    "colab": {},
    "colab_type": "code",
    "id": "cr-2r4eoiNQg"
   },
   "outputs": [],
   "source": [
    "import numpy as np\n",
    "\n",
    "w = np.array([2, 1, 5, 3])\n",
    "x = np.array([2, 8, 3, 7, 1, 2, 0, 4, 5])"
   ]
  },
  {
   "cell_type": "code",
   "execution_count": 2,
   "metadata": {
    "colab": {
     "base_uri": "https://localhost:8080/",
     "height": 35
    },
    "colab_type": "code",
    "id": "UChwSveMlfxC",
    "outputId": "af97f9e5-46be-43b6-ebe8-8c3500729c32"
   },
   "outputs": [
    {
     "name": "stdout",
     "output_type": "stream",
     "text": [
      "[3 5 1 2]\n"
     ]
    }
   ],
   "source": [
    "w_r = np.flip(w)\n",
    "print(w_r)"
   ]
  },
  {
   "cell_type": "code",
   "execution_count": 3,
   "metadata": {
    "colab": {
     "base_uri": "https://localhost:8080/",
     "height": 35
    },
    "colab_type": "code",
    "id": "QSSLFIIaloBM",
    "outputId": "158ea51a-0d4e-46b6-fdba-31b69b66efd1"
   },
   "outputs": [
    {
     "data": {
      "text/plain": [
       "array([3, 5, 1, 2])"
      ]
     },
     "execution_count": 3,
     "metadata": {
      "tags": []
     },
     "output_type": "execute_result"
    }
   ],
   "source": [
    "w_r = w[::-1]\n",
    "w_r"
   ]
  },
  {
   "cell_type": "code",
   "execution_count": 4,
   "metadata": {
    "colab": {
     "base_uri": "https://localhost:8080/",
     "height": 125
    },
    "colab_type": "code",
    "id": "wNaBP2n7luU0",
    "outputId": "89cdf734-5bfe-4fde-ef05-edd9d9e04906"
   },
   "outputs": [
    {
     "name": "stdout",
     "output_type": "stream",
     "text": [
      "63\n",
      "48\n",
      "49\n",
      "28\n",
      "21\n",
      "20\n"
     ]
    }
   ],
   "source": [
    "for i in range(6):\n",
    "  print(np.dot(x[i:i+4], w_r))"
   ]
  },
  {
   "cell_type": "code",
   "execution_count": 5,
   "metadata": {
    "colab": {
     "base_uri": "https://localhost:8080/",
     "height": 35
    },
    "colab_type": "code",
    "id": "NohXIql1l4TV",
    "outputId": "c1683f43-5413-4f5d-9ede-efb89065ddfd"
   },
   "outputs": [
    {
     "data": {
      "text/plain": [
       "array([63, 48, 49, 28, 21, 20])"
      ]
     },
     "execution_count": 5,
     "metadata": {
      "tags": []
     },
     "output_type": "execute_result"
    }
   ],
   "source": [
    "from scipy.signal import convolve\n",
    "convolve(x, w, mode='valid')"
   ]
  },
  {
   "cell_type": "markdown",
   "metadata": {
    "colab_type": "text",
    "id": "uQISKo3Zmq5T"
   },
   "source": [
    "### 합성곱 신경망은 진짜 합성곱을 사용하지 않습니다.\n",
    "\n",
    "이름이 합섭곱 신경망인데 왜 합성곱을 사용하지 않는 이유는 교차 상관이라는 것을 사용하는데\n",
    "합성곱과 교차 상관이 아주 비슷하다고 합니다. 합성곱과 교차상관이 차이점은 미끄러지는 배열을 뒤집지 않는다는 점이 다릅니다."
   ]
  },
  {
   "cell_type": "code",
   "execution_count": 6,
   "metadata": {
    "colab": {
     "base_uri": "https://localhost:8080/",
     "height": 35
    },
    "colab_type": "code",
    "id": "v0Lg05XymA29",
    "outputId": "51f2ee95-cec9-4004-ed1c-eae1dd1b9a7a"
   },
   "outputs": [
    {
     "data": {
      "text/plain": [
       "array([48, 57, 24, 25, 16, 39])"
      ]
     },
     "execution_count": 6,
     "metadata": {
      "tags": []
     },
     "output_type": "execute_result"
    }
   ],
   "source": [
    "from scipy.signal import correlate\n",
    "correlate(x, w, mode='valid')\n"
   ]
  },
  {
   "cell_type": "markdown",
   "metadata": {
    "colab_type": "text",
    "id": "QtOGrv7GnLGK"
   },
   "source": [
    "그 이유는 머신러닝에서 가중치를 설정할 때 무작위로 설정하기 때문에 뒤집으나 안 뒤집으나 똑같기 때문에 합성곱 대신에 교차 상관을 사용하나 이름이 합성곱으로 관례처럼 불려져서 그렇다고 합니다."
   ]
  },
  {
   "cell_type": "markdown",
   "metadata": {
    "colab_type": "text",
    "id": "sqlW3Yczne6i"
   },
   "source": [
    "### 패딩과 스트라이드를 이해합니다.\n",
    "\n",
    "\n",
    "패딩(padding)은 이름에서 유추할 수 있듯이 원본 배열의 양 끝에 빈 원소를 추가하는 것을 말하고 스트라이드(stride)는 미끄러지는 배열의 간격을 조절하는 것을 말합니다.\n",
    "\n",
    "패딩에는 밸리드 패딩, 풀 패딩, 세임 패딩이 있습니다.\n",
    "\n",
    "밸리드 패딩은 원본 배열의 원소가 합성곱 연산에 참여하는 정도가 다릅니다.\n",
    "첫 번째 원소는 연산에 1명만 참여합니다.\n",
    "\n",
    "### 풀 패딩은 배열 원소의 연산 참여도를 동일하게 만듭니다.\n",
    "\n",
    "이때 가상의 원소로 0을 양쪽에 채우는 것을 <b>제로 패딩</b>이라고 부르고 0으로 채워서 모든 원소의 연산 참여 횟수를 동일하게 하면 풀 패딩(full padding)이라고 합니다. \n"
   ]
  },
  {
   "cell_type": "code",
   "execution_count": 7,
   "metadata": {
    "colab": {
     "base_uri": "https://localhost:8080/",
     "height": 35
    },
    "colab_type": "code",
    "id": "1OkAtRQ3nFF6",
    "outputId": "fa412203-38da-42ee-96c2-a6942eb290a8"
   },
   "outputs": [
    {
     "data": {
      "text/plain": [
       "array([ 6, 34, 51, 48, 57, 24, 25, 16, 39, 29, 13, 10])"
      ]
     },
     "execution_count": 7,
     "metadata": {
      "tags": []
     },
     "output_type": "execute_result"
    }
   ],
   "source": [
    "correlate(x, w, mode='full')"
   ]
  },
  {
   "cell_type": "markdown",
   "metadata": {
    "colab_type": "text",
    "id": "0P7GXZrTr5LY"
   },
   "source": [
    "### 셰임 패딩은 출력 배열의 길이를 원본 배열의 길이와 동일하게 만듭니다.\n",
    "\n",
    " 대부분 셰임 패딩을 사용합니다."
   ]
  },
  {
   "cell_type": "code",
   "execution_count": 8,
   "metadata": {
    "colab": {
     "base_uri": "https://localhost:8080/",
     "height": 35
    },
    "colab_type": "code",
    "id": "Xk4LiUfGrpky",
    "outputId": "ab15eedf-1956-4fe1-ffc8-9902e3c02533"
   },
   "outputs": [
    {
     "data": {
      "text/plain": [
       "array([34, 51, 48, 57, 24, 25, 16, 39, 29])"
      ]
     },
     "execution_count": 8,
     "metadata": {
      "tags": []
     },
     "output_type": "execute_result"
    }
   ],
   "source": [
    "correlate(x, w, mode='same')"
   ]
  },
  {
   "cell_type": "markdown",
   "metadata": {
    "colab_type": "text",
    "id": "AETPMSvelLQ3"
   },
   "source": [
    "스트라이드는 미끄러지는 간격을 조정합니다.\n",
    "지금까지는 스트라이드 1 로 했었는데 이를 2로 바꾸면 2칸씩 미끄러지면서 연산을 수행합니다.\n",
    "합성곱 신경망을 만들 때는 보통 1로 지정하여 수행합니다. 지금까지는 1차원 배열로 합성곱을 살펴봤는데\n",
    "대부분 2차원 배열에 대한 합성곱을 사용합니다.\n",
    "\n",
    "### 2차원 배열에서 합성곱을 수행합니다."
   ]
  },
  {
   "cell_type": "code",
   "execution_count": 9,
   "metadata": {
    "colab": {
     "base_uri": "https://localhost:8080/",
     "height": 53
    },
    "colab_type": "code",
    "id": "MrRB3PyNs8MF",
    "outputId": "e3e765c6-c667-4b2f-ad8f-e72e51145a78"
   },
   "outputs": [
    {
     "data": {
      "text/plain": [
       "array([[ 2,  4],\n",
       "       [ 8, 10]])"
      ]
     },
     "execution_count": 9,
     "metadata": {
      "tags": []
     },
     "output_type": "execute_result"
    }
   ],
   "source": [
    "x = np.array([[1, 2, 3],\n",
    "             [4, 5, 6],\n",
    "             [7, 8, 9]])\n",
    "\n",
    "w = np.array([[2, 0], [0, 0]])\n",
    "from scipy.signal import correlate2d\n",
    "correlate2d(x, w, mode='valid')\n"
   ]
  },
  {
   "cell_type": "code",
   "execution_count": 10,
   "metadata": {
    "colab": {
     "base_uri": "https://localhost:8080/",
     "height": 71
    },
    "colab_type": "code",
    "id": "9D4nXrQSmV7g",
    "outputId": "18c9f073-b837-4d38-d9d0-30d06adebb04"
   },
   "outputs": [
    {
     "data": {
      "text/plain": [
       "array([[ 2,  4,  6],\n",
       "       [ 8, 10, 12],\n",
       "       [14, 16, 18]])"
      ]
     },
     "execution_count": 10,
     "metadata": {
      "tags": []
     },
     "output_type": "execute_result"
    }
   ],
   "source": [
    "correlate2d(x,w,mode='same')"
   ]
  },
  {
   "cell_type": "code",
   "execution_count": 0,
   "metadata": {
    "colab": {},
    "colab_type": "code",
    "id": "16eeOc_imm9c"
   },
   "outputs": [],
   "source": [
    "import tensorflow as tf\n",
    "x_4d = x.astype(np.float).reshape(1, 3, 3, 1) # 입력의 배치, 입력의 높이, 입력이 너비, 필터의 개수\n",
    "w_4d = w.reshape(2, 2, 1, 1) "
   ]
  },
  {
   "cell_type": "code",
   "execution_count": 0,
   "metadata": {
    "colab": {},
    "colab_type": "code",
    "id": "QZmCCw4Go-Nj"
   },
   "outputs": [],
   "source": [
    "c_out = tf.nn.conv2d(x_4d, w_4d, strides=1, padding='SAME')"
   ]
  },
  {
   "cell_type": "code",
   "execution_count": 13,
   "metadata": {
    "colab": {
     "base_uri": "https://localhost:8080/",
     "height": 71
    },
    "colab_type": "code",
    "id": "LBqu9XTQpEJd",
    "outputId": "9aff6bfb-61f1-480a-9524-b097764e2c66"
   },
   "outputs": [
    {
     "data": {
      "text/plain": [
       "array([[ 2.,  4.,  6.],\n",
       "       [ 8., 10., 12.],\n",
       "       [14., 16., 18.]])"
      ]
     },
     "execution_count": 13,
     "metadata": {
      "tags": []
     },
     "output_type": "execute_result"
    }
   ],
   "source": [
    "# 텐서플로에서는 다차원 배열을 텐서(tesor) 라고 부릅니다.\n",
    "c_out.numpy().reshape(3, 3)"
   ]
  },
  {
   "cell_type": "markdown",
   "metadata": {
    "colab_type": "text",
    "id": "8NLLLV2Vz94K"
   },
   "source": [
    "## 08-2 풀링 연산에 대해 알아봅니다\n",
    "\n",
    "풀링은 max pooling, average pooling 등이 있다.\n",
    "\n",
    "경험적 풀링 > 스트라이드 2\n"
   ]
  },
  {
   "cell_type": "code",
   "execution_count": 0,
   "metadata": {
    "colab": {},
    "colab_type": "code",
    "id": "auAuLqYWp-Ge"
   },
   "outputs": [],
   "source": [
    "x = np.array([[1,2,3,4],[5,6,7,8,],[9,10,11,12],[13,14,15,16]])\n",
    "x = x.reshape(1, 4, 4, 1)"
   ]
  },
  {
   "cell_type": "code",
   "execution_count": 15,
   "metadata": {
    "colab": {
     "base_uri": "https://localhost:8080/",
     "height": 53
    },
    "colab_type": "code",
    "id": "6WYmpQQ_0eP7",
    "outputId": "0c5f0253-543f-4e1b-c724-cd3fc2bf5c96"
   },
   "outputs": [
    {
     "data": {
      "text/plain": [
       "array([[ 6,  8],\n",
       "       [14, 16]])"
      ]
     },
     "execution_count": 15,
     "metadata": {
      "tags": []
     },
     "output_type": "execute_result"
    }
   ],
   "source": [
    "p_out = tf.nn.max_pool2d(x, ksize=2, strides=2, padding='VALID')\n",
    "p_out.numpy().reshape(2, 2)"
   ]
  },
  {
   "cell_type": "code",
   "execution_count": 16,
   "metadata": {
    "colab": {
     "base_uri": "https://localhost:8080/",
     "height": 395
    },
    "colab_type": "code",
    "id": "i51FeeSk0uqu",
    "outputId": "aeca17a1-7c40-41a8-e0fe-c80067159002"
   },
   "outputs": [
    {
     "name": "stdout",
     "output_type": "stream",
     "text": [
      "Requirement already satisfied: tensorflow-gpu==2.0.0 in /usr/local/lib/python3.6/dist-packages (2.0.0)\n",
      "Requirement already satisfied: six>=1.10.0 in /usr/local/lib/python3.6/dist-packages (from tensorflow-gpu==2.0.0) (1.12.0)\n",
      "Requirement already satisfied: tensorboard<2.1.0,>=2.0.0 in /usr/local/lib/python3.6/dist-packages (from tensorflow-gpu==2.0.0) (2.0.0)\n",
      "Requirement already satisfied: astor>=0.6.0 in /usr/local/lib/python3.6/dist-packages (from tensorflow-gpu==2.0.0) (0.8.0)\n",
      "Requirement already satisfied: gast==0.2.2 in /usr/local/lib/python3.6/dist-packages (from tensorflow-gpu==2.0.0) (0.2.2)\n",
      "Requirement already satisfied: termcolor>=1.1.0 in /usr/local/lib/python3.6/dist-packages (from tensorflow-gpu==2.0.0) (1.1.0)\n",
      "Requirement already satisfied: wrapt>=1.11.1 in /usr/local/lib/python3.6/dist-packages (from tensorflow-gpu==2.0.0) (1.11.2)\n",
      "Requirement already satisfied: grpcio>=1.8.6 in /usr/local/lib/python3.6/dist-packages (from tensorflow-gpu==2.0.0) (1.15.0)\n",
      "Requirement already satisfied: protobuf>=3.6.1 in /usr/local/lib/python3.6/dist-packages (from tensorflow-gpu==2.0.0) (3.7.1)\n",
      "Requirement already satisfied: wheel>=0.26 in /usr/local/lib/python3.6/dist-packages (from tensorflow-gpu==2.0.0) (0.33.6)\n",
      "Requirement already satisfied: google-pasta>=0.1.6 in /usr/local/lib/python3.6/dist-packages (from tensorflow-gpu==2.0.0) (0.1.7)\n",
      "Requirement already satisfied: keras-preprocessing>=1.0.5 in /usr/local/lib/python3.6/dist-packages (from tensorflow-gpu==2.0.0) (1.1.0)\n",
      "Requirement already satisfied: numpy<2.0,>=1.16.0 in /usr/local/lib/python3.6/dist-packages (from tensorflow-gpu==2.0.0) (1.16.5)\n",
      "Requirement already satisfied: keras-applications>=1.0.8 in /usr/local/lib/python3.6/dist-packages (from tensorflow-gpu==2.0.0) (1.0.8)\n",
      "Requirement already satisfied: opt-einsum>=2.3.2 in /usr/local/lib/python3.6/dist-packages (from tensorflow-gpu==2.0.0) (3.1.0)\n",
      "Requirement already satisfied: absl-py>=0.7.0 in /usr/local/lib/python3.6/dist-packages (from tensorflow-gpu==2.0.0) (0.8.0)\n",
      "Requirement already satisfied: tensorflow-estimator<2.1.0,>=2.0.0 in /usr/local/lib/python3.6/dist-packages (from tensorflow-gpu==2.0.0) (2.0.0)\n",
      "Requirement already satisfied: markdown>=2.6.8 in /usr/local/lib/python3.6/dist-packages (from tensorboard<2.1.0,>=2.0.0->tensorflow-gpu==2.0.0) (3.1.1)\n",
      "Requirement already satisfied: setuptools>=41.0.0 in /usr/local/lib/python3.6/dist-packages (from tensorboard<2.1.0,>=2.0.0->tensorflow-gpu==2.0.0) (41.2.0)\n",
      "Requirement already satisfied: werkzeug>=0.11.15 in /usr/local/lib/python3.6/dist-packages (from tensorboard<2.1.0,>=2.0.0->tensorflow-gpu==2.0.0) (0.16.0)\n",
      "Requirement already satisfied: h5py in /usr/local/lib/python3.6/dist-packages (from keras-applications>=1.0.8->tensorflow-gpu==2.0.0) (2.8.0)\n"
     ]
    }
   ],
   "source": [
    "!pip install tensorflow-gpu==2.0.0 #요거 해줘요 numpy() 된다는거! "
   ]
  },
  {
   "cell_type": "markdown",
   "metadata": {
    "colab_type": "text",
    "id": "aDmOQCuC3liM"
   },
   "source": [
    "## 08-3 합성곱 신경망의 구조를 알아봅니다\n",
    "\n",
    "활성화 함수 ReLU 함수에 대해 알아보겠습니다."
   ]
  },
  {
   "cell_type": "code",
   "execution_count": 0,
   "metadata": {
    "colab": {},
    "colab_type": "code",
    "id": "HFnlRfkz27Vf"
   },
   "outputs": [],
   "source": [
    "def relu(x):\n",
    "  return np.maximum(x, 0)"
   ]
  },
  {
   "cell_type": "code",
   "execution_count": 18,
   "metadata": {
    "colab": {
     "base_uri": "https://localhost:8080/",
     "height": 35
    },
    "colab_type": "code",
    "id": "ZTsjU4wm3zEK",
    "outputId": "25406c10-36a4-4410-9bef-6ff122aa31b3"
   },
   "outputs": [
    {
     "data": {
      "text/plain": [
       "array([0, 2, 0, 4, 0])"
      ]
     },
     "execution_count": 18,
     "metadata": {
      "tags": []
     },
     "output_type": "execute_result"
    }
   ],
   "source": [
    "x = np.array([-1,2,-3,4,-5])\n",
    "relu(x)"
   ]
  },
  {
   "cell_type": "code",
   "execution_count": 19,
   "metadata": {
    "colab": {
     "base_uri": "https://localhost:8080/",
     "height": 35
    },
    "colab_type": "code",
    "id": "297_lKro33JN",
    "outputId": "7e5adbe6-52d8-422d-9469-23b6bd7bd4fc"
   },
   "outputs": [
    {
     "data": {
      "text/plain": [
       "array([0, 2, 0, 4, 0])"
      ]
     },
     "execution_count": 19,
     "metadata": {
      "tags": []
     },
     "output_type": "execute_result"
    }
   ],
   "source": [
    "r_out = tf.nn.relu(x)\n",
    "r_out.numpy()"
   ]
  },
  {
   "cell_type": "markdown",
   "metadata": {
    "colab_type": "text",
    "id": "dQtFCr3F4AHL"
   },
   "source": [
    "ReLu 함수 0일 때 도함수 값은 0으로 친다\n",
    "\n",
    "## 08-4 합성곱 신경망을 만들고 훈련합니다.\n",
    "\n",
    "이미지가 들어오면 합성곱층에서 커널을 통해 나온 특성 맵에 ReLu 함수를 적용하고 이를 풀링층에서 받아서 크기를 줄인 특성맵을 만든 것을 펼쳐서 완전 연결층에 넣어서 소프트맥스 함수를 통해 분류한다.\n",
    "\n",
    "* 자동 미분의 사용 방법\n",
    "텐서플러와 같은 딥러닝 패키지들은 사용자가 작성한 연산을 계산 그래프(computation graph)로 만들어 자동 미분 기능을 구현합니다. 자동미분 기능을 사용하면 임의의 파이썬 코드나 함수에 대한 미분값을 계산할 수 있습니다."
   ]
  },
  {
   "cell_type": "code",
   "execution_count": 20,
   "metadata": {
    "colab": {
     "base_uri": "https://localhost:8080/",
     "height": 35
    },
    "colab_type": "code",
    "id": "AS_V-cHS38PF",
    "outputId": "9f907104-b1ff-4ec2-9940-00034b272715"
   },
   "outputs": [
    {
     "name": "stdout",
     "output_type": "stream",
     "text": [
      "tf.Tensor([ 5. 14. 29.], shape=(3,), dtype=float64)\n"
     ]
    }
   ],
   "source": [
    "x = tf.Variable(np.array([1.0, 2.0, 3.0]))\n",
    "with tf.GradientTape() as tape:\n",
    "  y = x ** 3 + 2 * x + 5\n",
    "print(tape.gradient(y,x))"
   ]
  },
  {
   "cell_type": "markdown",
   "metadata": {
    "colab_type": "text",
    "id": "g6lTrrmEDUDD"
   },
   "source": [
    "글로럿 초기화 방식\n",
    "\n",
    "$-\\sqrt{\\cfrac{6}{입력 뉴런 수 + 출력 뉴련 수}}$ ~ $\\sqrt{\\cfrac{6}{입력 뉴런 수 + 출력 뉴련 수}} $ 에서 균등하게 난수를 발생시켜 가중치를 초기화 하는 것"
   ]
  },
  {
   "cell_type": "code",
   "execution_count": 0,
   "metadata": {
    "colab": {},
    "colab_type": "code",
    "id": "XTH2ERt56ZqK"
   },
   "outputs": [],
   "source": [
    "class ConvolutionNetwork:\n",
    "  \n",
    "  def __init__(self, n_kernels=10, units=10, batch_size=32, learning_rate = 0.1):\n",
    "    self.n_kernels = n_kernels\n",
    "    self.kernel_size = 3\n",
    "    self.optimizer = None\n",
    "    self.conv_w = None\n",
    "    self.conv_b = None\n",
    "    self.units = units\n",
    "    self.batch_size = batch_size\n",
    "    self.w1 = None\n",
    "    self.b1 = None\n",
    "    self.w2 = None \n",
    "    self.b2 = None\n",
    "    self.a1 = None\n",
    "    self.losses = []\n",
    "    self.val_losses = []\n",
    "    self.lr = learning_rate\n",
    "   \n",
    "  def forpass(self, x):\n",
    "    # 3x3 합성곱 연산\n",
    "    c_out = tf.nn.conv2d(x, self.conv_w, strides=1, padding='SAME') + self.conv_b\n",
    "    # 렐루 활성화 함수를 적용합니다.\n",
    "    r_out = tf.nn.relu(c_out)\n",
    "    # 2X2 최대 풀링을 적용합니다.\n",
    "    p_out = tf.nn.max_pool2d(r_out, ksize=2, strides=2, padding='VALID')\n",
    "    # 첫 번째 배치 차원을 제외하고 출력을 일렬로 펼칩니다.\n",
    "    f_out = tf.reshape(p_out, [x.shape[0], -1])\n",
    "    z1 = tf.matmul(f_out, self.w1) + self.b1\n",
    "    a1 = tf.nn.relu(z1)\n",
    "    z2 = tf.matmul(a1, self.w2) + self.b2\n",
    "    return z2\n",
    "  \n",
    "  def init_weights(self, input_shape, n_classes):\n",
    "    g = tf.initializers.glorot_uniform()\n",
    "    self.conv_w = tf.Variable(g((3, 3, 1, self.n_kernels)))\n",
    "    self.conv_b = tf.Variable(np.zeros(self.n_kernels), dtype=float)\n",
    "    n_features = 14 * 14 * self.n_kernels\n",
    "    self.w1 = tf.Variable(g((n_features, self.units)))\n",
    "    self.b1 = tf.Variable(np.zeros(self.units),dtype=float)\n",
    "    self.w2 = tf.Variable(g((self.units, n_classes)))\n",
    "    self.b2 = tf.Variable(np.zeros(n_classes), dtype=float)\n",
    "   \n",
    "  def fit(self, x, y, epochs=100, x_val=None, y_val=None):\n",
    "    self.init_weights(x.shape, y.shape[1])\n",
    "    self.optimizer = tf.optimizers.SGD(learning_rate=self.lr)\n",
    "    \n",
    "    for i in range(epochs):\n",
    "      print('에포크', i, end=' ')\n",
    "      batch_losses = []\n",
    "      for x_batch, y_batch in self.gen_batch(x, y):\n",
    "        print('.', end='')\n",
    "        self.training(x_batch, y_batch)\n",
    "        batch_losses.append(self.get_loss(x_batch, y_batch))\n",
    "      print()\n",
    "      self.losses.append(np.mean(batch_losses))\n",
    "      self.val_losses.append(self.get_loss(x_val, y_val))\n",
    "  \n",
    "  def gen_batch(self, x, y):\n",
    "    bins = len(x) // self.batch_size\n",
    "    indexes = np.random.permutation(np.arange(len(x)))\n",
    "    x = x[indexes]\n",
    "    y = y[indexes]\n",
    "    for i in range(bins):\n",
    "      start = self.batch_size * i\n",
    "      end = self.batch_size * (i+1)\n",
    "      yield x[start:end], y[start:end]\n",
    "   \n",
    "  def training(self, x, y):\n",
    "    m = len(x)\n",
    "    with tf.GradientTape() as tape:\n",
    "      z = self.forpass(x)\n",
    "      loss = tf.nn.softmax_cross_entropy_with_logits(y, z)\n",
    "      loss = tf.reduce_mean(loss)\n",
    "     \n",
    "    weights_list = [self.conv_w, self.conv_b, self.w1, self.b1, self.w2, self.b2]\n",
    "    grads = tape.gradient(loss, weights_list)\n",
    "    self.optimizer.apply_gradients(zip(grads, weights_list))\n",
    "  \n",
    "  def predict(self, x):\n",
    "    z = self.forpass(x)\n",
    "    return np.argmax(z.numpy(), axis=1)\n",
    "  \n",
    "  def score(self, x, y):\n",
    "    return np.mean(self.predict(x) == np.argmax(y, axis=1))\n",
    "  \n",
    "  def get_loss(self, x, y):\n",
    "    z = self.forpass(x)\n",
    "    loss = tf.reduce_mean(tf.nn.softmax_cross_entropy_with_logits(y, z))\n",
    "    return loss.numpy()\n",
    "  \n",
    "  \n",
    "      "
   ]
  },
  {
   "cell_type": "code",
   "execution_count": 0,
   "metadata": {
    "colab": {},
    "colab_type": "code",
    "id": "0GiEK9QPIrJs"
   },
   "outputs": [],
   "source": [
    "(x_train_all, y_train_all), (x_test, y_test) = tf.keras.datasets.fashion_mnist.load_data()"
   ]
  },
  {
   "cell_type": "code",
   "execution_count": 0,
   "metadata": {
    "colab": {},
    "colab_type": "code",
    "id": "_7mzbK1NI1sF"
   },
   "outputs": [],
   "source": [
    "from sklearn.model_selection import train_test_split\n",
    "x_train, x_val, y_train, y_val = train_test_split(x_train_all, y_train_all,\n",
    "                                                 stratify=y_train_all, test_size=0.2,\n",
    "                                                 random_state=42)"
   ]
  },
  {
   "cell_type": "code",
   "execution_count": 0,
   "metadata": {
    "colab": {},
    "colab_type": "code",
    "id": "Wce7Lom-JIUF"
   },
   "outputs": [],
   "source": [
    "y_train_encoded = tf.keras.utils.to_categorical(y_train)\n",
    "y_val_encoded = tf.keras.utils.to_categorical(y_val)"
   ]
  },
  {
   "cell_type": "code",
   "execution_count": 25,
   "metadata": {
    "colab": {
     "base_uri": "https://localhost:8080/",
     "height": 35
    },
    "colab_type": "code",
    "id": "_rVmAvhvJP-1",
    "outputId": "754a9855-c536-4c68-ea0a-a84f851c63f5"
   },
   "outputs": [
    {
     "name": "stdout",
     "output_type": "stream",
     "text": [
      "(48000, 28, 28) (12000, 28, 28)\n"
     ]
    }
   ],
   "source": [
    "print(x_train.shape, x_val.shape)\n",
    "x_train = x_train.reshape(-1, 28, 28, 1)\n",
    "x_val = x_val.reshape(-1, 28, 28, 1)"
   ]
  },
  {
   "cell_type": "code",
   "execution_count": 0,
   "metadata": {
    "colab": {},
    "colab_type": "code",
    "id": "pfi6a50OJhTF"
   },
   "outputs": [],
   "source": [
    "x_train = x_train / 255\n",
    "x_val = x_val / 255"
   ]
  },
  {
   "cell_type": "code",
   "execution_count": 31,
   "metadata": {
    "colab": {
     "base_uri": "https://localhost:8080/",
     "height": 397
    },
    "colab_type": "code",
    "id": "pZloDEnSJvEd",
    "outputId": "b56983e8-ed74-42d9-ea4a-c976c72b013d"
   },
   "outputs": [
    {
     "name": "stdout",
     "output_type": "stream",
     "text": [
      "에포크 0 .......................................................................................................................................................................................................................................................................................................................................................................................\n",
      "에포크 1 .......................................................................................................................................................................................................................................................................................................................................................................................\n",
      "에포크 2 .......................................................................................................................................................................................................................................................................................................................................................................................\n",
      "에포크 3 .......................................................................................................................................................................................................................................................................................................................................................................................\n",
      "에포크 4 .......................................................................................................................................................................................................................................................................................................................................................................................\n",
      "에포크 5 .......................................................................................................................................................................................................................................................................................................................................................................................\n",
      "에포크 6 .......................................................................................................................................................................................................................................................................................................................................................................................\n",
      "에포크 7 .......................................................................................................................................................................................................................................................................................................................................................................................\n",
      "에포크 8 .......................................................................................................................................................................................................................................................................................................................................................................................\n",
      "에포크 9 .......................................................................................................................................................................................................................................................................................................................................................................................\n",
      "에포크 10 .......................................................................................................................................................................................................................................................................................................................................................................................\n",
      "에포크 11 .......................................................................................................................................................................................................................................................................................................................................................................................\n",
      "에포크 12 .......................................................................................................................................................................................................................................................................................................................................................................................\n",
      "에포크 13 .......................................................................................................................................................................................................................................................................................................................................................................................\n",
      "에포크 14 .......................................................................................................................................................................................................................................................................................................................................................................................\n",
      "에포크 15 .......................................................................................................................................................................................................................................................................................................................................................................................\n",
      "에포크 16 .......................................................................................................................................................................................................................................................................................................................................................................................\n",
      "에포크 17 .......................................................................................................................................................................................................................................................................................................................................................................................\n",
      "에포크 18 .......................................................................................................................................................................................................................................................................................................................................................................................\n",
      "에포크 19 .......................................................................................................................................................................................................................................................................................................................................................................................\n"
     ]
    }
   ],
   "source": [
    "cn = ConvolutionNetwork(n_kernels=10, units=100, batch_size=128, learning_rate=0.01)\n",
    "cn.fit(x_train, y_train_encoded, x_val=x_val, y_val=y_val_encoded, epochs=20)"
   ]
  },
  {
   "cell_type": "code",
   "execution_count": 32,
   "metadata": {
    "colab": {
     "base_uri": "https://localhost:8080/",
     "height": 283
    },
    "colab_type": "code",
    "id": "Gb6HHqSLKGAM",
    "outputId": "2c1f08df-36db-409a-b7e2-0a218af04d58"
   },
   "outputs": [
    {
     "data": {
      "image/png": "[encoded data removed]",
      "text/plain": [
       "<Figure size 432x288 with 1 Axes>"
      ]
     },
     "metadata": {
      "tags": []
     },
     "output_type": "display_data"
    }
   ],
   "source": [
    "import matplotlib.pyplot as plt\n",
    "\n",
    "plt.plot(cn.losses)\n",
    "plt.plot(cn.val_losses)\n",
    "plt.ylabel('loss')\n",
    "plt.xlabel('iteration')\n",
    "plt.legend(['train_loss', 'val_loss'])\n",
    "plt.show()"
   ]
  },
  {
   "cell_type": "code",
   "execution_count": 33,
   "metadata": {
    "colab": {
     "base_uri": "https://localhost:8080/",
     "height": 35
    },
    "colab_type": "code",
    "id": "Z14oI6Z1Ql-K",
    "outputId": "d9e550b4-296c-4d56-f844-f064ecd47b55"
   },
   "outputs": [
    {
     "data": {
      "text/plain": [
       "0.8753333333333333"
      ]
     },
     "execution_count": 33,
     "metadata": {
      "tags": []
     },
     "output_type": "execute_result"
    }
   ],
   "source": [
    "cn.score(x_val, y_val_encoded)"
   ]
  },
  {
   "cell_type": "markdown",
   "metadata": {
    "colab_type": "text",
    "id": "9KwTkPS9Q3ZL"
   },
   "source": [
    "## 08-5 케라스로 합성곱 신경망을 만듭니다\n",
    "\n",
    "케라스의 합성곱층은 Conv2D, 최대 풀링 MaxPooling2D, 펼칠 때는 Flatten"
   ]
  },
  {
   "cell_type": "code",
   "execution_count": 0,
   "metadata": {
    "colab": {},
    "colab_type": "code",
    "id": "eTgFYSIXQrYq"
   },
   "outputs": [],
   "source": [
    "from tensorflow.keras.layers import Conv2D, MaxPooling2D, Flatten, Dense"
   ]
  },
  {
   "cell_type": "code",
   "execution_count": 0,
   "metadata": {
    "colab": {},
    "colab_type": "code",
    "id": "zwqw-JHNRKRq"
   },
   "outputs": [],
   "source": [
    "conv1 = tf.keras.Sequential()\n",
    "conv1.add(Conv2D(10, (3,3), activation='relu', padding='same', input_shape=(28, 28, 1)))"
   ]
  },
  {
   "cell_type": "code",
   "execution_count": 0,
   "metadata": {
    "colab": {},
    "colab_type": "code",
    "id": "mFyP0JAqRlwy"
   },
   "outputs": [],
   "source": [
    "conv1.add(MaxPooling2D((2, 2)))"
   ]
  },
  {
   "cell_type": "code",
   "execution_count": 0,
   "metadata": {
    "colab": {},
    "colab_type": "code",
    "id": "JGGEnbB_Rw8q"
   },
   "outputs": [],
   "source": [
    "conv1.add(Flatten())"
   ]
  },
  {
   "cell_type": "code",
   "execution_count": 0,
   "metadata": {
    "colab": {},
    "colab_type": "code",
    "id": "iJfnRxfjRz3C"
   },
   "outputs": [],
   "source": [
    "conv1.add(Dense(100, activation='relu'))\n",
    "conv1.add(Dense(10, activation='softmax'))"
   ]
  },
  {
   "cell_type": "code",
   "execution_count": 0,
   "metadata": {
    "colab": {},
    "colab_type": "code",
    "id": "9NpMQoKUR75K"
   },
   "outputs": [],
   "source": [
    "#케라스 진짜 간단하다.."
   ]
  },
  {
   "cell_type": "code",
   "execution_count": 40,
   "metadata": {
    "colab": {
     "base_uri": "https://localhost:8080/",
     "height": 341
    },
    "colab_type": "code",
    "id": "K2c51OnYR_qp",
    "outputId": "59a4b3bf-1d37-4b78-cd74-30fd5ba02b4b"
   },
   "outputs": [
    {
     "name": "stdout",
     "output_type": "stream",
     "text": [
      "Model: \"sequential\"\n",
      "_________________________________________________________________\n",
      "Layer (type)                 Output Shape              Param #   \n",
      "=================================================================\n",
      "conv2d (Conv2D)              (None, 28, 28, 10)        100       \n",
      "_________________________________________________________________\n",
      "max_pooling2d (MaxPooling2D) (None, 14, 14, 10)        0         \n",
      "_________________________________________________________________\n",
      "flatten (Flatten)            (None, 1960)              0         \n",
      "_________________________________________________________________\n",
      "dense (Dense)                (None, 100)               196100    \n",
      "_________________________________________________________________\n",
      "dense_1 (Dense)              (None, 10)                1010      \n",
      "=================================================================\n",
      "Total params: 197,210\n",
      "Trainable params: 197,210\n",
      "Non-trainable params: 0\n",
      "_________________________________________________________________\n"
     ]
    }
   ],
   "source": [
    "conv1.summary()"
   ]
  },
  {
   "cell_type": "code",
   "execution_count": 0,
   "metadata": {
    "colab": {},
    "colab_type": "code",
    "id": "8HSP-LGBSBuC"
   },
   "outputs": [],
   "source": [
    "conv1.compile(optimizer='adam', loss='categorical_crossentropy', metrics=['accuracy'])"
   ]
  },
  {
   "cell_type": "code",
   "execution_count": 42,
   "metadata": {
    "colab": {
     "base_uri": "https://localhost:8080/",
     "height": 755
    },
    "colab_type": "code",
    "id": "3H2YDmr9SVjy",
    "outputId": "a8a30e17-7e9e-44ec-e5df-0fd5b5c84f22"
   },
   "outputs": [
    {
     "name": "stdout",
     "output_type": "stream",
     "text": [
      "Train on 48000 samples, validate on 12000 samples\n",
      "Epoch 1/20\n",
      "48000/48000 [==============================] - 28s 580us/sample - loss: 0.4412 - accuracy: 0.8448 - val_loss: 0.3187 - val_accuracy: 0.8867\n",
      "Epoch 2/20\n",
      "48000/48000 [==============================] - 26s 550us/sample - loss: 0.3047 - accuracy: 0.8901 - val_loss: 0.2922 - val_accuracy: 0.8956\n",
      "Epoch 3/20\n",
      "48000/48000 [==============================] - 36s 743us/sample - loss: 0.2604 - accuracy: 0.9033 - val_loss: 0.2616 - val_accuracy: 0.9073\n",
      "Epoch 4/20\n",
      "48000/48000 [==============================] - 35s 730us/sample - loss: 0.2298 - accuracy: 0.9146 - val_loss: 0.2556 - val_accuracy: 0.9082\n",
      "Epoch 5/20\n",
      "48000/48000 [==============================] - 34s 715us/sample - loss: 0.2083 - accuracy: 0.9235 - val_loss: 0.2681 - val_accuracy: 0.9027\n",
      "Epoch 6/20\n",
      "48000/48000 [==============================] - 34s 714us/sample - loss: 0.1858 - accuracy: 0.9308 - val_loss: 0.2493 - val_accuracy: 0.9128\n",
      "Epoch 7/20\n",
      "48000/48000 [==============================] - 35s 724us/sample - loss: 0.1697 - accuracy: 0.9357 - val_loss: 0.2489 - val_accuracy: 0.9137\n",
      "Epoch 8/20\n",
      "48000/48000 [==============================] - 39s 822us/sample - loss: 0.1528 - accuracy: 0.9436 - val_loss: 0.2583 - val_accuracy: 0.9106\n",
      "Epoch 9/20\n",
      "48000/48000 [==============================] - 51s 1ms/sample - loss: 0.1385 - accuracy: 0.9483 - val_loss: 0.2608 - val_accuracy: 0.9136\n",
      "Epoch 10/20\n",
      "48000/48000 [==============================] - 48s 992us/sample - loss: 0.1243 - accuracy: 0.9547 - val_loss: 0.2607 - val_accuracy: 0.9163\n",
      "Epoch 11/20\n",
      "48000/48000 [==============================] - 45s 946us/sample - loss: 0.1122 - accuracy: 0.9585 - val_loss: 0.2786 - val_accuracy: 0.9118\n",
      "Epoch 12/20\n",
      "48000/48000 [==============================] - 47s 983us/sample - loss: 0.0978 - accuracy: 0.9638 - val_loss: 0.2959 - val_accuracy: 0.9133\n",
      "Epoch 13/20\n",
      "48000/48000 [==============================] - 52s 1ms/sample - loss: 0.0878 - accuracy: 0.9669 - val_loss: 0.2934 - val_accuracy: 0.9177\n",
      "Epoch 14/20\n",
      "48000/48000 [==============================] - 61s 1ms/sample - loss: 0.0786 - accuracy: 0.9713 - val_loss: 0.3153 - val_accuracy: 0.9132\n",
      "Epoch 15/20\n",
      "48000/48000 [==============================] - 55s 1ms/sample - loss: 0.0712 - accuracy: 0.9746 - val_loss: 0.3288 - val_accuracy: 0.9151\n",
      "Epoch 16/20\n",
      "48000/48000 [==============================] - 58s 1ms/sample - loss: 0.0640 - accuracy: 0.9766 - val_loss: 0.3498 - val_accuracy: 0.9142\n",
      "Epoch 17/20\n",
      "48000/48000 [==============================] - 47s 971us/sample - loss: 0.0582 - accuracy: 0.9786 - val_loss: 0.3456 - val_accuracy: 0.9169\n",
      "Epoch 18/20\n",
      "48000/48000 [==============================] - 64s 1ms/sample - loss: 0.0502 - accuracy: 0.9814 - val_loss: 0.3698 - val_accuracy: 0.9125\n",
      "Epoch 19/20\n",
      "48000/48000 [==============================] - 54s 1ms/sample - loss: 0.0471 - accuracy: 0.9827 - val_loss: 0.3776 - val_accuracy: 0.9137\n",
      "Epoch 20/20\n",
      "48000/48000 [==============================] - 44s 921us/sample - loss: 0.0430 - accuracy: 0.9851 - val_loss: 0.4260 - val_accuracy: 0.9141\n"
     ]
    }
   ],
   "source": [
    "# 아담 옵티마이저\n",
    "# 아담 = Adaptive MomentEstimation\n",
    "# 손실함수의 값이 최적값에 가까워질수록 학습률을 낮춰 손실 함수의 값이 안정적으로 수렴될 수 있게 해줍니다.\n",
    "\n",
    "history = conv1.fit(x_train, y_train_encoded, epochs=20, validation_data=(x_val, y_val_encoded))"
   ]
  },
  {
   "cell_type": "code",
   "execution_count": 46,
   "metadata": {
    "colab": {
     "base_uri": "https://localhost:8080/",
     "height": 549
    },
    "colab_type": "code",
    "id": "XIw5FOG4WLSP",
    "outputId": "d8528eb4-8177-4451-fcd7-20d6c7278d30"
   },
   "outputs": [
    {
     "data": {
      "image/png": "[encoded data removed]",
      "text/plain": [
       "<Figure size 432x288 with 1 Axes>"
      ]
     },
     "metadata": {
      "tags": []
     },
     "output_type": "display_data"
    },
    {
     "data": {
      "image/png": "[encoded data removed]",
      "text/plain": [
       "<Figure size 432x288 with 1 Axes>"
      ]
     },
     "metadata": {
      "tags": []
     },
     "output_type": "display_data"
    }
   ],
   "source": [
    "plt.plot(history.history['loss'])\n",
    "plt.plot(history.history['val_loss'])\n",
    "plt.ylabel('loss')\n",
    "plt.xlabel('epoch')\n",
    "plt.legend(['train_loss', 'val_loss'])\n",
    "plt.show()\n",
    "\n",
    "plt.plot(history.history['accuracy'])\n",
    "plt.plot(history.history['val_accuracy'])\n",
    "plt.ylabel('accuracy') #오타 loss -> accuracy\n",
    "plt.xlabel('epoch')\n",
    "plt.legend(['train_accuracy', 'val_accuracy']) #그래프 그림 오타 train_loss -> accuracy\n",
    "plt.show()\n"
   ]
  },
  {
   "cell_type": "markdown",
   "metadata": {
    "colab_type": "text",
    "id": "0TKgdIBgTLTy"
   },
   "source": [
    "정확도는 크게 향상되었으나 val_loss 가 크게 증가하는거 + train_accuracy와 val_accuracy 차이가 커지는걸로 봐서 과대적합이 발생했음을 알 수 있습니다. 그렇다면 이 과대 적합을 없애려면 어떻게 해야할까요\n",
    "\n",
    "### 드롭아웃을 알아봅니다.\n",
    "\n",
    "일부 뉴런을 랜덤적으로 제외하여 훈련을 시키면 모든 뉴런이 고르게 훈련되어 타깃을 잘 예측하는 일부 뉴런에 과도하게 의존하지 않고 모든 뉴런이 의미 있는 패턴을 학습합니다. 드롭아웃은 훈련에만 적용되므로 테스트나 실전에서는 사용하지 않습니다.\n",
    "다만 뉴런이 제외되면 훈련 때의 출력값이 테스트나 실전에서는 훈련 때보다 커지게 되므로 테스트나 실전에서는 출력값을 낮춰야 하는데 텐서플로에서는 오히려 훈련할 때 출력값을 드롭아웃 비율만큼 올려서 이 문제를 해결합니다."
   ]
  },
  {
   "cell_type": "code",
   "execution_count": 0,
   "metadata": {
    "colab": {},
    "colab_type": "code",
    "id": "G8dpEpNRSuSA"
   },
   "outputs": [],
   "source": [
    "from tensorflow.keras.layers import Dropout\n",
    "\n",
    "conv2 = tf.keras.Sequential()\n",
    "conv2.add(Conv2D(10, (3, 3), activation='relu', padding='same', input_shape=(28, 28, 1)))\n",
    "conv2.add(MaxPooling2D((2,2)))\n",
    "conv2.add(Flatten())\n",
    "conv2.add(Dropout(0.5))\n",
    "conv2.add(Dense(100, activation='relu'))\n",
    "conv2.add(Dense(10, activation='softmax'))"
   ]
  },
  {
   "cell_type": "code",
   "execution_count": 48,
   "metadata": {
    "colab": {
     "base_uri": "https://localhost:8080/",
     "height": 377
    },
    "colab_type": "code",
    "id": "IBYVke6mX5Ue",
    "outputId": "030902ff-c446-4df6-b20f-35a324e1b21a"
   },
   "outputs": [
    {
     "name": "stdout",
     "output_type": "stream",
     "text": [
      "Model: \"sequential_1\"\n",
      "_________________________________________________________________\n",
      "Layer (type)                 Output Shape              Param #   \n",
      "=================================================================\n",
      "conv2d_1 (Conv2D)            (None, 28, 28, 10)        100       \n",
      "_________________________________________________________________\n",
      "max_pooling2d_1 (MaxPooling2 (None, 14, 14, 10)        0         \n",
      "_________________________________________________________________\n",
      "flatten_1 (Flatten)          (None, 1960)              0         \n",
      "_________________________________________________________________\n",
      "dropout (Dropout)            (None, 1960)              0         \n",
      "_________________________________________________________________\n",
      "dense_2 (Dense)              (None, 100)               196100    \n",
      "_________________________________________________________________\n",
      "dense_3 (Dense)              (None, 10)                1010      \n",
      "=================================================================\n",
      "Total params: 197,210\n",
      "Trainable params: 197,210\n",
      "Non-trainable params: 0\n",
      "_________________________________________________________________\n"
     ]
    }
   ],
   "source": [
    "conv2.summary()"
   ]
  },
  {
   "cell_type": "code",
   "execution_count": 49,
   "metadata": {
    "colab": {
     "base_uri": "https://localhost:8080/",
     "height": 755
    },
    "colab_type": "code",
    "id": "LNbpRgayX6xY",
    "outputId": "b6b63637-1316-4546-bd74-a39b3adf47e9"
   },
   "outputs": [
    {
     "name": "stdout",
     "output_type": "stream",
     "text": [
      "Train on 48000 samples, validate on 12000 samples\n",
      "Epoch 1/20\n",
      "48000/48000 [==============================] - 62s 1ms/sample - loss: 0.5088 - accuracy: 0.8161 - val_loss: 0.3565 - val_accuracy: 0.8713\n",
      "Epoch 2/20\n",
      "48000/48000 [==============================] - 27s 558us/sample - loss: 0.3761 - accuracy: 0.8614 - val_loss: 0.3083 - val_accuracy: 0.8941\n",
      "Epoch 3/20\n",
      "48000/48000 [==============================] - 27s 563us/sample - loss: 0.3351 - accuracy: 0.8786 - val_loss: 0.2986 - val_accuracy: 0.8922\n",
      "Epoch 4/20\n",
      "48000/48000 [==============================] - 27s 570us/sample - loss: 0.3077 - accuracy: 0.8850 - val_loss: 0.2665 - val_accuracy: 0.9043\n",
      "Epoch 5/20\n",
      "48000/48000 [==============================] - 27s 559us/sample - loss: 0.2860 - accuracy: 0.8944 - val_loss: 0.2581 - val_accuracy: 0.9066\n",
      "Epoch 6/20\n",
      "48000/48000 [==============================] - 26s 535us/sample - loss: 0.2664 - accuracy: 0.9005 - val_loss: 0.2486 - val_accuracy: 0.9103\n",
      "Epoch 7/20\n",
      "48000/48000 [==============================] - 27s 565us/sample - loss: 0.2586 - accuracy: 0.9037 - val_loss: 0.2514 - val_accuracy: 0.9084\n",
      "Epoch 8/20\n",
      "48000/48000 [==============================] - 27s 568us/sample - loss: 0.2503 - accuracy: 0.9071 - val_loss: 0.2376 - val_accuracy: 0.9141\n",
      "Epoch 9/20\n",
      "48000/48000 [==============================] - 27s 560us/sample - loss: 0.2365 - accuracy: 0.9116 - val_loss: 0.2347 - val_accuracy: 0.9155\n",
      "Epoch 10/20\n",
      "48000/48000 [==============================] - 28s 580us/sample - loss: 0.2289 - accuracy: 0.9142 - val_loss: 0.2309 - val_accuracy: 0.9169\n",
      "Epoch 11/20\n",
      "48000/48000 [==============================] - 28s 574us/sample - loss: 0.2208 - accuracy: 0.9174 - val_loss: 0.2298 - val_accuracy: 0.9185\n",
      "Epoch 12/20\n",
      "48000/48000 [==============================] - 27s 562us/sample - loss: 0.2149 - accuracy: 0.9187 - val_loss: 0.2288 - val_accuracy: 0.9169\n",
      "Epoch 13/20\n",
      "48000/48000 [==============================] - 27s 566us/sample - loss: 0.2079 - accuracy: 0.9212 - val_loss: 0.2263 - val_accuracy: 0.9185\n",
      "Epoch 14/20\n",
      "48000/48000 [==============================] - 27s 558us/sample - loss: 0.2035 - accuracy: 0.9233 - val_loss: 0.2268 - val_accuracy: 0.9187\n",
      "Epoch 15/20\n",
      "48000/48000 [==============================] - 27s 564us/sample - loss: 0.1979 - accuracy: 0.9236 - val_loss: 0.2297 - val_accuracy: 0.9196\n",
      "Epoch 16/20\n",
      "48000/48000 [==============================] - 27s 572us/sample - loss: 0.1943 - accuracy: 0.9272 - val_loss: 0.2316 - val_accuracy: 0.9172\n",
      "Epoch 17/20\n",
      "48000/48000 [==============================] - 27s 571us/sample - loss: 0.1909 - accuracy: 0.9278 - val_loss: 0.2255 - val_accuracy: 0.9224\n",
      "Epoch 18/20\n",
      "48000/48000 [==============================] - 27s 570us/sample - loss: 0.1844 - accuracy: 0.9290 - val_loss: 0.2218 - val_accuracy: 0.9226\n",
      "Epoch 19/20\n",
      "48000/48000 [==============================] - 27s 558us/sample - loss: 0.1807 - accuracy: 0.9316 - val_loss: 0.2303 - val_accuracy: 0.9201\n",
      "Epoch 20/20\n",
      "48000/48000 [==============================] - 27s 556us/sample - loss: 0.1768 - accuracy: 0.9334 - val_loss: 0.2290 - val_accuracy: 0.9210\n"
     ]
    }
   ],
   "source": [
    "conv2.compile(optimizer='adam', loss='categorical_crossentropy',\n",
    "             metrics=['accuracy'])\n",
    "history = conv2.fit(x_train, y_train_encoded, epochs=20, validation_data=(x_val, y_val_encoded))"
   ]
  },
  {
   "cell_type": "code",
   "execution_count": 50,
   "metadata": {
    "colab": {
     "base_uri": "https://localhost:8080/",
     "height": 549
    },
    "colab_type": "code",
    "id": "h4H0JJWzYhdh",
    "outputId": "4ff509a8-3a66-4e17-d4f3-fc45f1a59135"
   },
   "outputs": [
    {
     "data": {
      "image/png": "[encoded data removed]",
      "text/plain": [
       "<Figure size 432x288 with 1 Axes>"
      ]
     },
     "metadata": {
      "tags": []
     },
     "output_type": "display_data"
    },
    {
     "data": {
      "image/png": "[encoded data removed]",
      "text/plain": [
       "<Figure size 432x288 with 1 Axes>"
      ]
     },
     "metadata": {
      "tags": []
     },
     "output_type": "display_data"
    }
   ],
   "source": [
    "plt.plot(history.history['loss'])\n",
    "plt.plot(history.history['val_loss'])\n",
    "plt.ylabel('loss')\n",
    "plt.xlabel('epoch')\n",
    "plt.legend(['train_loss', 'val_loss'])\n",
    "plt.show()\n",
    "\n",
    "plt.plot(history.history['accuracy'])\n",
    "plt.plot(history.history['val_accuracy'])\n",
    "plt.ylabel('accuracy') #오타 loss -> accuracy\n",
    "plt.xlabel('epoch')\n",
    "plt.legend(['train_accuracy', 'val_accuracy']) #그래프 그림 오타 train_loss -> accuracy\n",
    "plt.show()\n"
   ]
  },
  {
   "cell_type": "markdown",
   "metadata": {
    "colab_type": "text",
    "id": "GeefvFpQdWYO"
   },
   "source": [
    "정확도 격차도 줄어들고 validation 의 loss값도 수렴하고 있는 것을 확인 할 수 있습니다."
   ]
  },
  {
   "cell_type": "code",
   "execution_count": 0,
   "metadata": {
    "colab": {},
    "colab_type": "code",
    "id": "_KfFmXGrdUfe"
   },
   "outputs": [],
   "source": []
  }
 ],
 "metadata": {
  "colab": {
   "collapsed_sections": [],
   "name": "Chapter8.ipynb",
   "provenance": []
  },
  "kernelspec": {
   "display_name": "Python 3",
   "language": "python",
   "name": "python3"
  },
  "language_info": {
   "codemirror_mode": {
    "name": "ipython",
    "version": 3
   },
   "file_extension": ".py",
   "mimetype": "text/x-python",
   "name": "python",
   "nbconvert_exporter": "python",
   "pygments_lexer": "ipython3",
   "version": "3.7.3"
  }
 },
 "nbformat": 4,
 "nbformat_minor": 1
}
