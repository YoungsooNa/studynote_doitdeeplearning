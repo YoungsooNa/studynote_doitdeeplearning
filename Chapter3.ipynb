{
 "cells": [
  {
   "cell_type": "markdown",
   "metadata": {
    "colab_type": "text",
    "id": "CS12-y_SkGFj"
   },
   "source": [
    "# 머신러닝의 기초를 다집니다 - 수치예측\n",
    "## 03-1 선형 회귀에 대해 알아보고 데이터를 준비합니다.\n",
    "\n",
    "선형회귀는 기울기와 절편을 찾아줍니다.\n",
    "데이터를 오차율이 가장 적게 지나가는 직선의 기울기와 절편을 찾고 이를 통해 특정 데이터가 주어졌을 때 결과를 예측할 수 있습니다.\n",
    "\n",
    "사이킷런에서 당뇨병 환자 데이터 가져오기"
   ]
  },
  {
   "cell_type": "code",
   "execution_count": 0,
   "metadata": {
    "colab": {},
    "colab_type": "code",
    "id": "fv105-ZOkpMx"
   },
   "outputs": [],
   "source": [
    "from sklearn.datasets import load_diabetes\n",
    "diabetes = load_diabetes()"
   ]
  },
  {
   "cell_type": "markdown",
   "metadata": {
    "colab_type": "text",
    "id": "z-HjwV4nk5w4"
   },
   "source": [
    "diabetes 변수에 저장된 값은 dictionary 와 유사한 Bunch 클래스\n",
    "\n",
    "입력과 타깃 데이터의 크기 확인하기"
   ]
  },
  {
   "cell_type": "code",
   "execution_count": 0,
   "metadata": {
    "colab": {
     "base_uri": "https://localhost:8080/",
     "height": 34
    },
    "colab_type": "code",
    "id": "b_Qe1Ly0k_vk",
    "outputId": "3ac573fa-8ce6-4471-e39e-ab689c595d3d"
   },
   "outputs": [
    {
     "name": "stdout",
     "output_type": "stream",
     "text": [
      "(442, 10) (442,)\n"
     ]
    }
   ],
   "source": [
    "print(diabetes.data.shape, diabetes.target.shape)"
   ]
  },
  {
   "cell_type": "code",
   "execution_count": 0,
   "metadata": {
    "colab": {
     "base_uri": "https://localhost:8080/",
     "height": 122
    },
    "colab_type": "code",
    "id": "tYrrZinslGFl",
    "outputId": "a43e88dc-dacc-457d-a793-7b2b0c4f857c"
   },
   "outputs": [
    {
     "data": {
      "text/plain": [
       "array([[ 0.03807591,  0.05068012,  0.06169621,  0.02187235, -0.0442235 ,\n",
       "        -0.03482076, -0.04340085, -0.00259226,  0.01990842, -0.01764613],\n",
       "       [-0.00188202, -0.04464164, -0.05147406, -0.02632783, -0.00844872,\n",
       "        -0.01916334,  0.07441156, -0.03949338, -0.06832974, -0.09220405],\n",
       "       [ 0.08529891,  0.05068012,  0.04445121, -0.00567061, -0.04559945,\n",
       "        -0.03419447, -0.03235593, -0.00259226,  0.00286377, -0.02593034]])"
      ]
     },
     "execution_count": 3,
     "metadata": {
      "tags": []
     },
     "output_type": "execute_result"
    }
   ],
   "source": [
    "#입력 데이터 자세히 보기\n",
    "diabetes.data[0:3]"
   ]
  },
  {
   "cell_type": "markdown",
   "metadata": {
    "colab_type": "text",
    "id": "lLaPZHx2lhWP"
   },
   "source": [
    "실무에서는 데이터 준비에 많은 공을 들입니다.\n",
    "\n",
    "## 당노병 환자 데이터 시각화 하기\n",
    "\n",
    "1. 맷플롯립의 scatter() 함수로 산점도 그리기\n"
   ]
  },
  {
   "cell_type": "code",
   "execution_count": 3,
   "metadata": {
    "colab": {
     "base_uri": "https://localhost:8080/",
     "height": 269
    },
    "colab_type": "code",
    "id": "M7jw7HMAlfhY",
    "outputId": "beda5ac5-b3dc-405b-deb0-99d23cd90da8"
   },
   "outputs": [
    {
     "data": {
      "image/png": "[encoded data removed]",
      "text/plain": [
       "<Figure size 432x288 with 1 Axes>"
      ]
     },
     "metadata": {
      "tags": []
     },
     "output_type": "display_data"
    }
   ],
   "source": [
    "import matplotlib.pyplot as plt\n",
    "\n",
    "plt.scatter(diabetes.data[:, 2], diabetes.target)\n",
    "plt.show()"
   ]
  },
  {
   "cell_type": "markdown",
   "metadata": {
    "colab_type": "text",
    "id": "IgaLnq_Wl_t9"
   },
   "source": [
    "그래프를 보면 data의 3번째 항목과 y의 값이 양의 상관 관례를 보임을 알 수 있다. 따라서 우리는 data의 3번째 황목과 y를 통해 선형 회귀를 실행할 것이다."
   ]
  },
  {
   "cell_type": "code",
   "execution_count": 0,
   "metadata": {
    "colab": {},
    "colab_type": "code",
    "id": "FtHWdCI2l57N"
   },
   "outputs": [],
   "source": [
    "x = diabetes.data[:, 2]\n",
    "y = diabetes.target"
   ]
  },
  {
   "cell_type": "markdown",
   "metadata": {
    "colab_type": "text",
    "id": "agUlMBqMnJCB"
   },
   "source": [
    "훈련 데이터에 잘 맞는 w와 b를 찾는 방법\n",
    "\n",
    "1. 무작위로 w와 b를 정합니다.\n",
    "2. x에서 샘플 하나를 선택해서 y-hat 을 구합니다.\n",
    "3. y-hat과 진짜 y를 비교합니다.\n",
    "4. y-hat 과 y가 더 가까워지도록 w, b를 조정합니다.\n",
    "5. 모든 샘플을 처리할 때까지 2~4 항목을 반복합니다."
   ]
  },
  {
   "cell_type": "code",
   "execution_count": 0,
   "metadata": {
    "colab": {},
    "colab_type": "code",
    "id": "RjcymCP3mOVn"
   },
   "outputs": [],
   "source": [
    "w = 1.0\n",
    "b = 1.0"
   ]
  },
  {
   "cell_type": "code",
   "execution_count": 0,
   "metadata": {
    "colab": {
     "base_uri": "https://localhost:8080/",
     "height": 34
    },
    "colab_type": "code",
    "id": "n5hk-kKPndC8",
    "outputId": "7368be8b-4386-4282-b75c-8ea540edc81c"
   },
   "outputs": [
    {
     "name": "stdout",
     "output_type": "stream",
     "text": [
      "1.0616962065186886\n"
     ]
    }
   ],
   "source": [
    "y_hat = x[0] * w + b\n",
    "print(y_hat)"
   ]
  },
  {
   "cell_type": "code",
   "execution_count": 0,
   "metadata": {
    "colab": {
     "base_uri": "https://localhost:8080/",
     "height": 34
    },
    "colab_type": "code",
    "id": "DB9WlS9dnh0M",
    "outputId": "0037ec7a-0077-4074-b315-8cfc6ffea289"
   },
   "outputs": [
    {
     "name": "stdout",
     "output_type": "stream",
     "text": [
      "151.0\n"
     ]
    }
   ],
   "source": [
    "print(y[0])"
   ]
  },
  {
   "cell_type": "code",
   "execution_count": 0,
   "metadata": {
    "colab": {
     "base_uri": "https://localhost:8080/",
     "height": 34
    },
    "colab_type": "code",
    "id": "3BBQLq5Hni_R",
    "outputId": "ca7fe5a4-2c4c-4269-eb05-7c371e5985f2"
   },
   "outputs": [
    {
     "name": "stdout",
     "output_type": "stream",
     "text": [
      "1.0678658271705574\n"
     ]
    }
   ],
   "source": [
    "w_inc = w + 0.1\n",
    "y_hat_inc = x[0] * w_inc + b\n",
    "print(y_hat_inc)"
   ]
  },
  {
   "cell_type": "code",
   "execution_count": 0,
   "metadata": {
    "colab": {
     "base_uri": "https://localhost:8080/",
     "height": 34
    },
    "colab_type": "code",
    "id": "BkILQy4dnrFO",
    "outputId": "a3051ec3-7208-4783-e9ed-47f9dbb0b83e"
   },
   "outputs": [
    {
     "name": "stdout",
     "output_type": "stream",
     "text": [
      "0.061696206518688734\n"
     ]
    }
   ],
   "source": [
    "w_rate = (y_hat_inc - y_hat) / (w_inc - w)\n",
    "print(w_rate)"
   ]
  },
  {
   "cell_type": "markdown",
   "metadata": {
    "colab_type": "text",
    "id": "wfLvmnL7oXyo"
   },
   "source": [
    "이렇게 변화 시킬 수 있지만 문제점이 많다. 이를 오차 역전파(backpropagation)를 통해서 더 적절하게 업데이트 할 수 있다.\n",
    "\n",
    "1. 오차와 변화율을 곱하여 가중치 업데이트하기"
   ]
  },
  {
   "cell_type": "code",
   "execution_count": 0,
   "metadata": {
    "colab": {
     "base_uri": "https://localhost:8080/",
     "height": 34
    },
    "colab_type": "code",
    "id": "HyMmNITPorll",
    "outputId": "ccacbd89-c14f-4ead-9566-a1c5b34f7807"
   },
   "outputs": [
    {
     "name": "stdout",
     "output_type": "stream",
     "text": [
      "10.250624555904514 150.9383037934813\n"
     ]
    }
   ],
   "source": [
    "err = y[0] - y_hat\n",
    "w_new = w + w_rate*err\n",
    "b_new = b + 1*err\n",
    "print(w_new, b_new)"
   ]
  },
  {
   "cell_type": "code",
   "execution_count": 0,
   "metadata": {
    "colab": {
     "base_uri": "https://localhost:8080/",
     "height": 34
    },
    "colab_type": "code",
    "id": "gk3UHq6wo2vn",
    "outputId": "7de5a827-b1a2-4b7b-9f1e-a9c5bca6328e"
   },
   "outputs": [
    {
     "name": "stdout",
     "output_type": "stream",
     "text": [
      "14.132317616381767 75.52764127612664\n"
     ]
    }
   ],
   "source": [
    "y_hat = x[1] * w_new + b_new\n",
    "err = y[1] - y_hat\n",
    "w_rate = x[1]\n",
    "w_new = w_new + w_rate*err\n",
    "b_new = b_new + 1*err\n",
    "print(w_new,b_new) "
   ]
  },
  {
   "cell_type": "code",
   "execution_count": 0,
   "metadata": {
    "colab": {
     "base_uri": "https://localhost:8080/",
     "height": 34
    },
    "colab_type": "code",
    "id": "p_DYdz2kpVIs",
    "outputId": "6524efa3-bb50-42b0-ca7e-532b236ca2da"
   },
   "outputs": [
    {
     "name": "stdout",
     "output_type": "stream",
     "text": [
      "587.8654539985689 99.40935564531424\n"
     ]
    }
   ],
   "source": [
    "w=1.0\n",
    "b=1.0\n",
    "for x_i, y_i in zip(x,y):\n",
    "  y_hat = x_i* w + b\n",
    "  err = y_i - y_hat\n",
    "  w_rate = x_i\n",
    "  w = w + w_rate*err\n",
    "  b = b + 1 * err\n",
    "\n",
    "print(w, b)"
   ]
  },
  {
   "cell_type": "code",
   "execution_count": 0,
   "metadata": {
    "colab": {
     "base_uri": "https://localhost:8080/",
     "height": 283
    },
    "colab_type": "code",
    "id": "ODcCuZtPpouX",
    "outputId": "40737c38-bc33-404c-b921-c0122830d2fe"
   },
   "outputs": [
    {
     "data": {
      "image/png": "[encoded data removed]",
      "text/plain": [
       "<Figure size 432x288 with 1 Axes>"
      ]
     },
     "metadata": {
      "tags": []
     },
     "output_type": "display_data"
    }
   ],
   "source": [
    "plt.scatter(x,y)\n",
    "pt1 = (-0.1, -0.1*w + b)\n",
    "pt2 = (0.15, 0.15*w + b)\n",
    "\n",
    "plt.plot([pt1[0],pt2[0]],[pt1[1],pt2[1]])\n",
    "plt.xlabel('x')\n",
    "plt.ylabel('y')\n",
    "plt.show()"
   ]
  },
  {
   "cell_type": "code",
   "execution_count": 0,
   "metadata": {
    "colab": {
     "base_uri": "https://localhost:8080/",
     "height": 34
    },
    "colab_type": "code",
    "id": "tD547O7PqxY1",
    "outputId": "519f92df-afff-4c59-afc5-750e33f52c14"
   },
   "outputs": [
    {
     "name": "stdout",
     "output_type": "stream",
     "text": [
      "913.5973364345905 123.39414383177204\n"
     ]
    }
   ],
   "source": [
    "w=1.0\n",
    "b=1.0\n",
    "for i in range(1, 100) :\n",
    "  for x_i, y_i in zip(x,y):\n",
    "    y_hat = x_i* w + b\n",
    "    err = y_i - y_hat\n",
    "    w_rate = x_i\n",
    "    w = w + w_rate*err\n",
    "    b = b + 1 * err\n",
    "\n",
    "print(w, b)"
   ]
  },
  {
   "cell_type": "code",
   "execution_count": 0,
   "metadata": {
    "colab": {
     "base_uri": "https://localhost:8080/",
     "height": 283
    },
    "colab_type": "code",
    "id": "lihuWZ2PrEH-",
    "outputId": "5ed869ee-3967-4db2-9fa2-245b1da9977e"
   },
   "outputs": [
    {
     "data": {
      "image/png": "[encoded data removed]",
      "text/plain": [
       "<Figure size 432x288 with 1 Axes>"
      ]
     },
     "metadata": {
      "tags": []
     },
     "output_type": "display_data"
    }
   ],
   "source": [
    "plt.scatter(x,y)\n",
    "pt1 = (-0.1, -0.1*w + b)\n",
    "pt2 = (0.15, 0.15*w + b)\n",
    "\n",
    "plt.plot([pt1[0],pt2[0]],[pt1[1],pt2[1]])\n",
    "plt.xlabel('x')\n",
    "plt.ylabel('y')\n",
    "plt.show()"
   ]
  },
  {
   "cell_type": "code",
   "execution_count": 0,
   "metadata": {
    "colab": {
     "base_uri": "https://localhost:8080/",
     "height": 34
    },
    "colab_type": "code",
    "id": "xxkj0u1-rEuU",
    "outputId": "8c372295-1f92-4ee0-cf9b-110fe887540d"
   },
   "outputs": [
    {
     "name": "stdout",
     "output_type": "stream",
     "text": [
      "287.8416643899983\n"
     ]
    }
   ],
   "source": [
    "x_new = 0.18\n",
    "y_pred = x_new*w + b\n",
    "print(y_pred)"
   ]
  },
  {
   "cell_type": "code",
   "execution_count": 0,
   "metadata": {
    "colab": {
     "base_uri": "https://localhost:8080/",
     "height": 269
    },
    "colab_type": "code",
    "id": "E7ND9ryIrNAc",
    "outputId": "57f16b54-dada-45c3-dd94-2f6ddc25ed62"
   },
   "outputs": [
    {
     "data": {
      "image/png": "[encoded data removed]",
      "text/plain": [
       "<Figure size 432x288 with 1 Axes>"
      ]
     },
     "metadata": {
      "tags": []
     },
     "output_type": "display_data"
    }
   ],
   "source": [
    "plt.scatter(x,y)\n",
    "plt.scatter(x_new,y_pred)\n",
    "plt.show()"
   ]
  },
  {
   "cell_type": "markdown",
   "metadata": {
    "colab_type": "text",
    "id": "YK3WaRcGKdbs"
   },
   "source": [
    "지금까지 배운 경사 하강법 알고리즘을 Neuron 이라는 이름의 파이썬 클래스로 만들어 보겠습니다."
   ]
  },
  {
   "cell_type": "code",
   "execution_count": 0,
   "metadata": {
    "colab": {},
    "colab_type": "code",
    "id": "9kIBja34rWEb"
   },
   "outputs": [],
   "source": [
    "class Neuron:\n",
    "  \n",
    "  def __init__(self):\n",
    "    self.w = 1.0\n",
    "    self.b = 1.0\n",
    "   \n",
    "  def forpass(self,x):\n",
    "    return x * self.w + self.b #return w_hat\n",
    "  \n",
    "  def backprop(self, x, err):\n",
    "    return x*err, 1*err #return w_grad, b_grad\n",
    "  \n",
    "  def fit(self, x, y, epochs=100):\n",
    "    for i in range(epochs):\n",
    "      for x_i, y_i in zip(x, y):\n",
    "        y_hat = self.forpass(x_i)\n",
    "        err = -(y_i - y_hat)\n",
    "        w_grad, b_grad = self.backprop(x_i, err)\n",
    "        self.w -= w_grad\n",
    "        self.b -= b_grad\n",
    "        "
   ]
  },
  {
   "cell_type": "code",
   "execution_count": 0,
   "metadata": {
    "colab": {},
    "colab_type": "code",
    "id": "DUgun4N9U-z_"
   },
   "outputs": [],
   "source": [
    "neuron = Neuron()\n",
    "neuron.fit(x,y)"
   ]
  },
  {
   "cell_type": "code",
   "execution_count": 6,
   "metadata": {
    "colab": {
     "base_uri": "https://localhost:8080/",
     "height": 269
    },
    "colab_type": "code",
    "id": "jxhbovr0VL1I",
    "outputId": "5d55ed37-f99d-4a39-fd6b-57e9d93c1b5a"
   },
   "outputs": [
    {
     "data": {
      "image/png": "[encoded data removed]",
      "text/plain": [
       "<Figure size 432x288 with 1 Axes>"
      ]
     },
     "metadata": {
      "tags": []
     },
     "output_type": "display_data"
    }
   ],
   "source": [
    "plt.scatter(x,y)\n",
    "pt1 = (-0.1,-0.1*neuron.w + neuron.b )\n",
    "pt2 = (0.15,0.15*neuron.w + neuron.b )\n",
    "plt.plot([pt1[0],pt2[0]],[pt1[1],pt2[1]])\n",
    "plt.show()"
   ]
  },
  {
   "cell_type": "code",
   "execution_count": 0,
   "metadata": {
    "colab": {},
    "colab_type": "code",
    "id": "YSQnAnLaVfmw"
   },
   "outputs": [],
   "source": [
    "neuron.fit(x,y,1000)"
   ]
  },
  {
   "cell_type": "code",
   "execution_count": 8,
   "metadata": {
    "colab": {
     "base_uri": "https://localhost:8080/",
     "height": 269
    },
    "colab_type": "code",
    "id": "vFnI8OMiVjBw",
    "outputId": "3d4ee710-ac68-4153-b8e7-92d4326bad2b"
   },
   "outputs": [
    {
     "data": {
      "image/png": "[encoded data removed]",
      "text/plain": [
       "<Figure size 432x288 with 1 Axes>"
      ]
     },
     "metadata": {
      "tags": []
     },
     "output_type": "display_data"
    }
   ],
   "source": [
    "plt.scatter(x,y)\n",
    "pt1 = (-0.1,-0.1*neuron.w + neuron.b )\n",
    "pt2 = (0.15,0.15*neuron.w + neuron.b )\n",
    "plt.plot([pt1[0],pt2[0]],[pt1[1],pt2[1]])\n",
    "plt.show()"
   ]
  },
  {
   "cell_type": "code",
   "execution_count": 9,
   "metadata": {
    "colab": {
     "base_uri": "https://localhost:8080/",
     "height": 35
    },
    "colab_type": "code",
    "id": "r11P0-u6Vl7Y",
    "outputId": "1427ea7e-be0d-44d2-aec5-3b72ee6c8939"
   },
   "outputs": [
    {
     "data": {
      "text/plain": [
       "913.5973364345905"
      ]
     },
     "execution_count": 9,
     "metadata": {
      "tags": []
     },
     "output_type": "execute_result"
    }
   ],
   "source": [
    "neuron.w"
   ]
  },
  {
   "cell_type": "code",
   "execution_count": 0,
   "metadata": {
    "colab": {},
    "colab_type": "code",
    "id": "kkOel5I4VsWI"
   },
   "outputs": [],
   "source": []
  }
 ],
 "metadata": {
  "colab": {
   "collapsed_sections": [],
   "name": "Chapter3.ipynb",
   "provenance": []
  },
  "kernelspec": {
   "display_name": "Python 3",
   "language": "python",
   "name": "python3"
  },
  "language_info": {
   "codemirror_mode": {
    "name": "ipython",
    "version": 3
   },
   "file_extension": ".py",
   "mimetype": "text/x-python",
   "name": "python",
   "nbconvert_exporter": "python",
   "pygments_lexer": "ipython3",
   "version": "3.7.3"
  }
 },
 "nbformat": 4,
 "nbformat_minor": 1
}
